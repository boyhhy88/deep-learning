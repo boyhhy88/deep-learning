{
 "cells": [
  {
   "cell_type": "markdown",
   "metadata": {
    "colab_type": "text",
    "id": "t2yoAReiLVfy"
   },
   "source": [
    "# Neural Machine Translation with Attention Model\n",
    "\n",
    "## 1. Introduction\n",
    "\n",
    "We will build a Neural Machine Translation (NMT) model to translate human readable dates (\"25th of June, 2009\") into machine readable dates (\"2009-06-25\"). We will do this using an attention model, one of the most sophisticated sequence to sequence models.\n",
    "\n",
    "The model we will build here could be used to translate from one language to another, such as translating from English to Hindi. However, language translation requires massive datasets and usually takes days of training on GPUs. To give us a place to experiment with these models even without using massive datasets, we will instead use a simpler \"date translation\" task. \n",
    "\n",
    "The network will input a date written in a variety of possible formats (*e.g. \"the 29th of August 1958\", \"03/30/1968\", \"24 JUNE 1987\"*) and translate them into standardized, machine readable dates (*e.g. \"1958-08-29\", \"1968-03-30\", \"1987-06-24\"*). We will have the network learn to output dates in the common machine-readable format YYYY-MM-DD.\n",
    "\n",
    "**LSTM**: Long Short-Term Memory unit. The output of an LSTM cell is called the hidden state. Each LSTM cell retains an internal state that is not output, called the cell state, or c."
   ]
  },
  {
   "cell_type": "code",
   "execution_count": 1,
   "metadata": {
    "colab": {
     "base_uri": "https://localhost:8080/",
     "height": 153
    },
    "colab_type": "code",
    "id": "nPPsGkWyLVf0",
    "outputId": "80756386-1333-4ef5-dd94-7cee487990b3"
   },
   "outputs": [
    {
     "name": "stdout",
     "output_type": "stream",
     "text": [
      "Collecting faker\n",
      "\u001b[?25l  Downloading https://files.pythonhosted.org/packages/67/ed/94a23058daff92545869848ccbcaeb826bc79c6ba4459c7df31ebe1f196d/Faker-2.0.1-py2.py3-none-any.whl (878kB)\n",
      "\u001b[K     |████████████████████████████████| 880kB 3.4MB/s \n",
      "\u001b[?25hRequirement already satisfied: text-unidecode==1.2 in /usr/local/lib/python3.6/dist-packages (from faker) (1.2)\n",
      "Requirement already satisfied: six>=1.10 in /usr/local/lib/python3.6/dist-packages (from faker) (1.12.0)\n",
      "Requirement already satisfied: python-dateutil>=2.4 in /usr/local/lib/python3.6/dist-packages (from faker) (2.5.3)\n",
      "Installing collected packages: faker\n",
      "Successfully installed faker-2.0.1\n"
     ]
    }
   ],
   "source": [
    "!pip install faker # install package on google colab"
   ]
  },
  {
   "cell_type": "code",
   "execution_count": 2,
   "metadata": {
    "colab": {
     "base_uri": "https://localhost:8080/",
     "height": 34
    },
    "colab_type": "code",
    "id": "K_R6gYxLLVf3",
    "outputId": "d75fa4ff-1189-4e22-8b2a-179330b75384"
   },
   "outputs": [
    {
     "name": "stderr",
     "output_type": "stream",
     "text": [
      "Using TensorFlow backend.\n"
     ]
    }
   ],
   "source": [
    "%matplotlib inline\n",
    "from tensorflow.python.util import deprecation\n",
    "deprecation._PRINT_DEPRECATION_WARNINGS = False\n",
    "import tensorflow as tf\n",
    "tf.compat.v1.logging.set_verbosity(tf.compat.v1.logging.ERROR)\n",
    "import matplotlib.pyplot as plt\n",
    "import numpy as np\n",
    "from datetime import date\n",
    "import random\n",
    "from tqdm import tqdm\n",
    "import pydot\n",
    "from IPython.display import SVG\n",
    "from faker import Faker # Faker is a Python package that generates fake data\n",
    "from babel.dates import format_date # for working with date and time information\n",
    "from pprint import pprint\n",
    "\n",
    "import keras.backend as K\n",
    "from keras.utils import to_categorical\n",
    "from keras.layers import RepeatVector, Concatenate, Dense, Activation, Dot, Input \n",
    "from keras.layers import LSTM, Bidirectional\n",
    "from keras.models import Model\n",
    "from keras.optimizers import Adam\n",
    "from keras.utils.vis_utils import model_to_dot"
   ]
  },
  {
   "cell_type": "code",
   "execution_count": 0,
   "metadata": {
    "colab": {},
    "colab_type": "code",
    "id": "lYGK3pvhLVf7"
   },
   "outputs": [],
   "source": [
    "Tx = 30 # maximum length of the human readable date\n",
    "Ty = 10 # maximum length of machine readable date (YYYY-MM-DD)\n",
    "m = 40000 # number of training examples to be generated\n",
    "\n",
    "n_a = 32 # dimension of the hidden state vector for the Bi-LSTM\n",
    "n_s = 64 # dimension of the hidden state vector for the post-attention LSTM"
   ]
  },
  {
   "cell_type": "markdown",
   "metadata": {
    "colab_type": "text",
    "id": "zdHqvHdxLVf9"
   },
   "source": [
    "## 2. Dataset Generation and Pre-Processing\n",
    "\n",
    "We will train the model on a dataset of m human readable dates and output their equivalent, standardized, machine readable dates.\n",
    "\n",
    "We will use Tx=30 (which we assume is the maximum length of the human readable date; if we get a longer input, we would have to truncate it) and Ty=10 (since \"YYYY-MM-DD\" is 10 characters long). "
   ]
  },
  {
   "cell_type": "markdown",
   "metadata": {
    "colab_type": "text",
    "id": "oyILg8IkLVf-"
   },
   "source": [
    "### 2.1 Dataset Generation"
   ]
  },
  {
   "cell_type": "markdown",
   "metadata": {
    "colab_type": "text",
    "id": "o6mN0nAVLVf_"
   },
   "source": [
    "Let's take a look at what different formats we will produce."
   ]
  },
  {
   "cell_type": "code",
   "execution_count": 4,
   "metadata": {
    "colab": {
     "base_uri": "https://localhost:8080/",
     "height": 187
    },
    "colab_type": "code",
    "id": "EEIoA3FpLVgA",
    "outputId": "e439d503-4d8d-4b7f-bced-90d8becb28e8"
   },
   "outputs": [
    {
     "name": "stdout",
     "output_type": "stream",
     "text": [
      "short: 8/8/18\n",
      "EEE: Wed\n",
      "EEEE: Wednesday\n",
      "d: 8\n",
      "dd: 08\n",
      "MM: 08\n",
      "MMM: Aug\n",
      "MMMM: August\n",
      "YY: 18\n",
      "YYYY: 2018\n"
     ]
    }
   ],
   "source": [
    "# show the meaning of different format names\n",
    "\n",
    "formats = ['short', 'EEE', 'EEEE', 'd', 'dd', 'MM', 'MMM', 'MMMM', 'YY', 'YYYY']\n",
    "dt = date(2018, 8, 8)\n",
    "for f in formats:\n",
    "    print(f + ': ', end = '')\n",
    "    human_readable = format_date(dt, format = f, locale = 'en_US')\n",
    "    print(human_readable, end = '')\n",
    "    print()    "
   ]
  },
  {
   "cell_type": "markdown",
   "metadata": {
    "colab_type": "text",
    "id": "Jr1tPoUdLVgD"
   },
   "source": [
    "Let's create our datesets."
   ]
  },
  {
   "cell_type": "code",
   "execution_count": 5,
   "metadata": {
    "colab": {
     "base_uri": "https://localhost:8080/",
     "height": 34
    },
    "colab_type": "code",
    "id": "yivBv4NZLVgE",
    "outputId": "61ee271a-e270-485f-889a-b25a67e4c028"
   },
   "outputs": [
    {
     "name": "stdout",
     "output_type": "stream",
     "text": [
      "The number of different human-readable formats we will create: 51\n"
     ]
    }
   ],
   "source": [
    "fake = Faker()\n",
    "# Calling the same methods with the same version of faker and seed produces the same results.\n",
    "fake.seed(12345)\n",
    "random.seed(12345)\n",
    "\n",
    "FORMATS_DM = [' d MMM ', ' d MMMM ', ' dd MMM ', ' dd MMMM ', \n",
    "              ' MMM d ', ' MMMM d ', ' MMM dd ', ' MMMM dd ',]\n",
    "FORMATS_DMY = [i + 'YYYY' for i in FORMATS_DM] + [i + 'YY' for i in FORMATS_DM]\n",
    "FORMATS_EDMY = ['EEE' + i for i in FORMATS_DMY] + ['EEEE' + i for i in FORMATS_DMY]\n",
    "FORMATS = ['short'] + FORMATS_DMY + FORMATS_EDMY + ['MM.dd.YY', 'MM.dd.YYYY']\n",
    "print('The number of different human-readable formats we will create: ' + str(len(FORMATS)))"
   ]
  },
  {
   "cell_type": "code",
   "execution_count": 0,
   "metadata": {
    "colab": {},
    "colab_type": "code",
    "id": "YIrvMoc5LVgH"
   },
   "outputs": [],
   "source": [
    "# function to generate a random date \n",
    "\n",
    "def generate_date():\n",
    "    \"\"\"\n",
    "    Generate a fake date\n",
    "    \n",
    "    Returns: a tuple including human readable string, machine readable string ('YYYY-MM-DD'), \n",
    "    and the corresponding python datetime.date object\n",
    "    \n",
    "    Note that the human readable string is converted to lower case with ',' removed.\n",
    "    \"\"\"\n",
    "    \n",
    "    # get a fake date object\n",
    "    dt = fake.date_object() # returns a python datetime.date object\n",
    "    \n",
    "    try:\n",
    "        human_readable = format_date(dt, format = random.choice(FORMATS), locale = 'en_US')\n",
    "        human_readable = human_readable.lower()\n",
    "        human_readable = human_readable.replace(',', '')\n",
    "        # Return a string representing the date in ISO 8601 format, ‘YYYY-MM-DD’. \n",
    "        machine_readable = dt.isoformat()\n",
    "    except AttributeError as e:\n",
    "        return None, None, None\n",
    "    \n",
    "    return human_readable, machine_readable, dt"
   ]
  },
  {
   "cell_type": "code",
   "execution_count": 0,
   "metadata": {
    "colab": {},
    "colab_type": "code",
    "id": "WKXwbnLXLVgJ"
   },
   "outputs": [],
   "source": [
    "# function to generate datasets\n",
    "\n",
    "def generate_dataset(m):\n",
    "    \"\"\"\n",
    "    Generate a dataset of m examples and volcabularies\n",
    "    \n",
    "    Arguments:\n",
    "    m: number of examples\n",
    "    \n",
    "    Returns:\n",
    "    dataset: a list of m tuples of (human readable date, machine readable date).\n",
    "    human_vocab: a python dictionary mapping all characters used in the human readable dates to an integer-valued index.\n",
    "    machine_vocab: a python dictionary mapping all characters used in machine readable dates to an integer-valued index. \n",
    "        These indices are not necessarily consistent with human_vocab.\n",
    "    inv_machine_vocab: the inverse dictionary of machine_vocab, mapping from indices back to characters.\n",
    "    \"\"\"\n",
    "        \n",
    "    human_set = set() # store all characters used in the human readable dates\n",
    "    machine_set = set() # store all characters used in the machine readable dates\n",
    "    \n",
    "    dataset = []\n",
    "    \n",
    "    for i in tqdm(range(m)):\n",
    "        human_readable, machine_readable, _ = generate_date()\n",
    "        if human_readable is not None:\n",
    "            dataset.append((human_readable, machine_readable))\n",
    "            human_set.update(tuple(human_readable))\n",
    "            machine_set.update(tuple(machine_readable))\n",
    "            \n",
    "    # add '<unk>' and '<pad>' for unknown and padded characters\n",
    "    human_vocab = dict(zip(sorted(human_set) + ['<unk>', '<pad>'], list(range(len(human_set) + 2)))) \n",
    "    machine_vocab = dict(zip(sorted(machine_set), list(range(len(machine_set))))) \n",
    "    inv_machine_vocab = {v:k for k,v in machine_vocab.items()}\n",
    "    \n",
    "    return dataset, human_vocab, machine_vocab, inv_machine_vocab"
   ]
  },
  {
   "cell_type": "code",
   "execution_count": 8,
   "metadata": {
    "colab": {
     "base_uri": "https://localhost:8080/",
     "height": 34
    },
    "colab_type": "code",
    "id": "5910lQilLVgM",
    "outputId": "24d20280-ca49-4a87-fd61-e17ebd7bb893"
   },
   "outputs": [
    {
     "name": "stderr",
     "output_type": "stream",
     "text": [
      "100%|██████████| 40000/40000 [00:01<00:00, 27818.00it/s]\n"
     ]
    }
   ],
   "source": [
    "# generate m datasets\n",
    "\n",
    "dataset, human_vocab, machine_vocab, inv_machine_vocab = generate_dataset(m)"
   ]
  },
  {
   "cell_type": "code",
   "execution_count": 9,
   "metadata": {
    "colab": {
     "base_uri": "https://localhost:8080/",
     "height": 374
    },
    "colab_type": "code",
    "id": "3pflLKe5LVgP",
    "outputId": "3dc741ec-623d-42f4-c16c-e73cd72eadff"
   },
   "outputs": [
    {
     "name": "stdout",
     "output_type": "stream",
     "text": [
      "Data set examples:\n",
      "[('sat 9 may 98', '1998-05-09'),\n",
      " ('thursday september 10 70', '1970-09-10'),\n",
      " ('4/28/90', '1990-04-28'),\n",
      " ('thu 26 jan 1995', '1995-01-26'),\n",
      " ('mon mar 07 1983', '1983-03-07'),\n",
      " (' 22 may 88', '1988-05-22'),\n",
      " ('tue 8 jul 2008', '2008-07-08'),\n",
      " ('wednesday 08 september 1999', '1999-09-08'),\n",
      " ('thu 01 jan 81', '1981-01-01'),\n",
      " (' 22 may 95', '1995-05-22'),\n",
      " ('fri jun 16 1978', '1978-06-16'),\n",
      " (' jun 18 1999', '1999-06-18'),\n",
      " ('thu 08 oct 87', '1987-10-08'),\n",
      " (' april 01 08', '2008-04-01'),\n",
      " ('thursday 06 sep 2012', '2012-09-06'),\n",
      " ('thursday november 12 1981', '1981-11-12'),\n",
      " (' 19 aug 11', '2011-08-19'),\n",
      " ('saturday aug 25 2007', '2007-08-25'),\n",
      " ('saturday 18 sep 1982', '1982-09-18'),\n",
      " (' 25 feb 94', '1994-02-25')]\n"
     ]
    }
   ],
   "source": [
    "# The pprint module provides a capability to “pretty-print” arbitrary Python data structures.\n",
    "print('Data set examples:')\n",
    "pprint(dataset[:20])"
   ]
  },
  {
   "cell_type": "code",
   "execution_count": 10,
   "metadata": {
    "colab": {
     "base_uri": "https://localhost:8080/",
     "height": 190
    },
    "colab_type": "code",
    "id": "70SshkM7LVgT",
    "outputId": "d41a2f6f-8cc4-4f8b-8b72-f9c3a0ed79f0"
   },
   "outputs": [
    {
     "name": "stdout",
     "output_type": "stream",
     "text": [
      "\n",
      "human_vocab:\n",
      "{' ': 0, '.': 1, '/': 2, '0': 3, '1': 4, '2': 5, '3': 6, '4': 7, '5': 8, '6': 9, '7': 10, '8': 11, '9': 12, 'a': 13, 'b': 14, 'c': 15, 'd': 16, 'e': 17, 'f': 18, 'g': 19, 'h': 20, 'i': 21, 'j': 22, 'l': 23, 'm': 24, 'n': 25, 'o': 26, 'p': 27, 'r': 28, 's': 29, 't': 30, 'u': 31, 'v': 32, 'w': 33, 'y': 34, '<unk>': 35, '<pad>': 36}\n",
      "\n",
      "machine_vocab:\n",
      "{'-': 0, '0': 1, '1': 2, '2': 3, '3': 4, '4': 5, '5': 6, '6': 7, '7': 8, '8': 9, '9': 10}\n",
      "\n",
      "inv_machine_vocab:\n",
      "{0: '-', 1: '0', 2: '1', 3: '2', 4: '3', 5: '4', 6: '5', 7: '6', 8: '7', 9: '8', 10: '9'}\n"
     ]
    }
   ],
   "source": [
    "print('\\nhuman_vocab:')\n",
    "print(human_vocab)\n",
    "print('\\nmachine_vocab:')\n",
    "print(machine_vocab)\n",
    "print('\\ninv_machine_vocab:')\n",
    "print(inv_machine_vocab)"
   ]
  },
  {
   "cell_type": "markdown",
   "metadata": {
    "colab_type": "text",
    "id": "X-4I4qaULVgW"
   },
   "source": [
    "### 2.2 Data Pre-Processing"
   ]
  },
  {
   "cell_type": "markdown",
   "metadata": {
    "colab_type": "text",
    "id": "h4W7wndSLVgX"
   },
   "source": [
    "Let's preprocess the data and map the raw text data into the index values.\n",
    "\n",
    "We will have:\n",
    "- `X`: a processed version of the human readable dates in the training set, where each character is replaced by an index mapped to the character via `human_vocab`. Each date is further padded to $T_x$ values with a special character (< pad >). `X.shape = (m, Tx)`\n",
    "- `Y`: a processed version of the machine readable dates in the training set, where each character is replaced by the index it is mapped to in `machine_vocab`. `Y.shape = (m, Ty)`. \n",
    "- `Xoh`: one-hot version of `X`, the \"1\" entry's index is mapped to the character thanks to `human_vocab`. `Xoh.shape = (m, Tx, len(human_vocab))`\n",
    "- `Yoh`: one-hot version of `Y`, the \"1\" entry's index is mapped to the character thanks to `machine_vocab`. `Yoh.shape = (m, Tx, len(machine_vocab))`. Here, `len(machine_vocab) = 11` since there are 11 characters ('-' as well as 0-9). \n"
   ]
  },
  {
   "cell_type": "code",
   "execution_count": 0,
   "metadata": {
    "colab": {},
    "colab_type": "code",
    "id": "DpksJmlGLVgY"
   },
   "outputs": [],
   "source": [
    "def string_to_ints(string, length, vocab):\n",
    "    \"\"\"\n",
    "    Convert the characters in string into a list of integer indices based on the dictionary\n",
    "    \n",
    "    Argument:\n",
    "    string: input string, e.g., 'Mon 3 Sep 2018'\n",
    "    length: the number of time steps, which determines if the input will be padded or cut\n",
    "    vocab: vocabulary, dictionary used to convert character to index\n",
    "    \n",
    "    Returns:\n",
    "    output: list of integers representing the indices of string's characters according to vocab\n",
    "    \"\"\"\n",
    "    \n",
    "    if len(string) > length:\n",
    "        string = string[:length]\n",
    "        \n",
    "    output = list(map(lambda x : vocab.get(x, vocab.get('<unk>')), tuple(string)))\n",
    "    \n",
    "    if len(string) < length:\n",
    "        output += [vocab['<pad>']] * (length - len(string))\n",
    "        \n",
    "    return output"
   ]
  },
  {
   "cell_type": "code",
   "execution_count": 0,
   "metadata": {
    "colab": {},
    "colab_type": "code",
    "id": "3QoERhPYLVga"
   },
   "outputs": [],
   "source": [
    "def preprocess_data(dataset, human_vocab, machine_vocab, Tx, Ty):\n",
    "    \"\"\"\n",
    "    Convert the characters in strings into one-hot vectors\n",
    "    \"\"\"\n",
    "    \n",
    "    human_readable, machine_readable = zip(*dataset) \n",
    "    \n",
    "    human_readable_ints = np.array([string_to_ints(string, Tx, human_vocab) for string in human_readable]) #(m, Tx)\n",
    "    machine_readable_ints = np.array([string_to_ints(string, Ty, machine_vocab) for string in machine_readable]) #(m, Ty)\n",
    "    \n",
    "    # map() applies the to_categorical() function to each of the m items.\n",
    "    human_readable_oh = np.array(list(map(lambda x : to_categorical(x, num_classes = len(human_vocab)), \n",
    "                                          human_readable_ints))) \n",
    "    machine_readable_oh = np.array(list(map(lambda x : to_categorical(x, num_classes = len(machine_vocab)), \n",
    "                                            machine_readable_ints)))\n",
    "    \n",
    "    return human_readable_ints, machine_readable_ints, human_readable_oh, machine_readable_oh "
   ]
  },
  {
   "cell_type": "code",
   "execution_count": 0,
   "metadata": {
    "colab": {},
    "colab_type": "code",
    "id": "STpywxCELVgd"
   },
   "outputs": [],
   "source": [
    "X, Y, Xoh, Yoh = preprocess_data(dataset, human_vocab, machine_vocab, Tx, Ty)"
   ]
  },
  {
   "cell_type": "code",
   "execution_count": 14,
   "metadata": {
    "colab": {
     "base_uri": "https://localhost:8080/",
     "height": 561
    },
    "colab_type": "code",
    "id": "WS7DgtLRLVgg",
    "outputId": "6f23ce54-b80e-4403-df4f-fc85b248ff92"
   },
   "outputs": [
    {
     "name": "stdout",
     "output_type": "stream",
     "text": [
      "X.shape (human readable): (40000, 30)\n",
      "Y.shape (machine readable): (40000, 10)\n",
      "Xoh.shape (one-hot): (40000, 30, 37)\n",
      "Yoh.shape (one-hot): (40000, 10, 11)\n",
      "\n",
      "Example 10: \n",
      "human readable date: fri jun 16 1978\n",
      "machine readable date: 1978-06-16\n",
      "human readable date after processing (indices):\n",
      "[18 28 21  0 22 31 25  0  4  9  0  4 12 10 11 36 36 36 36 36 36 36 36 36\n",
      " 36 36 36 36 36 36]\n",
      "machine readable date after processing (indices):\n",
      "[ 2 10  8  9  0  1  7  0  2  7]\n",
      "human readable date after processing (one hot): \n",
      "[[0. 0. 0. ... 0. 0. 0.]\n",
      " [0. 0. 0. ... 0. 0. 0.]\n",
      " [0. 0. 0. ... 0. 0. 0.]\n",
      " ...\n",
      " [0. 0. 0. ... 0. 0. 1.]\n",
      " [0. 0. 0. ... 0. 0. 1.]\n",
      " [0. 0. 0. ... 0. 0. 1.]]\n",
      "machine readable date after processing (one hot):\n",
      "[[0. 0. 1. 0. 0. 0. 0. 0. 0. 0. 0.]\n",
      " [0. 0. 0. 0. 0. 0. 0. 0. 0. 0. 1.]\n",
      " [0. 0. 0. 0. 0. 0. 0. 0. 1. 0. 0.]\n",
      " [0. 0. 0. 0. 0. 0. 0. 0. 0. 1. 0.]\n",
      " [1. 0. 0. 0. 0. 0. 0. 0. 0. 0. 0.]\n",
      " [0. 1. 0. 0. 0. 0. 0. 0. 0. 0. 0.]\n",
      " [0. 0. 0. 0. 0. 0. 0. 1. 0. 0. 0.]\n",
      " [1. 0. 0. 0. 0. 0. 0. 0. 0. 0. 0.]\n",
      " [0. 0. 1. 0. 0. 0. 0. 0. 0. 0. 0.]\n",
      " [0. 0. 0. 0. 0. 0. 0. 1. 0. 0. 0.]]\n"
     ]
    }
   ],
   "source": [
    "print('X.shape (human readable): ' + str(X.shape))\n",
    "print('Y.shape (machine readable): ' + str(Y.shape))\n",
    "print('Xoh.shape (one-hot): ' + str(Xoh.shape))\n",
    "print('Yoh.shape (one-hot): ' + str(Yoh.shape))\n",
    "\n",
    "index = 10\n",
    "print('\\nExample ' + str(index) + ': ')\n",
    "print('human readable date: ' + str(dataset[index][0]))\n",
    "print('machine readable date: ' + str(dataset[index][1]))\n",
    "print('human readable date after processing (indices):')\n",
    "print(X[index])\n",
    "print('machine readable date after processing (indices):')\n",
    "print(Y[index])\n",
    "print('human readable date after processing (one hot): ')\n",
    "print(Xoh[index])\n",
    "print('machine readable date after processing (one hot):')\n",
    "print(Yoh[index])"
   ]
  },
  {
   "cell_type": "markdown",
   "metadata": {
    "colab_type": "text",
    "id": "OyI_PMZyLVgj"
   },
   "source": [
    "## 3. Attention Model\n",
    "\n",
    "If we had to translate a book's paragraph from French to English, we would not read the whole paragraph, then close the book and translate. Even during the translation process, we would read/re-read and focus on the parts of the French paragraph corresponding to the parts of the English we are writing down. \n",
    "\n",
    "The attention mechanism tells a Neural Machine Translation model where it should pay attention to at any step. \n",
    "\n",
    "Here is a figure about how the model works. The diagram on the left shows the attention model. The diagram on the right shows what one \"Attention\" step does to calculate the attention variables $\\alpha^{\\langle t, t' \\rangle}$, which are used to compute the context variable $context^{\\langle t \\rangle}$ for each timestep in the output ($t=1, \\ldots, T_y$). "
   ]
  },
  {
   "cell_type": "markdown",
   "metadata": {
    "colab_type": "text",
    "id": "lsqTnN3ALVgk"
   },
   "source": [
    "<table>\n",
    "<td> \n",
    "<img src=\"images/attn_model.png\" style=\"width:500;height:500px;\"> <br>\n",
    "</td> \n",
    "<td> \n",
    "<img src=\"images/attn_mechanism.png\" style=\"width:500;height:500px;\"> <br>\n",
    "</td> \n",
    "</table>"
   ]
  },
  {
   "cell_type": "markdown",
   "metadata": {
    "colab_type": "text",
    "id": "PIebgQeTLVgl"
   },
   "source": [
    "Here are some properties of the model: \n",
    "\n",
    "- There are two separate LSTMs in this model (see diagram on the left). Because the one at the bottom of the picture is a Bi-directional LSTM and comes *before* the attention mechanism, we will call it *pre-attention* Bi-LSTM. The LSTM at the top of the diagram comes *after* the attention mechanism, so we will call it the *post-attention* LSTM. The pre-attention Bi-LSTM goes through $T_x$ time steps; the post-attention LSTM goes through $T_y$ time steps. \n",
    "\n",
    "- The post-attention LSTM passes $s^{\\langle t \\rangle}, c^{\\langle t \\rangle}$ from one time step to the next. Since we are using an LSTM here, the LSTM has both the output activation $s^{\\langle t\\rangle}$ and the hidden cell state $c^{\\langle t\\rangle}$. However, unlike text generation examples, in this model the post-activation LSTM at time $t$ will not take the specific generated $y^{\\langle t-1 \\rangle}$ as input; it only takes $s^{\\langle t\\rangle}$ and $c^{\\langle t\\rangle}$ as input. We have designed the model this way, because (unlike language generation where adjacent characters are highly correlated) there isn't as strong a dependency between the previous character and the next character in a YYYY-MM-DD date. \n",
    "\n",
    "- We use $a^{\\langle t \\rangle} = [\\overrightarrow{a}^{\\langle t \\rangle}; \\overleftarrow{a}^{\\langle t \\rangle}]$ to represent the concatenation of the activations of both the forward-direction and backward-directions of the pre-attention Bi-LSTM. \n",
    "\n",
    "- The diagram on the right uses a `RepeatVector` node to copy $s^{\\langle t-1 \\rangle}$'s value $T_x$ times, and then `Concatenation` to concatenate $s^{\\langle t-1 \\rangle}$ and $a^{\\langle t \\rangle}$ to compute $e^{\\langle t, t' \\rangle}$, which is then passed through a softmax to compute $\\alpha^{\\langle t, t' \\rangle}$. "
   ]
  },
  {
   "cell_type": "markdown",
   "metadata": {
    "colab_type": "text",
    "id": "oIKU7WdzLVgm"
   },
   "source": [
    "**1) `one_step_attention()`**: At step $t$, given all the hidden states of the Bi-LSTM ($[a^{<1>},a^{<2>}, ..., a^{<T_x>}]$) and the previous hidden state of the second LSTM ($s^{<t-1>}$), `one_step_attention()` will compute the attention weights ($[\\alpha^{<t,1>},\\alpha^{<t,2>}, ..., \\alpha^{<t,T_x>}]$) and output the context vector:\n",
    "$$context^{<t>} = \\sum_{t' = 0}^{T_x} \\alpha^{<t,t'>}a^{<t'>}\\tag{1}$$ \n",
    "\n",
    "We will call the layers in `one_step_attention()` $T_y$ times using a for-loop, and it is important that all dense layers (to calculate attention weights) have the same weights. I.e., it should not re-initiaiize the weights every time. In other words, all $T_y$ steps should have shared weights. Here's how you can implement layers with shareable weights in Keras:\n",
    "1. Define the layer objects (as global variables).\n",
    "2. Call these objects when propagating the input.\n",
    "\n",
    "See one_step_attention() below to understand the dimensions and axes."
   ]
  },
  {
   "cell_type": "markdown",
   "metadata": {
    "colab_type": "text",
    "id": "67fcEsVSLVgn"
   },
   "source": [
    "Note: https://jamesmccaffrey.wordpress.com/2016/03/04/the-max-trick-when-computing-softmax/ <br>\n",
    "In practice, calculating softmax values can go wrong if any x value is very large — the exp() of even a moderate-magnitude positive number can be astronomically huge. A trick to avoid this computation problem is subtract the largest x value from each x value."
   ]
  },
  {
   "cell_type": "code",
   "execution_count": 0,
   "metadata": {
    "colab": {},
    "colab_type": "code",
    "id": "uuGFx0fBLVgo"
   },
   "outputs": [],
   "source": [
    "# our customized softmax function\n",
    "# The dimension of input x will be (m, Tx, 1), and softmax will be applied to axis = 1\n",
    "\n",
    "def softmax(x, axis = 1):\n",
    "    \"\"\"\n",
    "    compute softmax activation\n",
    "    \n",
    "    Arguments:\n",
    "    x: input tensor\n",
    "    axis: integer, axis along which the softmax normalization is applied\n",
    "    \n",
    "    Return: tensor, output of softmax activation, with the same dimension as x\n",
    "    \"\"\"\n",
    "    \n",
    "    max_val = K.max(x, axis = axis, keepdims = True)\n",
    "    e = K.exp(x - max_val)\n",
    "    s = K.sum(e, axis = axis, keepdims = True)\n",
    "    return e / s"
   ]
  },
  {
   "cell_type": "code",
   "execution_count": 0,
   "metadata": {
    "colab": {},
    "colab_type": "code",
    "id": "aMTEbFFiLVgq"
   },
   "outputs": [],
   "source": [
    "# define shared layers as global variables\n",
    "\n",
    "# Dense(): input shape: (batch_size, ..., input_dim), output shape: (batch_size, ..., units)\n",
    "densor1 = Dense(units = 10, activation = 'tanh', name = 'context_dense1')\n",
    "densor2 = Dense(units = 1, name = 'context_dense2')\n",
    "repeator = RepeatVector(Tx, name = 'repeat_s')\n",
    "concatenator = Concatenate(axis = -1, name = 'concatenate_s_a')\n",
    "activator = Activation(softmax, name = 'attention_weights') # use our customized softmax function above.\n",
    "dotor = Dot(axes = 1, name = 'context')"
   ]
  },
  {
   "cell_type": "code",
   "execution_count": 0,
   "metadata": {
    "colab": {},
    "colab_type": "code",
    "id": "LHGFeuegLVgu"
   },
   "outputs": [],
   "source": [
    "def one_step_attention(a, s_prev):\n",
    "    \"\"\"\n",
    "    Compute the context vector, using dot product of alpha<t, t'> and a<t'> \n",
    "    \n",
    "    Argument:\n",
    "    a: all of the hidden state output a<t'> of the Bi-LSTM, numpy array with dimension of (m, Tx, 2 * n_a)\n",
    "    s_prev: previous hiddent state s<t-1> of the post-attention LSTM, numpy array with dimension of (m, n_s)\n",
    "    \n",
    "    Returns:\n",
    "    context: context vector, weighted sum of a<t'>, input of post-attention LSTM cell, with dimension of (m, 1, 2 * n_a)\n",
    "    \"\"\"\n",
    "    \n",
    "    # repeat s_prev so the shape is (m, Tx, n_s), so that we can concatenate it with \"a\"\n",
    "    s_prev = repeator(s_prev)\n",
    "    # concatenate a and s_prev on the last axis, so the shape is (m, Tx, 2 * n_a + n_s)\n",
    "    concat = concatenator([a, s_prev])\n",
    "    # propagate concat through a small fully-connected neural network to compute the \"intermediate energies\" variable e, \n",
    "    # with dimension (m, Tx, 10)\n",
    "    e = densor1(concat)\n",
    "    # propagate \"e\" through a small fully-connected neural network to compute the \"energies\" variable energies, \n",
    "    # with dimension (m, Tx, 1)\n",
    "    energies = densor2(e)\n",
    "    # use softmax activation on \"energies\" to compute the attention weights \"alphas\", with dimension of (m, Tx, 1)\n",
    "    alphas = activator(energies)\n",
    "    # compute the context vector, with the dimension of (m, 1, 2 * n_a)\n",
    "    # dot product of (m, Tx, 1) and (m, Tx, 2 * n_a), along axis = 1, is (m, 1, 2 * n_a). \n",
    "    # Remember that dot product of (batch_size, n) and (batch_size, n) is (batch_size, 1).\n",
    "    # each row t' of alphas(m, Tx, 1) is alpha<t, t'> (1, 1), and each row of a(m, Tx, 2*n_a) is a<t'> (1, 2*n_a), \n",
    "    # apply dot product will multiply each of the 2*n_a items in a<t'> by alpha<t, t'>, and then sum over Tx \n",
    "    context = dotor([alphas, a])\n",
    "    \n",
    "    return context"
   ]
  },
  {
   "cell_type": "markdown",
   "metadata": {
    "colab_type": "text",
    "id": "lmc5UoArLVgz"
   },
   "source": [
    "**2) `model()`**: Implements the entire model. It first runs the input through a Bi-LSTM to get back $[a^{<1>},a^{<2>}, ..., a^{<T_x>}]$. Then, it calls `one_step_attention()` $T_y$ times (`for` loop). At each iteration of this loop, it gives the computed context vector $c^{<t>}$ to the second LSTM, and runs the output of the LSTM through a dense layer with softmax activation to generate a prediction $\\hat{y}^{<t>}$. \n",
    "\n",
    "Again, we have defined global layers that will share weights to be used in `model()`."
   ]
  },
  {
   "cell_type": "markdown",
   "metadata": {
    "colab_type": "text",
    "id": "kzE9wPs-LVg1"
   },
   "source": [
    "**return_state and return_sequences in LSTM():**<br>\n",
    "https://machinelearningmastery.com/return-sequences-and-return-states-for-lstms-in-keras/<br>\n",
    "return_state argument in the LSTM layer will provide access to not only the hidden state output but also the cell state.\n",
    "\n",
    "If we set return_sequences = True, return_state = False, it will return:\n",
    "- a sequence of timesteps values, one hidden state output for each input time step for the single LSTM cell in the layer.\n",
    "\n",
    "If we set return_sequences = False, return_state = True, it will return 3 arrays:\n",
    "- The LSTM hidden state output for the last input time step.\n",
    "- The LSTM hidden state output for the last input time step (again).\n",
    "- The LSTM cell state for the last input time step.\n",
    "\n",
    "If we set return_sequences = True, return_state = True, it will return 3 arrays:\n",
    "- The LSTM hidden state output for each input time step.\n",
    "- The LSTM hidden state output for the last input time step.\n",
    "- The LSTM cell state for the last input time step."
   ]
  },
  {
   "cell_type": "code",
   "execution_count": 0,
   "metadata": {
    "colab": {},
    "colab_type": "code",
    "id": "UhMQYC5rLVg3"
   },
   "outputs": [],
   "source": [
    "post_attention_LSTM = LSTM(units = n_s, return_state = True, name = 'post_attention_LSTM_cell')\n",
    "output_layer = Dense(len(machine_vocab), activation = softmax, name = 'post_attention_LSTM_dense_softmax')"
   ]
  },
  {
   "cell_type": "markdown",
   "metadata": {
    "colab_type": "text",
    "id": "FAyzZ4pyLVg6"
   },
   "source": [
    "We will carry out the following steps: \n",
    "\n",
    "1. Propagate the input into a [Bidirectional](https://keras.io/layers/wrappers/#bidirectional) [LSTM](https://keras.io/layers/recurrent/#lstm)\n",
    "2. Iterate for $t = 0, \\dots, T_y-1$: \n",
    "    1. Call `one_step_attention()` on $[\\alpha^{<t,1>},\\alpha^{<t,2>}, ..., \\alpha^{<t,T_x>}]$ and $s^{<t-1>}$ to get the context vector $context^{<t>}$.\n",
    "    2. Give $context^{<t>}$ to the post-attention LSTM cell. Remember pass in the previous hidden-state $s^{\\langle t-1\\rangle}$ and cell-states $c^{\\langle t-1\\rangle}$ of this LSTM using `initial_state= [previous hidden state, previous cell state]`. Get back the new hidden state $s^{<t>}$ and the new cell state $c^{<t>}$.\n",
    "    3. Apply a softmax layer to $s^{<t>}$, get the output. \n",
    "    4. Save the output by adding it to the list of outputs.\n",
    "\n",
    "3. Create our Keras model instance, it should have three inputs (\"inputs\", $s^{<0>}$ and $c^{<0>}$) and output the list of \"outputs\"."
   ]
  },
  {
   "cell_type": "code",
   "execution_count": 0,
   "metadata": {
    "colab": {},
    "colab_type": "code",
    "id": "uAmMYT_ZLVg7"
   },
   "outputs": [],
   "source": [
    "def nmt_model(Tx, Ty, n_a, n_s, input_one_hot_size):\n",
    "    \"\"\"\n",
    "    complete neural machine translation model\n",
    "    \n",
    "    Arguments:\n",
    "    Tx: length of the input sequence\n",
    "    Ty: length of the output sequence\n",
    "    n_a: dimension of the hidden state vector for the Bi-LSTM\n",
    "    n_s: dimension of the hidden state vector and cell state vector for the post-attention LSTM\n",
    "    input_one_hot_size: length of the one-hot vector of the input\n",
    "    \n",
    "    Returns:\n",
    "    model: Keras model instance\n",
    "    \"\"\"\n",
    "    # input layer, the batch dimension is not included in the shape.\n",
    "    X = Input(shape = (Tx, input_one_hot_size), name = 'input') # shape: (m, Tx, len(human_vocab))\n",
    "    # s0 and c0 are initial hidden and cell states for the post-attention LSTM (decoder), \n",
    "    # which are vectors with dimension of (n_s, )\n",
    "    s0 = Input(shape = (n_s, ), name = 's0') # shape: (m, n_s)\n",
    "    c0 = Input(shape = (n_s, ), name = 'c0') # shape: (m, n_s)\n",
    "    s = s0\n",
    "    c = c0\n",
    "    \n",
    "    # store the outputs (y hat)\n",
    "    outputs = []\n",
    "    \n",
    "    # pre-attention Bi-LSTM\n",
    "    a = Bidirectional(LSTM(units = n_a, return_sequences = True), name = 'Bi-LSTM')(X) # output shape: (m, Tx, 2 * n_a)\n",
    "    \n",
    "    # iterate for Ty step\n",
    "    for t in range(Ty):\n",
    "        # Call one_step_attention() to get the context vector.\n",
    "        context = one_step_attention(a, s) # output shape: (m, 1, 2 * n_a)\n",
    "        # Give context vector to the post-attention LSTM cell. Get back the new hidden state s<t>  \n",
    "        # and the new cell state c<t>.\n",
    "        s, _, c = post_attention_LSTM(context, initial_state = [s, c]) # both ouput shapes: (m, n_s)\n",
    "        # Apply a dense and softmax layer to s<t>, get the output.\n",
    "        out = output_layer(s) # output shape: (m, len(machine_vocab))\n",
    "        outputs.append(out) \n",
    "    \n",
    "    # after Ty iterations, outputs is a list of Ty Numpy arrays, each with shape (m, len(machine_vocab))\n",
    "    model = Model(inputs = [X, s0, c0], outputs = outputs)\n",
    "    \n",
    "    return model"
   ]
  },
  {
   "cell_type": "code",
   "execution_count": 0,
   "metadata": {
    "colab": {},
    "colab_type": "code",
    "id": "2yyE3_5ULVhA"
   },
   "outputs": [],
   "source": [
    "model = nmt_model(Tx, Ty, n_a, n_s, len(human_vocab))"
   ]
  },
  {
   "cell_type": "code",
   "execution_count": 21,
   "metadata": {
    "colab": {
     "base_uri": "https://localhost:8080/",
     "height": 1000
    },
    "colab_type": "code",
    "id": "Ki-NzwGBLVhD",
    "outputId": "461d17d5-e9a7-4e8d-df29-46b42aa71818"
   },
   "outputs": [
    {
     "name": "stdout",
     "output_type": "stream",
     "text": [
      "__________________________________________________________________________________________________\n",
      "Layer (type)                    Output Shape         Param #     Connected to                     \n",
      "==================================================================================================\n",
      "input (InputLayer)              (None, 30, 37)       0                                            \n",
      "__________________________________________________________________________________________________\n",
      "s0 (InputLayer)                 (None, 64)           0                                            \n",
      "__________________________________________________________________________________________________\n",
      "Bi-LSTM (Bidirectional)         (None, 30, 64)       17920       input[0][0]                      \n",
      "__________________________________________________________________________________________________\n",
      "repeat_s (RepeatVector)         (None, 30, 64)       0           s0[0][0]                         \n",
      "                                                                 post_attention_LSTM_cell[0][0]   \n",
      "                                                                 post_attention_LSTM_cell[1][0]   \n",
      "                                                                 post_attention_LSTM_cell[2][0]   \n",
      "                                                                 post_attention_LSTM_cell[3][0]   \n",
      "                                                                 post_attention_LSTM_cell[4][0]   \n",
      "                                                                 post_attention_LSTM_cell[5][0]   \n",
      "                                                                 post_attention_LSTM_cell[6][0]   \n",
      "                                                                 post_attention_LSTM_cell[7][0]   \n",
      "                                                                 post_attention_LSTM_cell[8][0]   \n",
      "__________________________________________________________________________________________________\n",
      "concatenate_s_a (Concatenate)   (None, 30, 128)      0           Bi-LSTM[0][0]                    \n",
      "                                                                 repeat_s[0][0]                   \n",
      "                                                                 Bi-LSTM[0][0]                    \n",
      "                                                                 repeat_s[1][0]                   \n",
      "                                                                 Bi-LSTM[0][0]                    \n",
      "                                                                 repeat_s[2][0]                   \n",
      "                                                                 Bi-LSTM[0][0]                    \n",
      "                                                                 repeat_s[3][0]                   \n",
      "                                                                 Bi-LSTM[0][0]                    \n",
      "                                                                 repeat_s[4][0]                   \n",
      "                                                                 Bi-LSTM[0][0]                    \n",
      "                                                                 repeat_s[5][0]                   \n",
      "                                                                 Bi-LSTM[0][0]                    \n",
      "                                                                 repeat_s[6][0]                   \n",
      "                                                                 Bi-LSTM[0][0]                    \n",
      "                                                                 repeat_s[7][0]                   \n",
      "                                                                 Bi-LSTM[0][0]                    \n",
      "                                                                 repeat_s[8][0]                   \n",
      "                                                                 Bi-LSTM[0][0]                    \n",
      "                                                                 repeat_s[9][0]                   \n",
      "__________________________________________________________________________________________________\n",
      "context_dense1 (Dense)          (None, 30, 10)       1290        concatenate_s_a[0][0]            \n",
      "                                                                 concatenate_s_a[1][0]            \n",
      "                                                                 concatenate_s_a[2][0]            \n",
      "                                                                 concatenate_s_a[3][0]            \n",
      "                                                                 concatenate_s_a[4][0]            \n",
      "                                                                 concatenate_s_a[5][0]            \n",
      "                                                                 concatenate_s_a[6][0]            \n",
      "                                                                 concatenate_s_a[7][0]            \n",
      "                                                                 concatenate_s_a[8][0]            \n",
      "                                                                 concatenate_s_a[9][0]            \n",
      "__________________________________________________________________________________________________\n",
      "context_dense2 (Dense)          (None, 30, 1)        11          context_dense1[0][0]             \n",
      "                                                                 context_dense1[1][0]             \n",
      "                                                                 context_dense1[2][0]             \n",
      "                                                                 context_dense1[3][0]             \n",
      "                                                                 context_dense1[4][0]             \n",
      "                                                                 context_dense1[5][0]             \n",
      "                                                                 context_dense1[6][0]             \n",
      "                                                                 context_dense1[7][0]             \n",
      "                                                                 context_dense1[8][0]             \n",
      "                                                                 context_dense1[9][0]             \n",
      "__________________________________________________________________________________________________\n",
      "attention_weights (Activation)  (None, 30, 1)        0           context_dense2[0][0]             \n",
      "                                                                 context_dense2[1][0]             \n",
      "                                                                 context_dense2[2][0]             \n",
      "                                                                 context_dense2[3][0]             \n",
      "                                                                 context_dense2[4][0]             \n",
      "                                                                 context_dense2[5][0]             \n",
      "                                                                 context_dense2[6][0]             \n",
      "                                                                 context_dense2[7][0]             \n",
      "                                                                 context_dense2[8][0]             \n",
      "                                                                 context_dense2[9][0]             \n",
      "__________________________________________________________________________________________________\n",
      "context (Dot)                   (None, 1, 64)        0           attention_weights[0][0]          \n",
      "                                                                 Bi-LSTM[0][0]                    \n",
      "                                                                 attention_weights[1][0]          \n",
      "                                                                 Bi-LSTM[0][0]                    \n",
      "                                                                 attention_weights[2][0]          \n",
      "                                                                 Bi-LSTM[0][0]                    \n",
      "                                                                 attention_weights[3][0]          \n",
      "                                                                 Bi-LSTM[0][0]                    \n",
      "                                                                 attention_weights[4][0]          \n",
      "                                                                 Bi-LSTM[0][0]                    \n",
      "                                                                 attention_weights[5][0]          \n",
      "                                                                 Bi-LSTM[0][0]                    \n",
      "                                                                 attention_weights[6][0]          \n",
      "                                                                 Bi-LSTM[0][0]                    \n",
      "                                                                 attention_weights[7][0]          \n",
      "                                                                 Bi-LSTM[0][0]                    \n",
      "                                                                 attention_weights[8][0]          \n",
      "                                                                 Bi-LSTM[0][0]                    \n",
      "                                                                 attention_weights[9][0]          \n",
      "                                                                 Bi-LSTM[0][0]                    \n",
      "__________________________________________________________________________________________________\n",
      "c0 (InputLayer)                 (None, 64)           0                                            \n",
      "__________________________________________________________________________________________________\n",
      "post_attention_LSTM_cell (LSTM) [(None, 64), (None,  33024       context[0][0]                    \n",
      "                                                                 s0[0][0]                         \n",
      "                                                                 c0[0][0]                         \n",
      "                                                                 context[1][0]                    \n",
      "                                                                 post_attention_LSTM_cell[0][0]   \n",
      "                                                                 post_attention_LSTM_cell[0][2]   \n",
      "                                                                 context[2][0]                    \n",
      "                                                                 post_attention_LSTM_cell[1][0]   \n",
      "                                                                 post_attention_LSTM_cell[1][2]   \n",
      "                                                                 context[3][0]                    \n",
      "                                                                 post_attention_LSTM_cell[2][0]   \n",
      "                                                                 post_attention_LSTM_cell[2][2]   \n",
      "                                                                 context[4][0]                    \n",
      "                                                                 post_attention_LSTM_cell[3][0]   \n",
      "                                                                 post_attention_LSTM_cell[3][2]   \n",
      "                                                                 context[5][0]                    \n",
      "                                                                 post_attention_LSTM_cell[4][0]   \n",
      "                                                                 post_attention_LSTM_cell[4][2]   \n",
      "                                                                 context[6][0]                    \n",
      "                                                                 post_attention_LSTM_cell[5][0]   \n",
      "                                                                 post_attention_LSTM_cell[5][2]   \n",
      "                                                                 context[7][0]                    \n",
      "                                                                 post_attention_LSTM_cell[6][0]   \n",
      "                                                                 post_attention_LSTM_cell[6][2]   \n",
      "                                                                 context[8][0]                    \n",
      "                                                                 post_attention_LSTM_cell[7][0]   \n",
      "                                                                 post_attention_LSTM_cell[7][2]   \n",
      "                                                                 context[9][0]                    \n",
      "                                                                 post_attention_LSTM_cell[8][0]   \n",
      "                                                                 post_attention_LSTM_cell[8][2]   \n",
      "__________________________________________________________________________________________________\n",
      "post_attention_LSTM_dense_softm (None, 11)           715         post_attention_LSTM_cell[0][0]   \n",
      "                                                                 post_attention_LSTM_cell[1][0]   \n",
      "                                                                 post_attention_LSTM_cell[2][0]   \n",
      "                                                                 post_attention_LSTM_cell[3][0]   \n",
      "                                                                 post_attention_LSTM_cell[4][0]   \n",
      "                                                                 post_attention_LSTM_cell[5][0]   \n",
      "                                                                 post_attention_LSTM_cell[6][0]   \n",
      "                                                                 post_attention_LSTM_cell[7][0]   \n",
      "                                                                 post_attention_LSTM_cell[8][0]   \n",
      "                                                                 post_attention_LSTM_cell[9][0]   \n",
      "==================================================================================================\n",
      "Total params: 52,960\n",
      "Trainable params: 52,960\n",
      "Non-trainable params: 0\n",
      "__________________________________________________________________________________________________\n"
     ]
    }
   ],
   "source": [
    "model.summary()"
   ]
  },
  {
   "cell_type": "code",
   "execution_count": 22,
   "metadata": {
    "colab": {
     "base_uri": "https://localhost:8080/",
     "height": 860
    },
    "colab_type": "code",
    "id": "g6wW6nQZLVhG",
    "outputId": "5b9733f3-2b0b-4eb5-c0e6-6d5a766f936d"
   },
   "outputs": [
    {
     "data": {
      "image/svg+xml": [
       "<svg height=\"629pt\" viewBox=\"0.00 0.00 679.00 629.00\" width=\"679pt\" xmlns=\"http://www.w3.org/2000/svg\" xmlns:xlink=\"http://www.w3.org/1999/xlink\">\n",
       "<g class=\"graph\" id=\"graph0\" transform=\"scale(1 1) rotate(0) translate(4 625)\">\n",
       "<title>G</title>\n",
       "<polygon fill=\"#ffffff\" points=\"-4,4 -4,-625 675,-625 675,4 -4,4\" stroke=\"transparent\"/>\n",
       "<!-- 140129111855344 -->\n",
       "<g class=\"node\" id=\"node1\">\n",
       "<title>140129111855344</title>\n",
       "<polygon fill=\"none\" points=\"166,-584.5 166,-620.5 284,-620.5 284,-584.5 166,-584.5\" stroke=\"#000000\"/>\n",
       "<text fill=\"#000000\" font-family=\"Times,serif\" font-size=\"14.00\" text-anchor=\"middle\" x=\"225\" y=\"-598.8\">input: InputLayer</text>\n",
       "</g>\n",
       "<!-- 140129111837608 -->\n",
       "<g class=\"node\" id=\"node3\">\n",
       "<title>140129111837608</title>\n",
       "<polygon fill=\"none\" points=\"99.5,-511.5 99.5,-547.5 350.5,-547.5 350.5,-511.5 99.5,-511.5\" stroke=\"#000000\"/>\n",
       "<text fill=\"#000000\" font-family=\"Times,serif\" font-size=\"14.00\" text-anchor=\"middle\" x=\"225\" y=\"-525.8\">Bi-LSTM(lstm_1): Bidirectional(LSTM)</text>\n",
       "</g>\n",
       "<!-- 140129111855344&#45;&gt;140129111837608 -->\n",
       "<g class=\"edge\" id=\"edge1\">\n",
       "<title>140129111855344-&gt;140129111837608</title>\n",
       "<path d=\"M225,-584.4551C225,-576.3828 225,-566.6764 225,-557.6817\" fill=\"none\" stroke=\"#000000\"/>\n",
       "<polygon fill=\"#000000\" points=\"228.5001,-557.5903 225,-547.5904 221.5001,-557.5904 228.5001,-557.5903\" stroke=\"#000000\"/>\n",
       "</g>\n",
       "<!-- 140129111855512 -->\n",
       "<g class=\"node\" id=\"node2\">\n",
       "<title>140129111855512</title>\n",
       "<polygon fill=\"none\" points=\"74.5,-146.5 74.5,-182.5 175.5,-182.5 175.5,-146.5 74.5,-146.5\" stroke=\"#000000\"/>\n",
       "<text fill=\"#000000\" font-family=\"Times,serif\" font-size=\"14.00\" text-anchor=\"middle\" x=\"125\" y=\"-160.8\">s0: InputLayer</text>\n",
       "</g>\n",
       "<!-- 140129129313952 -->\n",
       "<g class=\"node\" id=\"node4\">\n",
       "<title>140129129313952</title>\n",
       "<polygon fill=\"none\" points=\"0,-.5 0,-36.5 146,-36.5 146,-.5 0,-.5\" stroke=\"#000000\"/>\n",
       "<text fill=\"#000000\" font-family=\"Times,serif\" font-size=\"14.00\" text-anchor=\"middle\" x=\"73\" y=\"-14.8\">repeat_s: RepeatVector</text>\n",
       "</g>\n",
       "<!-- 140129111855512&#45;&gt;140129129313952 -->\n",
       "<g class=\"edge\" id=\"edge2\">\n",
       "<title>140129111855512-&gt;140129129313952</title>\n",
       "<path d=\"M118.5193,-146.3042C109.6057,-121.2775 93.479,-75.9988 83.0088,-46.6017\" fill=\"none\" stroke=\"#000000\"/>\n",
       "<polygon fill=\"#000000\" points=\"86.2147,-45.1711 79.5624,-36.9251 79.6205,-47.5198 86.2147,-45.1711\" stroke=\"#000000\"/>\n",
       "</g>\n",
       "<!-- 140129109941384 -->\n",
       "<g class=\"node\" id=\"node11\">\n",
       "<title>140129109941384</title>\n",
       "<polygon fill=\"none\" points=\"129,-73.5 129,-109.5 347,-109.5 347,-73.5 129,-73.5\" stroke=\"#000000\"/>\n",
       "<text fill=\"#000000\" font-family=\"Times,serif\" font-size=\"14.00\" text-anchor=\"middle\" x=\"238\" y=\"-87.8\">post_attention_LSTM_cell: LSTM</text>\n",
       "</g>\n",
       "<!-- 140129111855512&#45;&gt;140129109941384 -->\n",
       "<g class=\"edge\" id=\"edge83\">\n",
       "<title>140129111855512-&gt;140129109941384</title>\n",
       "<path d=\"M152.9326,-146.4551C167.601,-136.979 185.7556,-125.2508 201.5214,-115.0658\" fill=\"none\" stroke=\"#000000\"/>\n",
       "<polygon fill=\"#000000\" points=\"203.4966,-117.9566 209.9971,-109.5904 199.6982,-112.0769 203.4966,-117.9566\" stroke=\"#000000\"/>\n",
       "</g>\n",
       "<!-- 140129109939760 -->\n",
       "<g class=\"node\" id=\"node5\">\n",
       "<title>140129109939760</title>\n",
       "<polygon fill=\"none\" points=\"72,-438.5 72,-474.5 258,-474.5 258,-438.5 72,-438.5\" stroke=\"#000000\"/>\n",
       "<text fill=\"#000000\" font-family=\"Times,serif\" font-size=\"14.00\" text-anchor=\"middle\" x=\"165\" y=\"-452.8\">concatenate_s_a: Concatenate</text>\n",
       "</g>\n",
       "<!-- 140129111837608&#45;&gt;140129109939760 -->\n",
       "<g class=\"edge\" id=\"edge12\">\n",
       "<title>140129111837608-&gt;140129109939760</title>\n",
       "<path d=\"M210.1685,-511.4551C202.9569,-502.6809 194.1583,-491.9759 186.249,-482.353\" fill=\"none\" stroke=\"#000000\"/>\n",
       "<polygon fill=\"#000000\" points=\"188.9224,-480.0934 179.8688,-474.5904 183.5146,-484.5382 188.9224,-480.0934\" stroke=\"#000000\"/>\n",
       "</g>\n",
       "<!-- 140129109939536 -->\n",
       "<g class=\"node\" id=\"node9\">\n",
       "<title>140129109939536</title>\n",
       "<polygon fill=\"none\" points=\"194,-146.5 194,-182.5 282,-182.5 282,-146.5 194,-146.5\" stroke=\"#000000\"/>\n",
       "<text fill=\"#000000\" font-family=\"Times,serif\" font-size=\"14.00\" text-anchor=\"middle\" x=\"238\" y=\"-160.8\">context: Dot</text>\n",
       "</g>\n",
       "<!-- 140129111837608&#45;&gt;140129109939536 -->\n",
       "<g class=\"edge\" id=\"edge63\">\n",
       "<title>140129111837608-&gt;140129109939536</title>\n",
       "<path d=\"M242.4747,-511.2204C251.0921,-501.2411 260.916,-488.2428 267,-475 284.3393,-437.2583 286,-425.0342 286,-383.5 286,-383.5 286,-383.5 286,-310.5 286,-268.9658 281.1199,-258.0604 267,-219 263.6285,-209.6732 258.9055,-199.9686 254.2485,-191.3777\" fill=\"none\" stroke=\"#000000\"/>\n",
       "<polygon fill=\"#000000\" points=\"257.2427,-189.5617 249.2881,-182.5634 251.1424,-192.9948 257.2427,-189.5617\" stroke=\"#000000\"/>\n",
       "</g>\n",
       "<!-- 140129129313952&#45;&gt;140129109939760 -->\n",
       "<g class=\"edge\" id=\"edge13\">\n",
       "<title>140129129313952-&gt;140129109939760</title>\n",
       "<path d=\"M67.4056,-36.7376C59.4971,-64.1779 46,-117.8436 46,-164.5 46,-310.5 46,-310.5 46,-310.5 46,-354.3657 55.2733,-368.0084 83,-402 93.0153,-414.2783 106.5287,-424.8104 119.6939,-433.251\" fill=\"none\" stroke=\"#000000\"/>\n",
       "<polygon fill=\"#000000\" points=\"117.8988,-436.2558 128.2547,-438.493 121.5542,-430.2861 117.8988,-436.2558\" stroke=\"#000000\"/>\n",
       "</g>\n",
       "<!-- 140129111857080 -->\n",
       "<g class=\"node\" id=\"node6\">\n",
       "<title>140129111857080</title>\n",
       "<polygon fill=\"none\" points=\"91.5,-365.5 91.5,-401.5 240.5,-401.5 240.5,-365.5 91.5,-365.5\" stroke=\"#000000\"/>\n",
       "<text fill=\"#000000\" font-family=\"Times,serif\" font-size=\"14.00\" text-anchor=\"middle\" x=\"166\" y=\"-379.8\">context_dense1: Dense</text>\n",
       "</g>\n",
       "<!-- 140129109939760&#45;&gt;140129111857080 -->\n",
       "<g class=\"edge\" id=\"edge32\">\n",
       "<title>140129109939760-&gt;140129111857080</title>\n",
       "<path d=\"M165.2472,-438.4551C165.3578,-430.3828 165.4907,-420.6764 165.6139,-411.6817\" fill=\"none\" stroke=\"#000000\"/>\n",
       "<polygon fill=\"#000000\" points=\"169.1148,-411.6374 165.7522,-401.5904 162.1154,-411.5414 169.1148,-411.6374\" stroke=\"#000000\"/>\n",
       "</g>\n",
       "<!-- 140129111857248 -->\n",
       "<g class=\"node\" id=\"node7\">\n",
       "<title>140129111857248</title>\n",
       "<polygon fill=\"none\" points=\"91.5,-292.5 91.5,-328.5 240.5,-328.5 240.5,-292.5 91.5,-292.5\" stroke=\"#000000\"/>\n",
       "<text fill=\"#000000\" font-family=\"Times,serif\" font-size=\"14.00\" text-anchor=\"middle\" x=\"166\" y=\"-306.8\">context_dense2: Dense</text>\n",
       "</g>\n",
       "<!-- 140129111857080&#45;&gt;140129111857248 -->\n",
       "<g class=\"edge\" id=\"edge42\">\n",
       "<title>140129111857080-&gt;140129111857248</title>\n",
       "<path d=\"M166,-365.4551C166,-357.3828 166,-347.6764 166,-338.6817\" fill=\"none\" stroke=\"#000000\"/>\n",
       "<polygon fill=\"#000000\" points=\"169.5001,-338.5903 166,-328.5904 162.5001,-338.5904 169.5001,-338.5903\" stroke=\"#000000\"/>\n",
       "</g>\n",
       "<!-- 140129109939648 -->\n",
       "<g class=\"node\" id=\"node8\">\n",
       "<title>140129109939648</title>\n",
       "<polygon fill=\"none\" points=\"73.5,-219.5 73.5,-255.5 258.5,-255.5 258.5,-219.5 73.5,-219.5\" stroke=\"#000000\"/>\n",
       "<text fill=\"#000000\" font-family=\"Times,serif\" font-size=\"14.00\" text-anchor=\"middle\" x=\"166\" y=\"-233.8\">attention_weights: Activation</text>\n",
       "</g>\n",
       "<!-- 140129111857248&#45;&gt;140129109939648 -->\n",
       "<g class=\"edge\" id=\"edge52\">\n",
       "<title>140129111857248-&gt;140129109939648</title>\n",
       "<path d=\"M166,-292.4551C166,-284.3828 166,-274.6764 166,-265.6817\" fill=\"none\" stroke=\"#000000\"/>\n",
       "<polygon fill=\"#000000\" points=\"169.5001,-265.5903 166,-255.5904 162.5001,-265.5904 169.5001,-265.5903\" stroke=\"#000000\"/>\n",
       "</g>\n",
       "<!-- 140129109939648&#45;&gt;140129109939536 -->\n",
       "<g class=\"edge\" id=\"edge62\">\n",
       "<title>140129109939648-&gt;140129109939536</title>\n",
       "<path d=\"M183.7978,-219.4551C192.6248,-210.5054 203.4331,-199.547 213.0693,-189.7769\" fill=\"none\" stroke=\"#000000\"/>\n",
       "<polygon fill=\"#000000\" points=\"215.6272,-192.1678 220.1575,-182.5904 210.6434,-187.2523 215.6272,-192.1678\" stroke=\"#000000\"/>\n",
       "</g>\n",
       "<!-- 140129109939536&#45;&gt;140129109941384 -->\n",
       "<g class=\"edge\" id=\"edge82\">\n",
       "<title>140129109939536-&gt;140129109941384</title>\n",
       "<path d=\"M238,-146.4551C238,-138.3828 238,-128.6764 238,-119.6817\" fill=\"none\" stroke=\"#000000\"/>\n",
       "<polygon fill=\"#000000\" points=\"241.5001,-119.5903 238,-109.5904 234.5001,-119.5904 241.5001,-119.5903\" stroke=\"#000000\"/>\n",
       "</g>\n",
       "<!-- 140129111857696 -->\n",
       "<g class=\"node\" id=\"node10\">\n",
       "<title>140129111857696</title>\n",
       "<polygon fill=\"none\" points=\"300.5,-146.5 300.5,-182.5 401.5,-182.5 401.5,-146.5 300.5,-146.5\" stroke=\"#000000\"/>\n",
       "<text fill=\"#000000\" font-family=\"Times,serif\" font-size=\"14.00\" text-anchor=\"middle\" x=\"351\" y=\"-160.8\">c0: InputLayer</text>\n",
       "</g>\n",
       "<!-- 140129111857696&#45;&gt;140129109941384 -->\n",
       "<g class=\"edge\" id=\"edge84\">\n",
       "<title>140129111857696-&gt;140129109941384</title>\n",
       "<path d=\"M323.0674,-146.4551C308.399,-136.979 290.2444,-125.2508 274.4786,-115.0658\" fill=\"none\" stroke=\"#000000\"/>\n",
       "<polygon fill=\"#000000\" points=\"276.3018,-112.0769 266.0029,-109.5904 272.5034,-117.9566 276.3018,-112.0769\" stroke=\"#000000\"/>\n",
       "</g>\n",
       "<!-- 140129109941384&#45;&gt;140129129313952 -->\n",
       "<g class=\"edge\" id=\"edge3\">\n",
       "<title>140129109941384-&gt;140129129313952</title>\n",
       "<path d=\"M197.2135,-73.4551C174.8033,-63.5403 146.8206,-51.16 123.0911,-40.6615\" fill=\"none\" stroke=\"#000000\"/>\n",
       "<polygon fill=\"#000000\" points=\"124.4502,-37.4356 113.8892,-36.5904 121.618,-43.8371 124.4502,-37.4356\" stroke=\"#000000\"/>\n",
       "</g>\n",
       "<!-- 140129109941384&#45;&gt;140129109941384 -->\n",
       "<g class=\"edge\" id=\"edge86\">\n",
       "<title>140129109941384-&gt;140129109941384</title>\n",
       "<path d=\"M347.291,-92.7231C358.1154,-92.478 365,-92.0703 365,-91.5 365,-91.1346 362.1746,-90.836 357.2979,-90.6042\" fill=\"none\" stroke=\"#000000\"/>\n",
       "<polygon fill=\"#000000\" points=\"357.4001,-87.1057 347.291,-90.2769 357.1712,-94.102 357.4001,-87.1057\" stroke=\"#000000\"/>\n",
       "</g>\n",
       "<!-- 140129109941384&#45;&gt;140129109941384 -->\n",
       "<g class=\"edge\" id=\"edge87\">\n",
       "<title>140129109941384-&gt;140129109941384</title>\n",
       "<path d=\"M347.0789,-94.3615C368.102,-94.0242 383,-93.0703 383,-91.5 383,-90.1996 372.7831,-89.3219 357.3315,-88.8671\" fill=\"none\" stroke=\"#000000\"/>\n",
       "<polygon fill=\"#000000\" points=\"357.1544,-85.3623 347.0789,-88.6385 356.9983,-92.3606 357.1544,-85.3623\" stroke=\"#000000\"/>\n",
       "</g>\n",
       "<!-- 140129109941384&#45;&gt;140129109941384 -->\n",
       "<g class=\"edge\" id=\"edge89\">\n",
       "<title>140129109941384-&gt;140129109941384</title>\n",
       "<path d=\"M347.3155,-95.9752C377.7162,-95.7691 401,-94.2773 401,-91.5 401,-89.0373 382.6927,-87.5854 357.3495,-87.1443\" fill=\"none\" stroke=\"#000000\"/>\n",
       "<polygon fill=\"#000000\" points=\"357.3565,-83.6443 347.3155,-87.0248 357.273,-90.6438 357.3565,-83.6443\" stroke=\"#000000\"/>\n",
       "</g>\n",
       "<!-- 140129109941384&#45;&gt;140129109941384 -->\n",
       "<g class=\"edge\" id=\"edge90\">\n",
       "<title>140129109941384-&gt;140129109941384</title>\n",
       "<path d=\"M347.121,-97.4926C386.675,-97.6382 419,-95.6406 419,-91.5 419,-87.7152 391.9921,-85.721 357.1424,-85.5174\" fill=\"none\" stroke=\"#000000\"/>\n",
       "<polygon fill=\"#000000\" points=\"357.1245,-82.0174 347.121,-85.5074 357.1175,-89.0174 357.1245,-82.0174\" stroke=\"#000000\"/>\n",
       "</g>\n",
       "<!-- 140129109941384&#45;&gt;140129109941384 -->\n",
       "<g class=\"edge\" id=\"edge92\">\n",
       "<title>140129109941384-&gt;140129109941384</title>\n",
       "<path d=\"M347.2459,-98.8935C395.4596,-99.5602 437,-97.0957 437,-91.5 437,-86.2977 401.0958,-83.8018 357.3048,-84.0123\" fill=\"none\" stroke=\"#000000\"/>\n",
       "<polygon fill=\"#000000\" points=\"357.2126,-80.5129 347.2459,-84.1065 357.2782,-87.5126 357.2126,-80.5129\" stroke=\"#000000\"/>\n",
       "</g>\n",
       "<!-- 140129109941384&#45;&gt;140129109941384 -->\n",
       "<g class=\"edge\" id=\"edge93\">\n",
       "<title>140129109941384-&gt;140129109941384</title>\n",
       "<path d=\"M347.1413,-100.177C403.8314,-101.529 455,-98.6367 455,-91.5 455,-84.7954 409.8401,-81.8368 357.3677,-82.6241\" fill=\"none\" stroke=\"#000000\"/>\n",
       "<polygon fill=\"#000000\" points=\"357.0713,-79.1291 347.1413,-82.823 357.2075,-86.1278 357.0713,-79.1291\" stroke=\"#000000\"/>\n",
       "</g>\n",
       "<!-- 140129109941384&#45;&gt;140129109941384 -->\n",
       "<g class=\"edge\" id=\"edge95\">\n",
       "<title>140129109941384-&gt;140129109941384</title>\n",
       "<path d=\"M347.0841,-101.354C411.9932,-103.521 473,-100.2363 473,-91.5 473,-83.2244 418.2578,-79.8406 357.312,-81.3487\" fill=\"none\" stroke=\"#000000\"/>\n",
       "<polygon fill=\"#000000\" points=\"356.9781,-77.8568 347.0841,-81.646 357.1816,-84.8539 356.9781,-77.8568\" stroke=\"#000000\"/>\n",
       "</g>\n",
       "<!-- 140129109941384&#45;&gt;140129109941384 -->\n",
       "<g class=\"edge\" id=\"edge96\">\n",
       "<title>140129109941384-&gt;140129109941384</title>\n",
       "<path d=\"M347.2218,-102.4424C420.0805,-105.5225 491,-101.875 491,-91.5 491,-81.6113 426.5734,-77.8343 357.4477,-80.1688\" fill=\"none\" stroke=\"#000000\"/>\n",
       "<polygon fill=\"#000000\" points=\"357.0816,-76.6801 347.2218,-80.5576 357.3476,-83.6751 357.0816,-76.6801\" stroke=\"#000000\"/>\n",
       "</g>\n",
       "<!-- 140129109941384&#45;&gt;140129109941384 -->\n",
       "<g class=\"edge\" id=\"edge98\">\n",
       "<title>140129109941384-&gt;140129109941384</title>\n",
       "<path d=\"M347.2312,-103.4408C427.9176,-107.5389 509,-103.5586 509,-91.5 509,-79.9595 434.736,-75.8181 357.6279,-79.0756\" fill=\"none\" stroke=\"#000000\"/>\n",
       "<polygon fill=\"#000000\" points=\"357.0578,-75.5983 347.2312,-79.5592 357.383,-82.5907 357.0578,-75.5983\" stroke=\"#000000\"/>\n",
       "</g>\n",
       "<!-- 140129109941384&#45;&gt;140129109941384 -->\n",
       "<g class=\"edge\" id=\"edge99\">\n",
       "<title>140129109941384-&gt;140129109941384</title>\n",
       "<path d=\"M347.3397,-104.3686C435.676,-109.5591 527,-105.2695 527,-91.5 527,-78.2549 442.4999,-73.7814 357.4406,-78.0796\" fill=\"none\" stroke=\"#000000\"/>\n",
       "<polygon fill=\"#000000\" points=\"357.1338,-74.591 347.3397,-78.6314 357.5157,-81.5806 357.1338,-74.591\" stroke=\"#000000\"/>\n",
       "</g>\n",
       "<!-- 140129109941384&#45;&gt;140129109941384 -->\n",
       "<g class=\"edge\" id=\"edge101\">\n",
       "<title>140129109941384-&gt;140129109941384</title>\n",
       "<path d=\"M347.3684,-105.2242C443.253,-111.5865 545,-107.0117 545,-91.5 545,-76.5336 450.2813,-71.7487 357.4983,-77.1453\" fill=\"none\" stroke=\"#000000\"/>\n",
       "<polygon fill=\"#000000\" points=\"357.1316,-73.6613 347.3684,-77.7758 357.5665,-80.6477 357.1316,-73.6613\" stroke=\"#000000\"/>\n",
       "</g>\n",
       "<!-- 140129109941384&#45;&gt;140129109941384 -->\n",
       "<g class=\"edge\" id=\"edge102\">\n",
       "<title>140129109941384-&gt;140129109941384</title>\n",
       "<path d=\"M347.0429,-105.9929C450.4605,-113.6278 563,-108.7969 563,-91.5 563,-74.7605 457.5972,-69.6965 357.0656,-76.3078\" fill=\"none\" stroke=\"#000000\"/>\n",
       "<polygon fill=\"#000000\" points=\"356.775,-72.8195 347.0429,-77.0071 357.2623,-79.8025 356.775,-72.8195\" stroke=\"#000000\"/>\n",
       "</g>\n",
       "<!-- 140129109941384&#45;&gt;140129109941384 -->\n",
       "<g class=\"edge\" id=\"edge104\">\n",
       "<title>140129109941384-&gt;140129109941384</title>\n",
       "<path d=\"M347.324,-106.751C458.0063,-115.652 581,-110.5684 581,-91.5 581,-73.0089 465.3405,-67.6686 357.4063,-75.4791\" fill=\"none\" stroke=\"#000000\"/>\n",
       "<polygon fill=\"#000000\" points=\"357.0284,-71.9977 347.324,-76.249 357.5615,-78.9773 357.0284,-71.9977\" stroke=\"#000000\"/>\n",
       "</g>\n",
       "<!-- 140129109941384&#45;&gt;140129109941384 -->\n",
       "<g class=\"edge\" id=\"edge105\">\n",
       "<title>140129109941384-&gt;140129109941384</title>\n",
       "<path d=\"M347.0241,-107.4128C465.0315,-117.6949 599,-112.3906 599,-91.5 599,-71.201 472.5121,-65.6181 357.0851,-74.7511\" fill=\"none\" stroke=\"#000000\"/>\n",
       "<polygon fill=\"#000000\" points=\"356.6998,-71.271 347.0241,-75.5872 357.2796,-78.247 356.6998,-71.271\" stroke=\"#000000\"/>\n",
       "</g>\n",
       "<!-- 140129109941384&#45;&gt;140129109941384 -->\n",
       "<g class=\"edge\" id=\"edge107\">\n",
       "<title>140129109941384-&gt;140129109941384</title>\n",
       "<path d=\"M347.1197,-108.0632C472.2724,-119.7261 617,-114.2051 617,-91.5 617,-69.4158 480.079,-63.5886 357.4267,-74.0186\" fill=\"none\" stroke=\"#000000\"/>\n",
       "<polygon fill=\"#000000\" points=\"356.7697,-70.5632 347.1197,-74.9368 357.3909,-77.5356 356.7697,-70.5632\" stroke=\"#000000\"/>\n",
       "</g>\n",
       "<!-- 140129109941384&#45;&gt;140129109941384 -->\n",
       "<g class=\"edge\" id=\"edge108\">\n",
       "<title>140129109941384-&gt;140129109941384</title>\n",
       "<path d=\"M347.2381,-108.6767C479.4612,-121.7568 635,-116.0313 635,-91.5 635,-67.5916 487.2594,-61.5461 357.3519,-73.3634\" fill=\"none\" stroke=\"#000000\"/>\n",
       "<polygon fill=\"#000000\" points=\"356.8626,-69.894 347.2381,-74.3233 357.5241,-76.8627 356.8626,-69.894\" stroke=\"#000000\"/>\n",
       "</g>\n",
       "<!-- 140129109941384&#45;&gt;140129109941384 -->\n",
       "<g class=\"edge\" id=\"edge110\">\n",
       "<title>140129109941384-&gt;140129109941384</title>\n",
       "<path d=\"M347.1839,-109.2369C486.45,-123.7922 653,-117.8799 653,-91.5 653,-65.7642 494.483,-59.5087 357.43,-72.7337\" fill=\"none\" stroke=\"#000000\"/>\n",
       "<polygon fill=\"#000000\" points=\"356.7839,-69.2809 347.1839,-73.7631 357.4837,-76.2458 356.7839,-69.2809\" stroke=\"#000000\"/>\n",
       "</g>\n",
       "<!-- 140129109941384&#45;&gt;140129109941384 -->\n",
       "<g class=\"edge\" id=\"edge111\">\n",
       "<title>140129109941384-&gt;140129109941384</title>\n",
       "<path d=\"M344.8106,-109.5063C491.4928,-125.8908 671,-119.8887 671,-91.5 671,-63.7767 499.8086,-57.4029 355.1755,-72.3786\" fill=\"none\" stroke=\"#000000\"/>\n",
       "<polygon fill=\"#000000\" points=\"354.3788,-68.944 344.8106,-73.4937 355.1276,-75.9038 354.3788,-68.944\" stroke=\"#000000\"/>\n",
       "</g>\n",
       "<!-- 140129109941608 -->\n",
       "<g class=\"node\" id=\"node12\">\n",
       "<title>140129109941608</title>\n",
       "<polygon fill=\"none\" points=\"164,-.5 164,-36.5 444,-36.5 444,-.5 164,-.5\" stroke=\"#000000\"/>\n",
       "<text fill=\"#000000\" font-family=\"Times,serif\" font-size=\"14.00\" text-anchor=\"middle\" x=\"304\" y=\"-14.8\">post_attention_LSTM_dense_softmax: Dense</text>\n",
       "</g>\n",
       "<!-- 140129109941384&#45;&gt;140129109941608 -->\n",
       "<g class=\"edge\" id=\"edge112\">\n",
       "<title>140129109941384-&gt;140129109941608</title>\n",
       "<path d=\"M254.3146,-73.4551C262.3267,-64.5932 272.1196,-53.7616 280.8868,-44.0646\" fill=\"none\" stroke=\"#000000\"/>\n",
       "<polygon fill=\"#000000\" points=\"283.5341,-46.3554 287.6443,-36.5904 278.3416,-41.6609 283.5341,-46.3554\" stroke=\"#000000\"/>\n",
       "</g>\n",
       "</g>\n",
       "</svg>"
      ],
      "text/plain": [
       "<IPython.core.display.SVG object>"
      ]
     },
     "execution_count": 22,
     "metadata": {
      "tags": []
     },
     "output_type": "execute_result"
    }
   ],
   "source": [
    "# plot the model schematics\n",
    "SVG(model_to_dot(model).create(prog='dot', format='svg'))"
   ]
  },
  {
   "cell_type": "markdown",
   "metadata": {
    "colab_type": "text",
    "id": "El6CIaLPLVhJ"
   },
   "source": [
    "## 4. Model Training and Evaluation\n",
    "\n",
    "The last step is to define all inputs and outputs to fit the model:\n",
    "- We already have X of shape $(m, Tx)$ containing the training examples.\n",
    "- We need to create `s0` and `c0` to initialize our `post_attention_LSTM` with 0s.\n",
    "- Given the `model()`, we need the \"outputs\" to be a list of Ty elements of shape (m, len(machine_vocab))."
   ]
  },
  {
   "cell_type": "code",
   "execution_count": 0,
   "metadata": {
    "colab": {},
    "colab_type": "code",
    "id": "OcJWyZtLLVhK"
   },
   "outputs": [],
   "source": [
    "# compile the model\n",
    "\n",
    "opt = Adam(lr = 0.005, beta_1 = 0.9, beta_2 = 0.999, decay = 0.01)\n",
    "model.compile(optimizer = opt, loss = 'categorical_crossentropy', metrics = ['accuracy'])"
   ]
  },
  {
   "cell_type": "code",
   "execution_count": 0,
   "metadata": {
    "colab": {},
    "colab_type": "code",
    "id": "4Kxn5aZhLVhM"
   },
   "outputs": [],
   "source": [
    "s0 = np.zeros((m, n_s))\n",
    "c0 = np.zeros((m, n_s))\n",
    "\n",
    "train_x = Xoh\n",
    "# Yoh is (m, Ty, len(machine_vocab)), swap axis 0 and 1 so it is (Ty, m, len(machine_vocab))\n",
    "# convert the first axis to list, to match the output format (a list of Ty arrays)\n",
    "train_y = list(Yoh.swapaxes(0, 1)) "
   ]
  },
  {
   "cell_type": "code",
   "execution_count": 25,
   "metadata": {
    "colab": {
     "base_uri": "https://localhost:8080/",
     "height": 1000
    },
    "colab_type": "code",
    "id": "f-aUViQuLVhP",
    "outputId": "607168f3-21f2-4ae3-cefd-8110b55ebdf2"
   },
   "outputs": [
    {
     "name": "stdout",
     "output_type": "stream",
     "text": [
      "Epoch 1/200\n",
      " - 38s - loss: 12.1342 - post_attention_LSTM_dense_softmax_loss: 2.0468 - post_attention_LSTM_dense_softmax_acc: 0.6329 - post_attention_LSTM_dense_softmax_acc_1: 0.7600 - post_attention_LSTM_dense_softmax_acc_2: 0.4589 - post_attention_LSTM_dense_softmax_acc_3: 0.1943 - post_attention_LSTM_dense_softmax_acc_4: 0.9833 - post_attention_LSTM_dense_softmax_acc_5: 0.6526 - post_attention_LSTM_dense_softmax_acc_6: 0.2423 - post_attention_LSTM_dense_softmax_acc_7: 0.9884 - post_attention_LSTM_dense_softmax_acc_8: 0.4941 - post_attention_LSTM_dense_softmax_acc_9: 0.2654\n",
      "Epoch 2/200\n",
      " - 28s - loss: 4.8067 - post_attention_LSTM_dense_softmax_loss: 1.0386 - post_attention_LSTM_dense_softmax_acc: 0.9416 - post_attention_LSTM_dense_softmax_acc_1: 0.9476 - post_attention_LSTM_dense_softmax_acc_2: 0.7817 - post_attention_LSTM_dense_softmax_acc_3: 0.6483 - post_attention_LSTM_dense_softmax_acc_4: 1.0000 - post_attention_LSTM_dense_softmax_acc_5: 0.9810 - post_attention_LSTM_dense_softmax_acc_6: 0.7280 - post_attention_LSTM_dense_softmax_acc_7: 0.9998 - post_attention_LSTM_dense_softmax_acc_8: 0.7535 - post_attention_LSTM_dense_softmax_acc_9: 0.6314\n",
      "Epoch 3/200\n",
      " - 28s - loss: 2.1113 - post_attention_LSTM_dense_softmax_loss: 0.4820 - post_attention_LSTM_dense_softmax_acc: 0.9829 - post_attention_LSTM_dense_softmax_acc_1: 0.9928 - post_attention_LSTM_dense_softmax_acc_2: 0.9526 - post_attention_LSTM_dense_softmax_acc_3: 0.9546 - post_attention_LSTM_dense_softmax_acc_4: 1.0000 - post_attention_LSTM_dense_softmax_acc_5: 0.9917 - post_attention_LSTM_dense_softmax_acc_6: 0.9226 - post_attention_LSTM_dense_softmax_acc_7: 1.0000 - post_attention_LSTM_dense_softmax_acc_8: 0.8307 - post_attention_LSTM_dense_softmax_acc_9: 0.8294\n",
      "Epoch 4/200\n",
      " - 28s - loss: 1.2287 - post_attention_LSTM_dense_softmax_loss: 0.3112 - post_attention_LSTM_dense_softmax_acc: 0.9979 - post_attention_LSTM_dense_softmax_acc_1: 0.9997 - post_attention_LSTM_dense_softmax_acc_2: 0.9969 - post_attention_LSTM_dense_softmax_acc_3: 0.9942 - post_attention_LSTM_dense_softmax_acc_4: 1.0000 - post_attention_LSTM_dense_softmax_acc_5: 0.9938 - post_attention_LSTM_dense_softmax_acc_6: 0.9719 - post_attention_LSTM_dense_softmax_acc_7: 1.0000 - post_attention_LSTM_dense_softmax_acc_8: 0.8515 - post_attention_LSTM_dense_softmax_acc_9: 0.8777\n",
      "Epoch 5/200\n",
      " - 28s - loss: 0.9025 - post_attention_LSTM_dense_softmax_loss: 0.2341 - post_attention_LSTM_dense_softmax_acc: 0.9996 - post_attention_LSTM_dense_softmax_acc_1: 0.9999 - post_attention_LSTM_dense_softmax_acc_2: 0.9994 - post_attention_LSTM_dense_softmax_acc_3: 0.9954 - post_attention_LSTM_dense_softmax_acc_4: 1.0000 - post_attention_LSTM_dense_softmax_acc_5: 0.9947 - post_attention_LSTM_dense_softmax_acc_6: 0.9851 - post_attention_LSTM_dense_softmax_acc_7: 1.0000 - post_attention_LSTM_dense_softmax_acc_8: 0.8726 - post_attention_LSTM_dense_softmax_acc_9: 0.9098\n",
      "Epoch 6/200\n",
      " - 28s - loss: 0.7108 - post_attention_LSTM_dense_softmax_loss: 0.1766 - post_attention_LSTM_dense_softmax_acc: 0.9997 - post_attention_LSTM_dense_softmax_acc_1: 0.9999 - post_attention_LSTM_dense_softmax_acc_2: 0.9996 - post_attention_LSTM_dense_softmax_acc_3: 0.9954 - post_attention_LSTM_dense_softmax_acc_4: 1.0000 - post_attention_LSTM_dense_softmax_acc_5: 0.9955 - post_attention_LSTM_dense_softmax_acc_6: 0.9901 - post_attention_LSTM_dense_softmax_acc_7: 1.0000 - post_attention_LSTM_dense_softmax_acc_8: 0.8963 - post_attention_LSTM_dense_softmax_acc_9: 0.9412\n",
      "Epoch 7/200\n",
      " - 28s - loss: 0.5648 - post_attention_LSTM_dense_softmax_loss: 0.1275 - post_attention_LSTM_dense_softmax_acc: 0.9998 - post_attention_LSTM_dense_softmax_acc_1: 0.9999 - post_attention_LSTM_dense_softmax_acc_2: 0.9996 - post_attention_LSTM_dense_softmax_acc_3: 0.9955 - post_attention_LSTM_dense_softmax_acc_4: 1.0000 - post_attention_LSTM_dense_softmax_acc_5: 0.9963 - post_attention_LSTM_dense_softmax_acc_6: 0.9927 - post_attention_LSTM_dense_softmax_acc_7: 1.0000 - post_attention_LSTM_dense_softmax_acc_8: 0.9211 - post_attention_LSTM_dense_softmax_acc_9: 0.9702\n",
      "Epoch 8/200\n",
      " - 28s - loss: 0.4469 - post_attention_LSTM_dense_softmax_loss: 0.0884 - post_attention_LSTM_dense_softmax_acc: 0.9998 - post_attention_LSTM_dense_softmax_acc_1: 0.9999 - post_attention_LSTM_dense_softmax_acc_2: 0.9996 - post_attention_LSTM_dense_softmax_acc_3: 0.9955 - post_attention_LSTM_dense_softmax_acc_4: 1.0000 - post_attention_LSTM_dense_softmax_acc_5: 0.9969 - post_attention_LSTM_dense_softmax_acc_6: 0.9948 - post_attention_LSTM_dense_softmax_acc_7: 1.0000 - post_attention_LSTM_dense_softmax_acc_8: 0.9442 - post_attention_LSTM_dense_softmax_acc_9: 0.9872\n",
      "Epoch 9/200\n",
      " - 28s - loss: 0.3574 - post_attention_LSTM_dense_softmax_loss: 0.0620 - post_attention_LSTM_dense_softmax_acc: 0.9998 - post_attention_LSTM_dense_softmax_acc_1: 0.9999 - post_attention_LSTM_dense_softmax_acc_2: 0.9996 - post_attention_LSTM_dense_softmax_acc_3: 0.9955 - post_attention_LSTM_dense_softmax_acc_4: 1.0000 - post_attention_LSTM_dense_softmax_acc_5: 0.9972 - post_attention_LSTM_dense_softmax_acc_6: 0.9956 - post_attention_LSTM_dense_softmax_acc_7: 1.0000 - post_attention_LSTM_dense_softmax_acc_8: 0.9592 - post_attention_LSTM_dense_softmax_acc_9: 0.9948\n",
      "Epoch 10/200\n",
      " - 28s - loss: 0.2911 - post_attention_LSTM_dense_softmax_loss: 0.0463 - post_attention_LSTM_dense_softmax_acc: 0.9999 - post_attention_LSTM_dense_softmax_acc_1: 0.9999 - post_attention_LSTM_dense_softmax_acc_2: 0.9996 - post_attention_LSTM_dense_softmax_acc_3: 0.9955 - post_attention_LSTM_dense_softmax_acc_4: 1.0000 - post_attention_LSTM_dense_softmax_acc_5: 0.9976 - post_attention_LSTM_dense_softmax_acc_6: 0.9965 - post_attention_LSTM_dense_softmax_acc_7: 1.0000 - post_attention_LSTM_dense_softmax_acc_8: 0.9712 - post_attention_LSTM_dense_softmax_acc_9: 0.9975\n",
      "Epoch 11/200\n",
      " - 28s - loss: 0.2414 - post_attention_LSTM_dense_softmax_loss: 0.0351 - post_attention_LSTM_dense_softmax_acc: 0.9999 - post_attention_LSTM_dense_softmax_acc_1: 0.9999 - post_attention_LSTM_dense_softmax_acc_2: 0.9996 - post_attention_LSTM_dense_softmax_acc_3: 0.9955 - post_attention_LSTM_dense_softmax_acc_4: 1.0000 - post_attention_LSTM_dense_softmax_acc_5: 0.9978 - post_attention_LSTM_dense_softmax_acc_6: 0.9971 - post_attention_LSTM_dense_softmax_acc_7: 1.0000 - post_attention_LSTM_dense_softmax_acc_8: 0.9788 - post_attention_LSTM_dense_softmax_acc_9: 0.9988\n",
      "Epoch 12/200\n",
      " - 28s - loss: 0.2040 - post_attention_LSTM_dense_softmax_loss: 0.0277 - post_attention_LSTM_dense_softmax_acc: 0.9999 - post_attention_LSTM_dense_softmax_acc_1: 0.9999 - post_attention_LSTM_dense_softmax_acc_2: 0.9996 - post_attention_LSTM_dense_softmax_acc_3: 0.9955 - post_attention_LSTM_dense_softmax_acc_4: 1.0000 - post_attention_LSTM_dense_softmax_acc_5: 0.9981 - post_attention_LSTM_dense_softmax_acc_6: 0.9974 - post_attention_LSTM_dense_softmax_acc_7: 1.0000 - post_attention_LSTM_dense_softmax_acc_8: 0.9852 - post_attention_LSTM_dense_softmax_acc_9: 0.9994\n",
      "Epoch 13/200\n",
      " - 28s - loss: 0.1754 - post_attention_LSTM_dense_softmax_loss: 0.0225 - post_attention_LSTM_dense_softmax_acc: 0.9999 - post_attention_LSTM_dense_softmax_acc_1: 0.9999 - post_attention_LSTM_dense_softmax_acc_2: 0.9996 - post_attention_LSTM_dense_softmax_acc_3: 0.9955 - post_attention_LSTM_dense_softmax_acc_4: 1.0000 - post_attention_LSTM_dense_softmax_acc_5: 0.9984 - post_attention_LSTM_dense_softmax_acc_6: 0.9978 - post_attention_LSTM_dense_softmax_acc_7: 1.0000 - post_attention_LSTM_dense_softmax_acc_8: 0.9895 - post_attention_LSTM_dense_softmax_acc_9: 0.9995\n",
      "Epoch 14/200\n",
      " - 28s - loss: 0.1537 - post_attention_LSTM_dense_softmax_loss: 0.0187 - post_attention_LSTM_dense_softmax_acc: 0.9999 - post_attention_LSTM_dense_softmax_acc_1: 0.9999 - post_attention_LSTM_dense_softmax_acc_2: 0.9996 - post_attention_LSTM_dense_softmax_acc_3: 0.9955 - post_attention_LSTM_dense_softmax_acc_4: 1.0000 - post_attention_LSTM_dense_softmax_acc_5: 0.9985 - post_attention_LSTM_dense_softmax_acc_6: 0.9982 - post_attention_LSTM_dense_softmax_acc_7: 1.0000 - post_attention_LSTM_dense_softmax_acc_8: 0.9927 - post_attention_LSTM_dense_softmax_acc_9: 0.9997\n",
      "Epoch 15/200\n",
      " - 28s - loss: 0.1364 - post_attention_LSTM_dense_softmax_loss: 0.0157 - post_attention_LSTM_dense_softmax_acc: 0.9999 - post_attention_LSTM_dense_softmax_acc_1: 0.9999 - post_attention_LSTM_dense_softmax_acc_2: 0.9996 - post_attention_LSTM_dense_softmax_acc_3: 0.9955 - post_attention_LSTM_dense_softmax_acc_4: 1.0000 - post_attention_LSTM_dense_softmax_acc_5: 0.9986 - post_attention_LSTM_dense_softmax_acc_6: 0.9984 - post_attention_LSTM_dense_softmax_acc_7: 1.0000 - post_attention_LSTM_dense_softmax_acc_8: 0.9948 - post_attention_LSTM_dense_softmax_acc_9: 0.9998\n",
      "Epoch 16/200\n",
      " - 28s - loss: 0.1224 - post_attention_LSTM_dense_softmax_loss: 0.0134 - post_attention_LSTM_dense_softmax_acc: 0.9999 - post_attention_LSTM_dense_softmax_acc_1: 0.9999 - post_attention_LSTM_dense_softmax_acc_2: 0.9996 - post_attention_LSTM_dense_softmax_acc_3: 0.9955 - post_attention_LSTM_dense_softmax_acc_4: 1.0000 - post_attention_LSTM_dense_softmax_acc_5: 0.9990 - post_attention_LSTM_dense_softmax_acc_6: 0.9987 - post_attention_LSTM_dense_softmax_acc_7: 1.0000 - post_attention_LSTM_dense_softmax_acc_8: 0.9966 - post_attention_LSTM_dense_softmax_acc_9: 0.9999\n",
      "Epoch 17/200\n",
      " - 28s - loss: 0.1115 - post_attention_LSTM_dense_softmax_loss: 0.0116 - post_attention_LSTM_dense_softmax_acc: 0.9999 - post_attention_LSTM_dense_softmax_acc_1: 0.9999 - post_attention_LSTM_dense_softmax_acc_2: 0.9996 - post_attention_LSTM_dense_softmax_acc_3: 0.9955 - post_attention_LSTM_dense_softmax_acc_4: 1.0000 - post_attention_LSTM_dense_softmax_acc_5: 0.9989 - post_attention_LSTM_dense_softmax_acc_6: 0.9990 - post_attention_LSTM_dense_softmax_acc_7: 1.0000 - post_attention_LSTM_dense_softmax_acc_8: 0.9980 - post_attention_LSTM_dense_softmax_acc_9: 0.9999\n",
      "Epoch 18/200\n",
      " - 28s - loss: 0.1027 - post_attention_LSTM_dense_softmax_loss: 0.0103 - post_attention_LSTM_dense_softmax_acc: 0.9999 - post_attention_LSTM_dense_softmax_acc_1: 0.9999 - post_attention_LSTM_dense_softmax_acc_2: 0.9996 - post_attention_LSTM_dense_softmax_acc_3: 0.9955 - post_attention_LSTM_dense_softmax_acc_4: 1.0000 - post_attention_LSTM_dense_softmax_acc_5: 0.9992 - post_attention_LSTM_dense_softmax_acc_6: 0.9992 - post_attention_LSTM_dense_softmax_acc_7: 1.0000 - post_attention_LSTM_dense_softmax_acc_8: 0.9987 - post_attention_LSTM_dense_softmax_acc_9: 1.0000\n",
      "Epoch 19/200\n",
      " - 28s - loss: 0.0950 - post_attention_LSTM_dense_softmax_loss: 0.0090 - post_attention_LSTM_dense_softmax_acc: 0.9999 - post_attention_LSTM_dense_softmax_acc_1: 0.9999 - post_attention_LSTM_dense_softmax_acc_2: 0.9996 - post_attention_LSTM_dense_softmax_acc_3: 0.9955 - post_attention_LSTM_dense_softmax_acc_4: 1.0000 - post_attention_LSTM_dense_softmax_acc_5: 0.9993 - post_attention_LSTM_dense_softmax_acc_6: 0.9993 - post_attention_LSTM_dense_softmax_acc_7: 1.0000 - post_attention_LSTM_dense_softmax_acc_8: 0.9989 - post_attention_LSTM_dense_softmax_acc_9: 1.0000\n",
      "Epoch 20/200\n",
      " - 28s - loss: 0.0889 - post_attention_LSTM_dense_softmax_loss: 0.0081 - post_attention_LSTM_dense_softmax_acc: 0.9999 - post_attention_LSTM_dense_softmax_acc_1: 0.9999 - post_attention_LSTM_dense_softmax_acc_2: 0.9996 - post_attention_LSTM_dense_softmax_acc_3: 0.9955 - post_attention_LSTM_dense_softmax_acc_4: 1.0000 - post_attention_LSTM_dense_softmax_acc_5: 0.9993 - post_attention_LSTM_dense_softmax_acc_6: 0.9995 - post_attention_LSTM_dense_softmax_acc_7: 1.0000 - post_attention_LSTM_dense_softmax_acc_8: 0.9993 - post_attention_LSTM_dense_softmax_acc_9: 1.0000\n",
      "Epoch 21/200\n",
      " - 27s - loss: 0.0835 - post_attention_LSTM_dense_softmax_loss: 0.0072 - post_attention_LSTM_dense_softmax_acc: 0.9999 - post_attention_LSTM_dense_softmax_acc_1: 0.9999 - post_attention_LSTM_dense_softmax_acc_2: 0.9996 - post_attention_LSTM_dense_softmax_acc_3: 0.9955 - post_attention_LSTM_dense_softmax_acc_4: 1.0000 - post_attention_LSTM_dense_softmax_acc_5: 0.9995 - post_attention_LSTM_dense_softmax_acc_6: 0.9995 - post_attention_LSTM_dense_softmax_acc_7: 1.0000 - post_attention_LSTM_dense_softmax_acc_8: 0.9994 - post_attention_LSTM_dense_softmax_acc_9: 1.0000\n",
      "Epoch 22/200\n",
      " - 28s - loss: 0.0789 - post_attention_LSTM_dense_softmax_loss: 0.0066 - post_attention_LSTM_dense_softmax_acc: 0.9999 - post_attention_LSTM_dense_softmax_acc_1: 0.9999 - post_attention_LSTM_dense_softmax_acc_2: 0.9996 - post_attention_LSTM_dense_softmax_acc_3: 0.9955 - post_attention_LSTM_dense_softmax_acc_4: 1.0000 - post_attention_LSTM_dense_softmax_acc_5: 0.9995 - post_attention_LSTM_dense_softmax_acc_6: 0.9996 - post_attention_LSTM_dense_softmax_acc_7: 1.0000 - post_attention_LSTM_dense_softmax_acc_8: 0.9996 - post_attention_LSTM_dense_softmax_acc_9: 1.0000\n",
      "Epoch 23/200\n",
      " - 28s - loss: 0.0750 - post_attention_LSTM_dense_softmax_loss: 0.0059 - post_attention_LSTM_dense_softmax_acc: 0.9999 - post_attention_LSTM_dense_softmax_acc_1: 0.9999 - post_attention_LSTM_dense_softmax_acc_2: 0.9996 - post_attention_LSTM_dense_softmax_acc_3: 0.9955 - post_attention_LSTM_dense_softmax_acc_4: 1.0000 - post_attention_LSTM_dense_softmax_acc_5: 0.9996 - post_attention_LSTM_dense_softmax_acc_6: 0.9997 - post_attention_LSTM_dense_softmax_acc_7: 1.0000 - post_attention_LSTM_dense_softmax_acc_8: 0.9996 - post_attention_LSTM_dense_softmax_acc_9: 1.0000\n",
      "Epoch 24/200\n",
      " - 27s - loss: 0.0713 - post_attention_LSTM_dense_softmax_loss: 0.0054 - post_attention_LSTM_dense_softmax_acc: 0.9999 - post_attention_LSTM_dense_softmax_acc_1: 0.9999 - post_attention_LSTM_dense_softmax_acc_2: 0.9996 - post_attention_LSTM_dense_softmax_acc_3: 0.9955 - post_attention_LSTM_dense_softmax_acc_4: 1.0000 - post_attention_LSTM_dense_softmax_acc_5: 0.9997 - post_attention_LSTM_dense_softmax_acc_6: 0.9998 - post_attention_LSTM_dense_softmax_acc_7: 1.0000 - post_attention_LSTM_dense_softmax_acc_8: 0.9998 - post_attention_LSTM_dense_softmax_acc_9: 1.0000\n",
      "Epoch 25/200\n",
      " - 28s - loss: 0.0684 - post_attention_LSTM_dense_softmax_loss: 0.0049 - post_attention_LSTM_dense_softmax_acc: 0.9999 - post_attention_LSTM_dense_softmax_acc_1: 0.9999 - post_attention_LSTM_dense_softmax_acc_2: 0.9996 - post_attention_LSTM_dense_softmax_acc_3: 0.9955 - post_attention_LSTM_dense_softmax_acc_4: 1.0000 - post_attention_LSTM_dense_softmax_acc_5: 0.9997 - post_attention_LSTM_dense_softmax_acc_6: 0.9999 - post_attention_LSTM_dense_softmax_acc_7: 1.0000 - post_attention_LSTM_dense_softmax_acc_8: 0.9998 - post_attention_LSTM_dense_softmax_acc_9: 1.0000\n",
      "Epoch 26/200\n",
      " - 28s - loss: 0.0657 - post_attention_LSTM_dense_softmax_loss: 0.0045 - post_attention_LSTM_dense_softmax_acc: 0.9999 - post_attention_LSTM_dense_softmax_acc_1: 0.9999 - post_attention_LSTM_dense_softmax_acc_2: 0.9996 - post_attention_LSTM_dense_softmax_acc_3: 0.9955 - post_attention_LSTM_dense_softmax_acc_4: 1.0000 - post_attention_LSTM_dense_softmax_acc_5: 0.9998 - post_attention_LSTM_dense_softmax_acc_6: 0.9999 - post_attention_LSTM_dense_softmax_acc_7: 1.0000 - post_attention_LSTM_dense_softmax_acc_8: 0.9998 - post_attention_LSTM_dense_softmax_acc_9: 1.0000\n",
      "Epoch 27/200\n",
      " - 28s - loss: 0.0632 - post_attention_LSTM_dense_softmax_loss: 0.0041 - post_attention_LSTM_dense_softmax_acc: 0.9999 - post_attention_LSTM_dense_softmax_acc_1: 0.9999 - post_attention_LSTM_dense_softmax_acc_2: 0.9996 - post_attention_LSTM_dense_softmax_acc_3: 0.9955 - post_attention_LSTM_dense_softmax_acc_4: 1.0000 - post_attention_LSTM_dense_softmax_acc_5: 0.9998 - post_attention_LSTM_dense_softmax_acc_6: 0.9999 - post_attention_LSTM_dense_softmax_acc_7: 1.0000 - post_attention_LSTM_dense_softmax_acc_8: 0.9998 - post_attention_LSTM_dense_softmax_acc_9: 1.0000\n",
      "Epoch 28/200\n",
      " - 28s - loss: 0.0611 - post_attention_LSTM_dense_softmax_loss: 0.0038 - post_attention_LSTM_dense_softmax_acc: 0.9999 - post_attention_LSTM_dense_softmax_acc_1: 0.9999 - post_attention_LSTM_dense_softmax_acc_2: 0.9996 - post_attention_LSTM_dense_softmax_acc_3: 0.9955 - post_attention_LSTM_dense_softmax_acc_4: 1.0000 - post_attention_LSTM_dense_softmax_acc_5: 0.9999 - post_attention_LSTM_dense_softmax_acc_6: 0.9999 - post_attention_LSTM_dense_softmax_acc_7: 1.0000 - post_attention_LSTM_dense_softmax_acc_8: 0.9999 - post_attention_LSTM_dense_softmax_acc_9: 1.0000\n",
      "Epoch 29/200\n",
      " - 28s - loss: 0.0592 - post_attention_LSTM_dense_softmax_loss: 0.0035 - post_attention_LSTM_dense_softmax_acc: 0.9999 - post_attention_LSTM_dense_softmax_acc_1: 0.9999 - post_attention_LSTM_dense_softmax_acc_2: 0.9996 - post_attention_LSTM_dense_softmax_acc_3: 0.9955 - post_attention_LSTM_dense_softmax_acc_4: 1.0000 - post_attention_LSTM_dense_softmax_acc_5: 0.9999 - post_attention_LSTM_dense_softmax_acc_6: 0.9999 - post_attention_LSTM_dense_softmax_acc_7: 1.0000 - post_attention_LSTM_dense_softmax_acc_8: 1.0000 - post_attention_LSTM_dense_softmax_acc_9: 1.0000\n",
      "Epoch 30/200\n",
      " - 28s - loss: 0.0574 - post_attention_LSTM_dense_softmax_loss: 0.0033 - post_attention_LSTM_dense_softmax_acc: 0.9999 - post_attention_LSTM_dense_softmax_acc_1: 0.9999 - post_attention_LSTM_dense_softmax_acc_2: 0.9996 - post_attention_LSTM_dense_softmax_acc_3: 0.9955 - post_attention_LSTM_dense_softmax_acc_4: 1.0000 - post_attention_LSTM_dense_softmax_acc_5: 0.9999 - post_attention_LSTM_dense_softmax_acc_6: 1.0000 - post_attention_LSTM_dense_softmax_acc_7: 1.0000 - post_attention_LSTM_dense_softmax_acc_8: 1.0000 - post_attention_LSTM_dense_softmax_acc_9: 1.0000\n",
      "Epoch 31/200\n",
      " - 28s - loss: 0.0557 - post_attention_LSTM_dense_softmax_loss: 0.0030 - post_attention_LSTM_dense_softmax_acc: 0.9999 - post_attention_LSTM_dense_softmax_acc_1: 0.9999 - post_attention_LSTM_dense_softmax_acc_2: 0.9996 - post_attention_LSTM_dense_softmax_acc_3: 0.9955 - post_attention_LSTM_dense_softmax_acc_4: 1.0000 - post_attention_LSTM_dense_softmax_acc_5: 0.9999 - post_attention_LSTM_dense_softmax_acc_6: 1.0000 - post_attention_LSTM_dense_softmax_acc_7: 1.0000 - post_attention_LSTM_dense_softmax_acc_8: 1.0000 - post_attention_LSTM_dense_softmax_acc_9: 1.0000\n",
      "Epoch 32/200\n",
      " - 28s - loss: 0.0542 - post_attention_LSTM_dense_softmax_loss: 0.0029 - post_attention_LSTM_dense_softmax_acc: 0.9999 - post_attention_LSTM_dense_softmax_acc_1: 0.9999 - post_attention_LSTM_dense_softmax_acc_2: 0.9996 - post_attention_LSTM_dense_softmax_acc_3: 0.9955 - post_attention_LSTM_dense_softmax_acc_4: 1.0000 - post_attention_LSTM_dense_softmax_acc_5: 1.0000 - post_attention_LSTM_dense_softmax_acc_6: 1.0000 - post_attention_LSTM_dense_softmax_acc_7: 1.0000 - post_attention_LSTM_dense_softmax_acc_8: 1.0000 - post_attention_LSTM_dense_softmax_acc_9: 1.0000\n",
      "Epoch 33/200\n",
      " - 28s - loss: 0.0529 - post_attention_LSTM_dense_softmax_loss: 0.0027 - post_attention_LSTM_dense_softmax_acc: 0.9999 - post_attention_LSTM_dense_softmax_acc_1: 0.9999 - post_attention_LSTM_dense_softmax_acc_2: 0.9996 - post_attention_LSTM_dense_softmax_acc_3: 0.9955 - post_attention_LSTM_dense_softmax_acc_4: 1.0000 - post_attention_LSTM_dense_softmax_acc_5: 0.9999 - post_attention_LSTM_dense_softmax_acc_6: 1.0000 - post_attention_LSTM_dense_softmax_acc_7: 1.0000 - post_attention_LSTM_dense_softmax_acc_8: 1.0000 - post_attention_LSTM_dense_softmax_acc_9: 1.0000\n",
      "Epoch 34/200\n",
      " - 28s - loss: 0.0516 - post_attention_LSTM_dense_softmax_loss: 0.0025 - post_attention_LSTM_dense_softmax_acc: 0.9999 - post_attention_LSTM_dense_softmax_acc_1: 0.9999 - post_attention_LSTM_dense_softmax_acc_2: 0.9996 - post_attention_LSTM_dense_softmax_acc_3: 0.9955 - post_attention_LSTM_dense_softmax_acc_4: 1.0000 - post_attention_LSTM_dense_softmax_acc_5: 0.9999 - post_attention_LSTM_dense_softmax_acc_6: 1.0000 - post_attention_LSTM_dense_softmax_acc_7: 1.0000 - post_attention_LSTM_dense_softmax_acc_8: 1.0000 - post_attention_LSTM_dense_softmax_acc_9: 1.0000\n",
      "Epoch 35/200\n",
      " - 28s - loss: 0.0505 - post_attention_LSTM_dense_softmax_loss: 0.0023 - post_attention_LSTM_dense_softmax_acc: 0.9999 - post_attention_LSTM_dense_softmax_acc_1: 0.9999 - post_attention_LSTM_dense_softmax_acc_2: 0.9996 - post_attention_LSTM_dense_softmax_acc_3: 0.9955 - post_attention_LSTM_dense_softmax_acc_4: 1.0000 - post_attention_LSTM_dense_softmax_acc_5: 1.0000 - post_attention_LSTM_dense_softmax_acc_6: 1.0000 - post_attention_LSTM_dense_softmax_acc_7: 1.0000 - post_attention_LSTM_dense_softmax_acc_8: 1.0000 - post_attention_LSTM_dense_softmax_acc_9: 1.0000\n",
      "Epoch 36/200\n",
      " - 28s - loss: 0.0495 - post_attention_LSTM_dense_softmax_loss: 0.0022 - post_attention_LSTM_dense_softmax_acc: 0.9999 - post_attention_LSTM_dense_softmax_acc_1: 0.9999 - post_attention_LSTM_dense_softmax_acc_2: 0.9996 - post_attention_LSTM_dense_softmax_acc_3: 0.9955 - post_attention_LSTM_dense_softmax_acc_4: 1.0000 - post_attention_LSTM_dense_softmax_acc_5: 1.0000 - post_attention_LSTM_dense_softmax_acc_6: 1.0000 - post_attention_LSTM_dense_softmax_acc_7: 1.0000 - post_attention_LSTM_dense_softmax_acc_8: 1.0000 - post_attention_LSTM_dense_softmax_acc_9: 1.0000\n",
      "Epoch 37/200\n",
      " - 28s - loss: 0.0484 - post_attention_LSTM_dense_softmax_loss: 0.0021 - post_attention_LSTM_dense_softmax_acc: 0.9999 - post_attention_LSTM_dense_softmax_acc_1: 0.9999 - post_attention_LSTM_dense_softmax_acc_2: 0.9996 - post_attention_LSTM_dense_softmax_acc_3: 0.9955 - post_attention_LSTM_dense_softmax_acc_4: 1.0000 - post_attention_LSTM_dense_softmax_acc_5: 1.0000 - post_attention_LSTM_dense_softmax_acc_6: 1.0000 - post_attention_LSTM_dense_softmax_acc_7: 1.0000 - post_attention_LSTM_dense_softmax_acc_8: 1.0000 - post_attention_LSTM_dense_softmax_acc_9: 1.0000\n",
      "Epoch 38/200\n",
      " - 28s - loss: 0.0476 - post_attention_LSTM_dense_softmax_loss: 0.0020 - post_attention_LSTM_dense_softmax_acc: 0.9999 - post_attention_LSTM_dense_softmax_acc_1: 0.9999 - post_attention_LSTM_dense_softmax_acc_2: 0.9996 - post_attention_LSTM_dense_softmax_acc_3: 0.9955 - post_attention_LSTM_dense_softmax_acc_4: 1.0000 - post_attention_LSTM_dense_softmax_acc_5: 1.0000 - post_attention_LSTM_dense_softmax_acc_6: 1.0000 - post_attention_LSTM_dense_softmax_acc_7: 1.0000 - post_attention_LSTM_dense_softmax_acc_8: 1.0000 - post_attention_LSTM_dense_softmax_acc_9: 1.0000\n",
      "Epoch 39/200\n",
      " - 28s - loss: 0.0467 - post_attention_LSTM_dense_softmax_loss: 0.0019 - post_attention_LSTM_dense_softmax_acc: 0.9999 - post_attention_LSTM_dense_softmax_acc_1: 0.9999 - post_attention_LSTM_dense_softmax_acc_2: 0.9996 - post_attention_LSTM_dense_softmax_acc_3: 0.9955 - post_attention_LSTM_dense_softmax_acc_4: 1.0000 - post_attention_LSTM_dense_softmax_acc_5: 1.0000 - post_attention_LSTM_dense_softmax_acc_6: 1.0000 - post_attention_LSTM_dense_softmax_acc_7: 1.0000 - post_attention_LSTM_dense_softmax_acc_8: 1.0000 - post_attention_LSTM_dense_softmax_acc_9: 1.0000\n",
      "Epoch 40/200\n",
      " - 28s - loss: 0.0458 - post_attention_LSTM_dense_softmax_loss: 0.0018 - post_attention_LSTM_dense_softmax_acc: 0.9999 - post_attention_LSTM_dense_softmax_acc_1: 0.9999 - post_attention_LSTM_dense_softmax_acc_2: 0.9996 - post_attention_LSTM_dense_softmax_acc_3: 0.9955 - post_attention_LSTM_dense_softmax_acc_4: 1.0000 - post_attention_LSTM_dense_softmax_acc_5: 1.0000 - post_attention_LSTM_dense_softmax_acc_6: 1.0000 - post_attention_LSTM_dense_softmax_acc_7: 1.0000 - post_attention_LSTM_dense_softmax_acc_8: 1.0000 - post_attention_LSTM_dense_softmax_acc_9: 1.0000\n",
      "Epoch 41/200\n",
      " - 28s - loss: 0.0452 - post_attention_LSTM_dense_softmax_loss: 0.0017 - post_attention_LSTM_dense_softmax_acc: 0.9999 - post_attention_LSTM_dense_softmax_acc_1: 0.9999 - post_attention_LSTM_dense_softmax_acc_2: 0.9996 - post_attention_LSTM_dense_softmax_acc_3: 0.9955 - post_attention_LSTM_dense_softmax_acc_4: 1.0000 - post_attention_LSTM_dense_softmax_acc_5: 1.0000 - post_attention_LSTM_dense_softmax_acc_6: 1.0000 - post_attention_LSTM_dense_softmax_acc_7: 1.0000 - post_attention_LSTM_dense_softmax_acc_8: 1.0000 - post_attention_LSTM_dense_softmax_acc_9: 1.0000\n",
      "Epoch 42/200\n",
      " - 28s - loss: 0.0444 - post_attention_LSTM_dense_softmax_loss: 0.0016 - post_attention_LSTM_dense_softmax_acc: 0.9999 - post_attention_LSTM_dense_softmax_acc_1: 0.9999 - post_attention_LSTM_dense_softmax_acc_2: 0.9996 - post_attention_LSTM_dense_softmax_acc_3: 0.9955 - post_attention_LSTM_dense_softmax_acc_4: 1.0000 - post_attention_LSTM_dense_softmax_acc_5: 1.0000 - post_attention_LSTM_dense_softmax_acc_6: 1.0000 - post_attention_LSTM_dense_softmax_acc_7: 1.0000 - post_attention_LSTM_dense_softmax_acc_8: 1.0000 - post_attention_LSTM_dense_softmax_acc_9: 1.0000\n",
      "Epoch 43/200\n",
      " - 28s - loss: 0.0437 - post_attention_LSTM_dense_softmax_loss: 0.0015 - post_attention_LSTM_dense_softmax_acc: 0.9999 - post_attention_LSTM_dense_softmax_acc_1: 0.9999 - post_attention_LSTM_dense_softmax_acc_2: 0.9996 - post_attention_LSTM_dense_softmax_acc_3: 0.9955 - post_attention_LSTM_dense_softmax_acc_4: 1.0000 - post_attention_LSTM_dense_softmax_acc_5: 1.0000 - post_attention_LSTM_dense_softmax_acc_6: 1.0000 - post_attention_LSTM_dense_softmax_acc_7: 1.0000 - post_attention_LSTM_dense_softmax_acc_8: 1.0000 - post_attention_LSTM_dense_softmax_acc_9: 1.0000\n",
      "Epoch 44/200\n",
      " - 28s - loss: 0.0431 - post_attention_LSTM_dense_softmax_loss: 0.0014 - post_attention_LSTM_dense_softmax_acc: 0.9999 - post_attention_LSTM_dense_softmax_acc_1: 0.9999 - post_attention_LSTM_dense_softmax_acc_2: 0.9996 - post_attention_LSTM_dense_softmax_acc_3: 0.9955 - post_attention_LSTM_dense_softmax_acc_4: 1.0000 - post_attention_LSTM_dense_softmax_acc_5: 1.0000 - post_attention_LSTM_dense_softmax_acc_6: 1.0000 - post_attention_LSTM_dense_softmax_acc_7: 1.0000 - post_attention_LSTM_dense_softmax_acc_8: 1.0000 - post_attention_LSTM_dense_softmax_acc_9: 1.0000\n",
      "Epoch 45/200\n",
      " - 28s - loss: 0.0425 - post_attention_LSTM_dense_softmax_loss: 0.0014 - post_attention_LSTM_dense_softmax_acc: 0.9999 - post_attention_LSTM_dense_softmax_acc_1: 0.9999 - post_attention_LSTM_dense_softmax_acc_2: 0.9996 - post_attention_LSTM_dense_softmax_acc_3: 0.9955 - post_attention_LSTM_dense_softmax_acc_4: 1.0000 - post_attention_LSTM_dense_softmax_acc_5: 1.0000 - post_attention_LSTM_dense_softmax_acc_6: 1.0000 - post_attention_LSTM_dense_softmax_acc_7: 1.0000 - post_attention_LSTM_dense_softmax_acc_8: 1.0000 - post_attention_LSTM_dense_softmax_acc_9: 1.0000\n",
      "Epoch 46/200\n",
      " - 28s - loss: 0.0420 - post_attention_LSTM_dense_softmax_loss: 0.0013 - post_attention_LSTM_dense_softmax_acc: 0.9999 - post_attention_LSTM_dense_softmax_acc_1: 0.9999 - post_attention_LSTM_dense_softmax_acc_2: 0.9996 - post_attention_LSTM_dense_softmax_acc_3: 0.9955 - post_attention_LSTM_dense_softmax_acc_4: 1.0000 - post_attention_LSTM_dense_softmax_acc_5: 1.0000 - post_attention_LSTM_dense_softmax_acc_6: 1.0000 - post_attention_LSTM_dense_softmax_acc_7: 1.0000 - post_attention_LSTM_dense_softmax_acc_8: 1.0000 - post_attention_LSTM_dense_softmax_acc_9: 1.0000\n",
      "Epoch 47/200\n",
      " - 28s - loss: 0.0414 - post_attention_LSTM_dense_softmax_loss: 0.0013 - post_attention_LSTM_dense_softmax_acc: 0.9999 - post_attention_LSTM_dense_softmax_acc_1: 0.9999 - post_attention_LSTM_dense_softmax_acc_2: 0.9996 - post_attention_LSTM_dense_softmax_acc_3: 0.9955 - post_attention_LSTM_dense_softmax_acc_4: 1.0000 - post_attention_LSTM_dense_softmax_acc_5: 1.0000 - post_attention_LSTM_dense_softmax_acc_6: 1.0000 - post_attention_LSTM_dense_softmax_acc_7: 1.0000 - post_attention_LSTM_dense_softmax_acc_8: 1.0000 - post_attention_LSTM_dense_softmax_acc_9: 1.0000\n",
      "Epoch 48/200\n",
      " - 28s - loss: 0.0410 - post_attention_LSTM_dense_softmax_loss: 0.0012 - post_attention_LSTM_dense_softmax_acc: 0.9999 - post_attention_LSTM_dense_softmax_acc_1: 0.9999 - post_attention_LSTM_dense_softmax_acc_2: 0.9996 - post_attention_LSTM_dense_softmax_acc_3: 0.9955 - post_attention_LSTM_dense_softmax_acc_4: 1.0000 - post_attention_LSTM_dense_softmax_acc_5: 1.0000 - post_attention_LSTM_dense_softmax_acc_6: 1.0000 - post_attention_LSTM_dense_softmax_acc_7: 1.0000 - post_attention_LSTM_dense_softmax_acc_8: 1.0000 - post_attention_LSTM_dense_softmax_acc_9: 1.0000\n",
      "Epoch 49/200\n",
      " - 28s - loss: 0.0404 - post_attention_LSTM_dense_softmax_loss: 0.0012 - post_attention_LSTM_dense_softmax_acc: 0.9999 - post_attention_LSTM_dense_softmax_acc_1: 0.9999 - post_attention_LSTM_dense_softmax_acc_2: 0.9996 - post_attention_LSTM_dense_softmax_acc_3: 0.9955 - post_attention_LSTM_dense_softmax_acc_4: 1.0000 - post_attention_LSTM_dense_softmax_acc_5: 1.0000 - post_attention_LSTM_dense_softmax_acc_6: 1.0000 - post_attention_LSTM_dense_softmax_acc_7: 1.0000 - post_attention_LSTM_dense_softmax_acc_8: 1.0000 - post_attention_LSTM_dense_softmax_acc_9: 1.0000\n",
      "Epoch 50/200\n",
      " - 28s - loss: 0.0399 - post_attention_LSTM_dense_softmax_loss: 0.0011 - post_attention_LSTM_dense_softmax_acc: 0.9999 - post_attention_LSTM_dense_softmax_acc_1: 0.9999 - post_attention_LSTM_dense_softmax_acc_2: 0.9996 - post_attention_LSTM_dense_softmax_acc_3: 0.9955 - post_attention_LSTM_dense_softmax_acc_4: 1.0000 - post_attention_LSTM_dense_softmax_acc_5: 1.0000 - post_attention_LSTM_dense_softmax_acc_6: 1.0000 - post_attention_LSTM_dense_softmax_acc_7: 1.0000 - post_attention_LSTM_dense_softmax_acc_8: 1.0000 - post_attention_LSTM_dense_softmax_acc_9: 1.0000\n",
      "Epoch 51/200\n",
      " - 28s - loss: 0.0394 - post_attention_LSTM_dense_softmax_loss: 0.0011 - post_attention_LSTM_dense_softmax_acc: 0.9999 - post_attention_LSTM_dense_softmax_acc_1: 0.9999 - post_attention_LSTM_dense_softmax_acc_2: 0.9996 - post_attention_LSTM_dense_softmax_acc_3: 0.9955 - post_attention_LSTM_dense_softmax_acc_4: 1.0000 - post_attention_LSTM_dense_softmax_acc_5: 1.0000 - post_attention_LSTM_dense_softmax_acc_6: 1.0000 - post_attention_LSTM_dense_softmax_acc_7: 1.0000 - post_attention_LSTM_dense_softmax_acc_8: 1.0000 - post_attention_LSTM_dense_softmax_acc_9: 1.0000\n",
      "Epoch 52/200\n",
      " - 28s - loss: 0.0390 - post_attention_LSTM_dense_softmax_loss: 0.0011 - post_attention_LSTM_dense_softmax_acc: 0.9999 - post_attention_LSTM_dense_softmax_acc_1: 0.9999 - post_attention_LSTM_dense_softmax_acc_2: 0.9996 - post_attention_LSTM_dense_softmax_acc_3: 0.9955 - post_attention_LSTM_dense_softmax_acc_4: 1.0000 - post_attention_LSTM_dense_softmax_acc_5: 1.0000 - post_attention_LSTM_dense_softmax_acc_6: 1.0000 - post_attention_LSTM_dense_softmax_acc_7: 1.0000 - post_attention_LSTM_dense_softmax_acc_8: 1.0000 - post_attention_LSTM_dense_softmax_acc_9: 1.0000\n",
      "Epoch 53/200\n",
      " - 28s - loss: 0.0387 - post_attention_LSTM_dense_softmax_loss: 0.0010 - post_attention_LSTM_dense_softmax_acc: 0.9999 - post_attention_LSTM_dense_softmax_acc_1: 0.9999 - post_attention_LSTM_dense_softmax_acc_2: 0.9996 - post_attention_LSTM_dense_softmax_acc_3: 0.9955 - post_attention_LSTM_dense_softmax_acc_4: 1.0000 - post_attention_LSTM_dense_softmax_acc_5: 1.0000 - post_attention_LSTM_dense_softmax_acc_6: 1.0000 - post_attention_LSTM_dense_softmax_acc_7: 1.0000 - post_attention_LSTM_dense_softmax_acc_8: 1.0000 - post_attention_LSTM_dense_softmax_acc_9: 1.0000\n",
      "Epoch 54/200\n",
      " - 28s - loss: 0.0382 - post_attention_LSTM_dense_softmax_loss: 9.9581e-04 - post_attention_LSTM_dense_softmax_acc: 0.9999 - post_attention_LSTM_dense_softmax_acc_1: 0.9999 - post_attention_LSTM_dense_softmax_acc_2: 0.9996 - post_attention_LSTM_dense_softmax_acc_3: 0.9955 - post_attention_LSTM_dense_softmax_acc_4: 1.0000 - post_attention_LSTM_dense_softmax_acc_5: 1.0000 - post_attention_LSTM_dense_softmax_acc_6: 1.0000 - post_attention_LSTM_dense_softmax_acc_7: 1.0000 - post_attention_LSTM_dense_softmax_acc_8: 1.0000 - post_attention_LSTM_dense_softmax_acc_9: 1.0000\n",
      "Epoch 55/200\n",
      " - 28s - loss: 0.0379 - post_attention_LSTM_dense_softmax_loss: 9.5363e-04 - post_attention_LSTM_dense_softmax_acc: 0.9998 - post_attention_LSTM_dense_softmax_acc_1: 0.9999 - post_attention_LSTM_dense_softmax_acc_2: 0.9996 - post_attention_LSTM_dense_softmax_acc_3: 0.9955 - post_attention_LSTM_dense_softmax_acc_4: 1.0000 - post_attention_LSTM_dense_softmax_acc_5: 1.0000 - post_attention_LSTM_dense_softmax_acc_6: 1.0000 - post_attention_LSTM_dense_softmax_acc_7: 1.0000 - post_attention_LSTM_dense_softmax_acc_8: 1.0000 - post_attention_LSTM_dense_softmax_acc_9: 1.0000\n",
      "Epoch 56/200\n",
      " - 28s - loss: 0.0375 - post_attention_LSTM_dense_softmax_loss: 9.4709e-04 - post_attention_LSTM_dense_softmax_acc: 0.9999 - post_attention_LSTM_dense_softmax_acc_1: 0.9999 - post_attention_LSTM_dense_softmax_acc_2: 0.9996 - post_attention_LSTM_dense_softmax_acc_3: 0.9955 - post_attention_LSTM_dense_softmax_acc_4: 1.0000 - post_attention_LSTM_dense_softmax_acc_5: 1.0000 - post_attention_LSTM_dense_softmax_acc_6: 1.0000 - post_attention_LSTM_dense_softmax_acc_7: 1.0000 - post_attention_LSTM_dense_softmax_acc_8: 1.0000 - post_attention_LSTM_dense_softmax_acc_9: 1.0000\n",
      "Epoch 57/200\n",
      " - 28s - loss: 0.0370 - post_attention_LSTM_dense_softmax_loss: 8.9973e-04 - post_attention_LSTM_dense_softmax_acc: 0.9999 - post_attention_LSTM_dense_softmax_acc_1: 0.9999 - post_attention_LSTM_dense_softmax_acc_2: 0.9996 - post_attention_LSTM_dense_softmax_acc_3: 0.9955 - post_attention_LSTM_dense_softmax_acc_4: 1.0000 - post_attention_LSTM_dense_softmax_acc_5: 1.0000 - post_attention_LSTM_dense_softmax_acc_6: 1.0000 - post_attention_LSTM_dense_softmax_acc_7: 1.0000 - post_attention_LSTM_dense_softmax_acc_8: 1.0000 - post_attention_LSTM_dense_softmax_acc_9: 1.0000\n",
      "Epoch 58/200\n",
      " - 28s - loss: 0.0367 - post_attention_LSTM_dense_softmax_loss: 8.8283e-04 - post_attention_LSTM_dense_softmax_acc: 0.9999 - post_attention_LSTM_dense_softmax_acc_1: 0.9999 - post_attention_LSTM_dense_softmax_acc_2: 0.9996 - post_attention_LSTM_dense_softmax_acc_3: 0.9955 - post_attention_LSTM_dense_softmax_acc_4: 1.0000 - post_attention_LSTM_dense_softmax_acc_5: 1.0000 - post_attention_LSTM_dense_softmax_acc_6: 1.0000 - post_attention_LSTM_dense_softmax_acc_7: 1.0000 - post_attention_LSTM_dense_softmax_acc_8: 1.0000 - post_attention_LSTM_dense_softmax_acc_9: 1.0000\n",
      "Epoch 59/200\n",
      " - 28s - loss: 0.0364 - post_attention_LSTM_dense_softmax_loss: 8.6822e-04 - post_attention_LSTM_dense_softmax_acc: 0.9999 - post_attention_LSTM_dense_softmax_acc_1: 0.9999 - post_attention_LSTM_dense_softmax_acc_2: 0.9996 - post_attention_LSTM_dense_softmax_acc_3: 0.9955 - post_attention_LSTM_dense_softmax_acc_4: 1.0000 - post_attention_LSTM_dense_softmax_acc_5: 1.0000 - post_attention_LSTM_dense_softmax_acc_6: 1.0000 - post_attention_LSTM_dense_softmax_acc_7: 1.0000 - post_attention_LSTM_dense_softmax_acc_8: 1.0000 - post_attention_LSTM_dense_softmax_acc_9: 1.0000\n",
      "Epoch 60/200\n",
      " - 28s - loss: 0.0360 - post_attention_LSTM_dense_softmax_loss: 8.4278e-04 - post_attention_LSTM_dense_softmax_acc: 0.9999 - post_attention_LSTM_dense_softmax_acc_1: 0.9999 - post_attention_LSTM_dense_softmax_acc_2: 0.9996 - post_attention_LSTM_dense_softmax_acc_3: 0.9955 - post_attention_LSTM_dense_softmax_acc_4: 1.0000 - post_attention_LSTM_dense_softmax_acc_5: 1.0000 - post_attention_LSTM_dense_softmax_acc_6: 1.0000 - post_attention_LSTM_dense_softmax_acc_7: 1.0000 - post_attention_LSTM_dense_softmax_acc_8: 1.0000 - post_attention_LSTM_dense_softmax_acc_9: 1.0000\n",
      "Epoch 61/200\n",
      " - 28s - loss: 0.0356 - post_attention_LSTM_dense_softmax_loss: 8.2403e-04 - post_attention_LSTM_dense_softmax_acc: 0.9999 - post_attention_LSTM_dense_softmax_acc_1: 0.9999 - post_attention_LSTM_dense_softmax_acc_2: 0.9996 - post_attention_LSTM_dense_softmax_acc_3: 0.9955 - post_attention_LSTM_dense_softmax_acc_4: 1.0000 - post_attention_LSTM_dense_softmax_acc_5: 1.0000 - post_attention_LSTM_dense_softmax_acc_6: 1.0000 - post_attention_LSTM_dense_softmax_acc_7: 1.0000 - post_attention_LSTM_dense_softmax_acc_8: 1.0000 - post_attention_LSTM_dense_softmax_acc_9: 1.0000\n",
      "Epoch 62/200\n",
      " - 28s - loss: 0.0353 - post_attention_LSTM_dense_softmax_loss: 7.9819e-04 - post_attention_LSTM_dense_softmax_acc: 0.9999 - post_attention_LSTM_dense_softmax_acc_1: 0.9999 - post_attention_LSTM_dense_softmax_acc_2: 0.9996 - post_attention_LSTM_dense_softmax_acc_3: 0.9955 - post_attention_LSTM_dense_softmax_acc_4: 1.0000 - post_attention_LSTM_dense_softmax_acc_5: 1.0000 - post_attention_LSTM_dense_softmax_acc_6: 1.0000 - post_attention_LSTM_dense_softmax_acc_7: 1.0000 - post_attention_LSTM_dense_softmax_acc_8: 1.0000 - post_attention_LSTM_dense_softmax_acc_9: 1.0000\n",
      "Epoch 63/200\n",
      " - 28s - loss: 0.0349 - post_attention_LSTM_dense_softmax_loss: 7.8094e-04 - post_attention_LSTM_dense_softmax_acc: 0.9999 - post_attention_LSTM_dense_softmax_acc_1: 0.9999 - post_attention_LSTM_dense_softmax_acc_2: 0.9996 - post_attention_LSTM_dense_softmax_acc_3: 0.9955 - post_attention_LSTM_dense_softmax_acc_4: 1.0000 - post_attention_LSTM_dense_softmax_acc_5: 1.0000 - post_attention_LSTM_dense_softmax_acc_6: 1.0000 - post_attention_LSTM_dense_softmax_acc_7: 1.0000 - post_attention_LSTM_dense_softmax_acc_8: 1.0000 - post_attention_LSTM_dense_softmax_acc_9: 1.0000\n",
      "Epoch 64/200\n",
      " - 28s - loss: 0.0345 - post_attention_LSTM_dense_softmax_loss: 7.6579e-04 - post_attention_LSTM_dense_softmax_acc: 0.9999 - post_attention_LSTM_dense_softmax_acc_1: 0.9999 - post_attention_LSTM_dense_softmax_acc_2: 0.9996 - post_attention_LSTM_dense_softmax_acc_3: 0.9955 - post_attention_LSTM_dense_softmax_acc_4: 1.0000 - post_attention_LSTM_dense_softmax_acc_5: 1.0000 - post_attention_LSTM_dense_softmax_acc_6: 1.0000 - post_attention_LSTM_dense_softmax_acc_7: 1.0000 - post_attention_LSTM_dense_softmax_acc_8: 1.0000 - post_attention_LSTM_dense_softmax_acc_9: 1.0000\n",
      "Epoch 65/200\n",
      " - 28s - loss: 0.0344 - post_attention_LSTM_dense_softmax_loss: 7.4616e-04 - post_attention_LSTM_dense_softmax_acc: 0.9999 - post_attention_LSTM_dense_softmax_acc_1: 0.9999 - post_attention_LSTM_dense_softmax_acc_2: 0.9996 - post_attention_LSTM_dense_softmax_acc_3: 0.9955 - post_attention_LSTM_dense_softmax_acc_4: 1.0000 - post_attention_LSTM_dense_softmax_acc_5: 1.0000 - post_attention_LSTM_dense_softmax_acc_6: 1.0000 - post_attention_LSTM_dense_softmax_acc_7: 1.0000 - post_attention_LSTM_dense_softmax_acc_8: 1.0000 - post_attention_LSTM_dense_softmax_acc_9: 1.0000\n",
      "Epoch 66/200\n",
      " - 28s - loss: 0.0340 - post_attention_LSTM_dense_softmax_loss: 7.3560e-04 - post_attention_LSTM_dense_softmax_acc: 0.9999 - post_attention_LSTM_dense_softmax_acc_1: 0.9999 - post_attention_LSTM_dense_softmax_acc_2: 0.9996 - post_attention_LSTM_dense_softmax_acc_3: 0.9955 - post_attention_LSTM_dense_softmax_acc_4: 1.0000 - post_attention_LSTM_dense_softmax_acc_5: 1.0000 - post_attention_LSTM_dense_softmax_acc_6: 1.0000 - post_attention_LSTM_dense_softmax_acc_7: 1.0000 - post_attention_LSTM_dense_softmax_acc_8: 1.0000 - post_attention_LSTM_dense_softmax_acc_9: 1.0000\n",
      "Epoch 67/200\n",
      " - 28s - loss: 0.0338 - post_attention_LSTM_dense_softmax_loss: 7.2388e-04 - post_attention_LSTM_dense_softmax_acc: 0.9999 - post_attention_LSTM_dense_softmax_acc_1: 0.9999 - post_attention_LSTM_dense_softmax_acc_2: 0.9996 - post_attention_LSTM_dense_softmax_acc_3: 0.9955 - post_attention_LSTM_dense_softmax_acc_4: 1.0000 - post_attention_LSTM_dense_softmax_acc_5: 1.0000 - post_attention_LSTM_dense_softmax_acc_6: 1.0000 - post_attention_LSTM_dense_softmax_acc_7: 1.0000 - post_attention_LSTM_dense_softmax_acc_8: 1.0000 - post_attention_LSTM_dense_softmax_acc_9: 1.0000\n",
      "Epoch 68/200\n",
      " - 28s - loss: 0.0336 - post_attention_LSTM_dense_softmax_loss: 7.0658e-04 - post_attention_LSTM_dense_softmax_acc: 0.9999 - post_attention_LSTM_dense_softmax_acc_1: 0.9999 - post_attention_LSTM_dense_softmax_acc_2: 0.9996 - post_attention_LSTM_dense_softmax_acc_3: 0.9955 - post_attention_LSTM_dense_softmax_acc_4: 1.0000 - post_attention_LSTM_dense_softmax_acc_5: 1.0000 - post_attention_LSTM_dense_softmax_acc_6: 1.0000 - post_attention_LSTM_dense_softmax_acc_7: 1.0000 - post_attention_LSTM_dense_softmax_acc_8: 1.0000 - post_attention_LSTM_dense_softmax_acc_9: 1.0000\n",
      "Epoch 69/200\n",
      " - 28s - loss: 0.0332 - post_attention_LSTM_dense_softmax_loss: 7.1070e-04 - post_attention_LSTM_dense_softmax_acc: 0.9999 - post_attention_LSTM_dense_softmax_acc_1: 0.9999 - post_attention_LSTM_dense_softmax_acc_2: 0.9996 - post_attention_LSTM_dense_softmax_acc_3: 0.9955 - post_attention_LSTM_dense_softmax_acc_4: 1.0000 - post_attention_LSTM_dense_softmax_acc_5: 1.0000 - post_attention_LSTM_dense_softmax_acc_6: 1.0000 - post_attention_LSTM_dense_softmax_acc_7: 1.0000 - post_attention_LSTM_dense_softmax_acc_8: 1.0000 - post_attention_LSTM_dense_softmax_acc_9: 1.0000\n",
      "Epoch 70/200\n",
      " - 28s - loss: 0.0329 - post_attention_LSTM_dense_softmax_loss: 6.7188e-04 - post_attention_LSTM_dense_softmax_acc: 0.9999 - post_attention_LSTM_dense_softmax_acc_1: 0.9998 - post_attention_LSTM_dense_softmax_acc_2: 0.9996 - post_attention_LSTM_dense_softmax_acc_3: 0.9955 - post_attention_LSTM_dense_softmax_acc_4: 1.0000 - post_attention_LSTM_dense_softmax_acc_5: 1.0000 - post_attention_LSTM_dense_softmax_acc_6: 1.0000 - post_attention_LSTM_dense_softmax_acc_7: 1.0000 - post_attention_LSTM_dense_softmax_acc_8: 1.0000 - post_attention_LSTM_dense_softmax_acc_9: 1.0000\n",
      "Epoch 71/200\n",
      " - 28s - loss: 0.0328 - post_attention_LSTM_dense_softmax_loss: 6.6748e-04 - post_attention_LSTM_dense_softmax_acc: 0.9999 - post_attention_LSTM_dense_softmax_acc_1: 0.9999 - post_attention_LSTM_dense_softmax_acc_2: 0.9996 - post_attention_LSTM_dense_softmax_acc_3: 0.9955 - post_attention_LSTM_dense_softmax_acc_4: 1.0000 - post_attention_LSTM_dense_softmax_acc_5: 1.0000 - post_attention_LSTM_dense_softmax_acc_6: 1.0000 - post_attention_LSTM_dense_softmax_acc_7: 1.0000 - post_attention_LSTM_dense_softmax_acc_8: 1.0000 - post_attention_LSTM_dense_softmax_acc_9: 1.0000\n",
      "Epoch 72/200\n",
      " - 28s - loss: 0.0325 - post_attention_LSTM_dense_softmax_loss: 6.5744e-04 - post_attention_LSTM_dense_softmax_acc: 0.9999 - post_attention_LSTM_dense_softmax_acc_1: 0.9999 - post_attention_LSTM_dense_softmax_acc_2: 0.9996 - post_attention_LSTM_dense_softmax_acc_3: 0.9955 - post_attention_LSTM_dense_softmax_acc_4: 1.0000 - post_attention_LSTM_dense_softmax_acc_5: 1.0000 - post_attention_LSTM_dense_softmax_acc_6: 1.0000 - post_attention_LSTM_dense_softmax_acc_7: 1.0000 - post_attention_LSTM_dense_softmax_acc_8: 1.0000 - post_attention_LSTM_dense_softmax_acc_9: 1.0000\n",
      "Epoch 73/200\n",
      " - 28s - loss: 0.0322 - post_attention_LSTM_dense_softmax_loss: 6.4073e-04 - post_attention_LSTM_dense_softmax_acc: 0.9999 - post_attention_LSTM_dense_softmax_acc_1: 0.9999 - post_attention_LSTM_dense_softmax_acc_2: 0.9996 - post_attention_LSTM_dense_softmax_acc_3: 0.9955 - post_attention_LSTM_dense_softmax_acc_4: 1.0000 - post_attention_LSTM_dense_softmax_acc_5: 1.0000 - post_attention_LSTM_dense_softmax_acc_6: 1.0000 - post_attention_LSTM_dense_softmax_acc_7: 1.0000 - post_attention_LSTM_dense_softmax_acc_8: 1.0000 - post_attention_LSTM_dense_softmax_acc_9: 1.0000\n",
      "Epoch 74/200\n",
      " - 28s - loss: 0.0319 - post_attention_LSTM_dense_softmax_loss: 6.4090e-04 - post_attention_LSTM_dense_softmax_acc: 0.9999 - post_attention_LSTM_dense_softmax_acc_1: 0.9999 - post_attention_LSTM_dense_softmax_acc_2: 0.9996 - post_attention_LSTM_dense_softmax_acc_3: 0.9955 - post_attention_LSTM_dense_softmax_acc_4: 1.0000 - post_attention_LSTM_dense_softmax_acc_5: 1.0000 - post_attention_LSTM_dense_softmax_acc_6: 1.0000 - post_attention_LSTM_dense_softmax_acc_7: 1.0000 - post_attention_LSTM_dense_softmax_acc_8: 1.0000 - post_attention_LSTM_dense_softmax_acc_9: 1.0000\n",
      "Epoch 75/200\n",
      " - 28s - loss: 0.0318 - post_attention_LSTM_dense_softmax_loss: 6.2328e-04 - post_attention_LSTM_dense_softmax_acc: 0.9999 - post_attention_LSTM_dense_softmax_acc_1: 0.9999 - post_attention_LSTM_dense_softmax_acc_2: 0.9996 - post_attention_LSTM_dense_softmax_acc_3: 0.9955 - post_attention_LSTM_dense_softmax_acc_4: 1.0000 - post_attention_LSTM_dense_softmax_acc_5: 1.0000 - post_attention_LSTM_dense_softmax_acc_6: 1.0000 - post_attention_LSTM_dense_softmax_acc_7: 1.0000 - post_attention_LSTM_dense_softmax_acc_8: 1.0000 - post_attention_LSTM_dense_softmax_acc_9: 1.0000\n",
      "Epoch 76/200\n",
      " - 28s - loss: 0.0315 - post_attention_LSTM_dense_softmax_loss: 6.1671e-04 - post_attention_LSTM_dense_softmax_acc: 0.9999 - post_attention_LSTM_dense_softmax_acc_1: 0.9999 - post_attention_LSTM_dense_softmax_acc_2: 0.9996 - post_attention_LSTM_dense_softmax_acc_3: 0.9955 - post_attention_LSTM_dense_softmax_acc_4: 1.0000 - post_attention_LSTM_dense_softmax_acc_5: 1.0000 - post_attention_LSTM_dense_softmax_acc_6: 1.0000 - post_attention_LSTM_dense_softmax_acc_7: 1.0000 - post_attention_LSTM_dense_softmax_acc_8: 1.0000 - post_attention_LSTM_dense_softmax_acc_9: 1.0000\n",
      "Epoch 77/200\n",
      " - 28s - loss: 0.0314 - post_attention_LSTM_dense_softmax_loss: 5.9638e-04 - post_attention_LSTM_dense_softmax_acc: 0.9999 - post_attention_LSTM_dense_softmax_acc_1: 0.9999 - post_attention_LSTM_dense_softmax_acc_2: 0.9996 - post_attention_LSTM_dense_softmax_acc_3: 0.9955 - post_attention_LSTM_dense_softmax_acc_4: 1.0000 - post_attention_LSTM_dense_softmax_acc_5: 1.0000 - post_attention_LSTM_dense_softmax_acc_6: 1.0000 - post_attention_LSTM_dense_softmax_acc_7: 1.0000 - post_attention_LSTM_dense_softmax_acc_8: 1.0000 - post_attention_LSTM_dense_softmax_acc_9: 1.0000\n",
      "Epoch 78/200\n",
      " - 28s - loss: 0.0313 - post_attention_LSTM_dense_softmax_loss: 6.0054e-04 - post_attention_LSTM_dense_softmax_acc: 0.9998 - post_attention_LSTM_dense_softmax_acc_1: 0.9998 - post_attention_LSTM_dense_softmax_acc_2: 0.9996 - post_attention_LSTM_dense_softmax_acc_3: 0.9955 - post_attention_LSTM_dense_softmax_acc_4: 1.0000 - post_attention_LSTM_dense_softmax_acc_5: 1.0000 - post_attention_LSTM_dense_softmax_acc_6: 1.0000 - post_attention_LSTM_dense_softmax_acc_7: 1.0000 - post_attention_LSTM_dense_softmax_acc_8: 1.0000 - post_attention_LSTM_dense_softmax_acc_9: 1.0000\n",
      "Epoch 79/200\n",
      " - 28s - loss: 0.0310 - post_attention_LSTM_dense_softmax_loss: 5.8354e-04 - post_attention_LSTM_dense_softmax_acc: 0.9999 - post_attention_LSTM_dense_softmax_acc_1: 0.9999 - post_attention_LSTM_dense_softmax_acc_2: 0.9996 - post_attention_LSTM_dense_softmax_acc_3: 0.9955 - post_attention_LSTM_dense_softmax_acc_4: 1.0000 - post_attention_LSTM_dense_softmax_acc_5: 1.0000 - post_attention_LSTM_dense_softmax_acc_6: 1.0000 - post_attention_LSTM_dense_softmax_acc_7: 1.0000 - post_attention_LSTM_dense_softmax_acc_8: 1.0000 - post_attention_LSTM_dense_softmax_acc_9: 1.0000\n",
      "Epoch 80/200\n",
      " - 28s - loss: 0.0308 - post_attention_LSTM_dense_softmax_loss: 5.7904e-04 - post_attention_LSTM_dense_softmax_acc: 0.9999 - post_attention_LSTM_dense_softmax_acc_1: 0.9999 - post_attention_LSTM_dense_softmax_acc_2: 0.9996 - post_attention_LSTM_dense_softmax_acc_3: 0.9956 - post_attention_LSTM_dense_softmax_acc_4: 1.0000 - post_attention_LSTM_dense_softmax_acc_5: 1.0000 - post_attention_LSTM_dense_softmax_acc_6: 1.0000 - post_attention_LSTM_dense_softmax_acc_7: 1.0000 - post_attention_LSTM_dense_softmax_acc_8: 1.0000 - post_attention_LSTM_dense_softmax_acc_9: 1.0000\n",
      "Epoch 81/200\n",
      " - 28s - loss: 0.0306 - post_attention_LSTM_dense_softmax_loss: 5.7214e-04 - post_attention_LSTM_dense_softmax_acc: 0.9999 - post_attention_LSTM_dense_softmax_acc_1: 0.9999 - post_attention_LSTM_dense_softmax_acc_2: 0.9996 - post_attention_LSTM_dense_softmax_acc_3: 0.9955 - post_attention_LSTM_dense_softmax_acc_4: 1.0000 - post_attention_LSTM_dense_softmax_acc_5: 1.0000 - post_attention_LSTM_dense_softmax_acc_6: 1.0000 - post_attention_LSTM_dense_softmax_acc_7: 1.0000 - post_attention_LSTM_dense_softmax_acc_8: 1.0000 - post_attention_LSTM_dense_softmax_acc_9: 1.0000\n",
      "Epoch 82/200\n",
      " - 28s - loss: 0.0305 - post_attention_LSTM_dense_softmax_loss: 5.6193e-04 - post_attention_LSTM_dense_softmax_acc: 0.9999 - post_attention_LSTM_dense_softmax_acc_1: 0.9998 - post_attention_LSTM_dense_softmax_acc_2: 0.9996 - post_attention_LSTM_dense_softmax_acc_3: 0.9955 - post_attention_LSTM_dense_softmax_acc_4: 1.0000 - post_attention_LSTM_dense_softmax_acc_5: 1.0000 - post_attention_LSTM_dense_softmax_acc_6: 1.0000 - post_attention_LSTM_dense_softmax_acc_7: 1.0000 - post_attention_LSTM_dense_softmax_acc_8: 1.0000 - post_attention_LSTM_dense_softmax_acc_9: 1.0000\n",
      "Epoch 83/200\n",
      " - 28s - loss: 0.0304 - post_attention_LSTM_dense_softmax_loss: 5.4993e-04 - post_attention_LSTM_dense_softmax_acc: 0.9998 - post_attention_LSTM_dense_softmax_acc_1: 0.9998 - post_attention_LSTM_dense_softmax_acc_2: 0.9996 - post_attention_LSTM_dense_softmax_acc_3: 0.9955 - post_attention_LSTM_dense_softmax_acc_4: 1.0000 - post_attention_LSTM_dense_softmax_acc_5: 1.0000 - post_attention_LSTM_dense_softmax_acc_6: 1.0000 - post_attention_LSTM_dense_softmax_acc_7: 1.0000 - post_attention_LSTM_dense_softmax_acc_8: 1.0000 - post_attention_LSTM_dense_softmax_acc_9: 1.0000\n",
      "Epoch 84/200\n",
      " - 28s - loss: 0.0300 - post_attention_LSTM_dense_softmax_loss: 5.5004e-04 - post_attention_LSTM_dense_softmax_acc: 0.9999 - post_attention_LSTM_dense_softmax_acc_1: 0.9999 - post_attention_LSTM_dense_softmax_acc_2: 0.9996 - post_attention_LSTM_dense_softmax_acc_3: 0.9955 - post_attention_LSTM_dense_softmax_acc_4: 1.0000 - post_attention_LSTM_dense_softmax_acc_5: 1.0000 - post_attention_LSTM_dense_softmax_acc_6: 1.0000 - post_attention_LSTM_dense_softmax_acc_7: 1.0000 - post_attention_LSTM_dense_softmax_acc_8: 1.0000 - post_attention_LSTM_dense_softmax_acc_9: 1.0000\n",
      "Epoch 85/200\n",
      " - 28s - loss: 0.0301 - post_attention_LSTM_dense_softmax_loss: 5.4070e-04 - post_attention_LSTM_dense_softmax_acc: 0.9998 - post_attention_LSTM_dense_softmax_acc_1: 0.9999 - post_attention_LSTM_dense_softmax_acc_2: 0.9996 - post_attention_LSTM_dense_softmax_acc_3: 0.9956 - post_attention_LSTM_dense_softmax_acc_4: 1.0000 - post_attention_LSTM_dense_softmax_acc_5: 1.0000 - post_attention_LSTM_dense_softmax_acc_6: 1.0000 - post_attention_LSTM_dense_softmax_acc_7: 1.0000 - post_attention_LSTM_dense_softmax_acc_8: 1.0000 - post_attention_LSTM_dense_softmax_acc_9: 1.0000\n",
      "Epoch 86/200\n",
      " - 28s - loss: 0.0297 - post_attention_LSTM_dense_softmax_loss: 5.3657e-04 - post_attention_LSTM_dense_softmax_acc: 0.9999 - post_attention_LSTM_dense_softmax_acc_1: 0.9999 - post_attention_LSTM_dense_softmax_acc_2: 0.9996 - post_attention_LSTM_dense_softmax_acc_3: 0.9956 - post_attention_LSTM_dense_softmax_acc_4: 1.0000 - post_attention_LSTM_dense_softmax_acc_5: 1.0000 - post_attention_LSTM_dense_softmax_acc_6: 1.0000 - post_attention_LSTM_dense_softmax_acc_7: 1.0000 - post_attention_LSTM_dense_softmax_acc_8: 1.0000 - post_attention_LSTM_dense_softmax_acc_9: 1.0000\n",
      "Epoch 87/200\n",
      " - 28s - loss: 0.0295 - post_attention_LSTM_dense_softmax_loss: 5.4317e-04 - post_attention_LSTM_dense_softmax_acc: 0.9999 - post_attention_LSTM_dense_softmax_acc_1: 0.9999 - post_attention_LSTM_dense_softmax_acc_2: 0.9996 - post_attention_LSTM_dense_softmax_acc_3: 0.9955 - post_attention_LSTM_dense_softmax_acc_4: 1.0000 - post_attention_LSTM_dense_softmax_acc_5: 1.0000 - post_attention_LSTM_dense_softmax_acc_6: 1.0000 - post_attention_LSTM_dense_softmax_acc_7: 1.0000 - post_attention_LSTM_dense_softmax_acc_8: 1.0000 - post_attention_LSTM_dense_softmax_acc_9: 1.0000\n",
      "Epoch 88/200\n",
      " - 28s - loss: 0.0295 - post_attention_LSTM_dense_softmax_loss: 5.2164e-04 - post_attention_LSTM_dense_softmax_acc: 0.9999 - post_attention_LSTM_dense_softmax_acc_1: 0.9999 - post_attention_LSTM_dense_softmax_acc_2: 0.9996 - post_attention_LSTM_dense_softmax_acc_3: 0.9955 - post_attention_LSTM_dense_softmax_acc_4: 1.0000 - post_attention_LSTM_dense_softmax_acc_5: 1.0000 - post_attention_LSTM_dense_softmax_acc_6: 1.0000 - post_attention_LSTM_dense_softmax_acc_7: 1.0000 - post_attention_LSTM_dense_softmax_acc_8: 1.0000 - post_attention_LSTM_dense_softmax_acc_9: 1.0000\n",
      "Epoch 89/200\n",
      " - 28s - loss: 0.0293 - post_attention_LSTM_dense_softmax_loss: 5.1180e-04 - post_attention_LSTM_dense_softmax_acc: 0.9998 - post_attention_LSTM_dense_softmax_acc_1: 0.9999 - post_attention_LSTM_dense_softmax_acc_2: 0.9996 - post_attention_LSTM_dense_softmax_acc_3: 0.9956 - post_attention_LSTM_dense_softmax_acc_4: 1.0000 - post_attention_LSTM_dense_softmax_acc_5: 1.0000 - post_attention_LSTM_dense_softmax_acc_6: 1.0000 - post_attention_LSTM_dense_softmax_acc_7: 1.0000 - post_attention_LSTM_dense_softmax_acc_8: 1.0000 - post_attention_LSTM_dense_softmax_acc_9: 1.0000\n",
      "Epoch 90/200\n",
      " - 28s - loss: 0.0292 - post_attention_LSTM_dense_softmax_loss: 5.0845e-04 - post_attention_LSTM_dense_softmax_acc: 0.9998 - post_attention_LSTM_dense_softmax_acc_1: 0.9999 - post_attention_LSTM_dense_softmax_acc_2: 0.9996 - post_attention_LSTM_dense_softmax_acc_3: 0.9956 - post_attention_LSTM_dense_softmax_acc_4: 1.0000 - post_attention_LSTM_dense_softmax_acc_5: 1.0000 - post_attention_LSTM_dense_softmax_acc_6: 1.0000 - post_attention_LSTM_dense_softmax_acc_7: 1.0000 - post_attention_LSTM_dense_softmax_acc_8: 1.0000 - post_attention_LSTM_dense_softmax_acc_9: 1.0000\n",
      "Epoch 91/200\n",
      " - 28s - loss: 0.0292 - post_attention_LSTM_dense_softmax_loss: 5.0138e-04 - post_attention_LSTM_dense_softmax_acc: 0.9999 - post_attention_LSTM_dense_softmax_acc_1: 0.9999 - post_attention_LSTM_dense_softmax_acc_2: 0.9996 - post_attention_LSTM_dense_softmax_acc_3: 0.9955 - post_attention_LSTM_dense_softmax_acc_4: 1.0000 - post_attention_LSTM_dense_softmax_acc_5: 1.0000 - post_attention_LSTM_dense_softmax_acc_6: 1.0000 - post_attention_LSTM_dense_softmax_acc_7: 1.0000 - post_attention_LSTM_dense_softmax_acc_8: 1.0000 - post_attention_LSTM_dense_softmax_acc_9: 1.0000\n",
      "Epoch 92/200\n",
      " - 28s - loss: 0.0289 - post_attention_LSTM_dense_softmax_loss: 4.9421e-04 - post_attention_LSTM_dense_softmax_acc: 0.9999 - post_attention_LSTM_dense_softmax_acc_1: 0.9999 - post_attention_LSTM_dense_softmax_acc_2: 0.9996 - post_attention_LSTM_dense_softmax_acc_3: 0.9955 - post_attention_LSTM_dense_softmax_acc_4: 1.0000 - post_attention_LSTM_dense_softmax_acc_5: 1.0000 - post_attention_LSTM_dense_softmax_acc_6: 1.0000 - post_attention_LSTM_dense_softmax_acc_7: 1.0000 - post_attention_LSTM_dense_softmax_acc_8: 1.0000 - post_attention_LSTM_dense_softmax_acc_9: 1.0000\n",
      "Epoch 93/200\n",
      " - 28s - loss: 0.0288 - post_attention_LSTM_dense_softmax_loss: 4.9567e-04 - post_attention_LSTM_dense_softmax_acc: 0.9999 - post_attention_LSTM_dense_softmax_acc_1: 0.9999 - post_attention_LSTM_dense_softmax_acc_2: 0.9996 - post_attention_LSTM_dense_softmax_acc_3: 0.9956 - post_attention_LSTM_dense_softmax_acc_4: 1.0000 - post_attention_LSTM_dense_softmax_acc_5: 1.0000 - post_attention_LSTM_dense_softmax_acc_6: 1.0000 - post_attention_LSTM_dense_softmax_acc_7: 1.0000 - post_attention_LSTM_dense_softmax_acc_8: 1.0000 - post_attention_LSTM_dense_softmax_acc_9: 1.0000\n",
      "Epoch 94/200\n",
      " - 28s - loss: 0.0286 - post_attention_LSTM_dense_softmax_loss: 4.8781e-04 - post_attention_LSTM_dense_softmax_acc: 0.9999 - post_attention_LSTM_dense_softmax_acc_1: 0.9999 - post_attention_LSTM_dense_softmax_acc_2: 0.9996 - post_attention_LSTM_dense_softmax_acc_3: 0.9956 - post_attention_LSTM_dense_softmax_acc_4: 1.0000 - post_attention_LSTM_dense_softmax_acc_5: 1.0000 - post_attention_LSTM_dense_softmax_acc_6: 1.0000 - post_attention_LSTM_dense_softmax_acc_7: 1.0000 - post_attention_LSTM_dense_softmax_acc_8: 1.0000 - post_attention_LSTM_dense_softmax_acc_9: 1.0000\n",
      "Epoch 95/200\n",
      " - 28s - loss: 0.0285 - post_attention_LSTM_dense_softmax_loss: 4.8291e-04 - post_attention_LSTM_dense_softmax_acc: 0.9999 - post_attention_LSTM_dense_softmax_acc_1: 0.9999 - post_attention_LSTM_dense_softmax_acc_2: 0.9997 - post_attention_LSTM_dense_softmax_acc_3: 0.9956 - post_attention_LSTM_dense_softmax_acc_4: 1.0000 - post_attention_LSTM_dense_softmax_acc_5: 1.0000 - post_attention_LSTM_dense_softmax_acc_6: 1.0000 - post_attention_LSTM_dense_softmax_acc_7: 1.0000 - post_attention_LSTM_dense_softmax_acc_8: 1.0000 - post_attention_LSTM_dense_softmax_acc_9: 1.0000\n",
      "Epoch 96/200\n",
      " - 28s - loss: 0.0286 - post_attention_LSTM_dense_softmax_loss: 4.8061e-04 - post_attention_LSTM_dense_softmax_acc: 0.9999 - post_attention_LSTM_dense_softmax_acc_1: 0.9999 - post_attention_LSTM_dense_softmax_acc_2: 0.9996 - post_attention_LSTM_dense_softmax_acc_3: 0.9955 - post_attention_LSTM_dense_softmax_acc_4: 1.0000 - post_attention_LSTM_dense_softmax_acc_5: 1.0000 - post_attention_LSTM_dense_softmax_acc_6: 1.0000 - post_attention_LSTM_dense_softmax_acc_7: 1.0000 - post_attention_LSTM_dense_softmax_acc_8: 1.0000 - post_attention_LSTM_dense_softmax_acc_9: 1.0000\n",
      "Epoch 97/200\n",
      " - 28s - loss: 0.0282 - post_attention_LSTM_dense_softmax_loss: 4.7106e-04 - post_attention_LSTM_dense_softmax_acc: 0.9998 - post_attention_LSTM_dense_softmax_acc_1: 0.9999 - post_attention_LSTM_dense_softmax_acc_2: 0.9996 - post_attention_LSTM_dense_softmax_acc_3: 0.9956 - post_attention_LSTM_dense_softmax_acc_4: 1.0000 - post_attention_LSTM_dense_softmax_acc_5: 1.0000 - post_attention_LSTM_dense_softmax_acc_6: 1.0000 - post_attention_LSTM_dense_softmax_acc_7: 1.0000 - post_attention_LSTM_dense_softmax_acc_8: 1.0000 - post_attention_LSTM_dense_softmax_acc_9: 1.0000\n",
      "Epoch 98/200\n",
      " - 28s - loss: 0.0281 - post_attention_LSTM_dense_softmax_loss: 4.6965e-04 - post_attention_LSTM_dense_softmax_acc: 0.9998 - post_attention_LSTM_dense_softmax_acc_1: 0.9999 - post_attention_LSTM_dense_softmax_acc_2: 0.9996 - post_attention_LSTM_dense_softmax_acc_3: 0.9956 - post_attention_LSTM_dense_softmax_acc_4: 1.0000 - post_attention_LSTM_dense_softmax_acc_5: 1.0000 - post_attention_LSTM_dense_softmax_acc_6: 1.0000 - post_attention_LSTM_dense_softmax_acc_7: 1.0000 - post_attention_LSTM_dense_softmax_acc_8: 1.0000 - post_attention_LSTM_dense_softmax_acc_9: 1.0000\n",
      "Epoch 99/200\n",
      " - 28s - loss: 0.0280 - post_attention_LSTM_dense_softmax_loss: 4.6331e-04 - post_attention_LSTM_dense_softmax_acc: 0.9999 - post_attention_LSTM_dense_softmax_acc_1: 0.9999 - post_attention_LSTM_dense_softmax_acc_2: 0.9997 - post_attention_LSTM_dense_softmax_acc_3: 0.9955 - post_attention_LSTM_dense_softmax_acc_4: 1.0000 - post_attention_LSTM_dense_softmax_acc_5: 1.0000 - post_attention_LSTM_dense_softmax_acc_6: 1.0000 - post_attention_LSTM_dense_softmax_acc_7: 1.0000 - post_attention_LSTM_dense_softmax_acc_8: 1.0000 - post_attention_LSTM_dense_softmax_acc_9: 1.0000\n",
      "Epoch 100/200\n",
      " - 28s - loss: 0.0278 - post_attention_LSTM_dense_softmax_loss: 4.6128e-04 - post_attention_LSTM_dense_softmax_acc: 0.9998 - post_attention_LSTM_dense_softmax_acc_1: 0.9999 - post_attention_LSTM_dense_softmax_acc_2: 0.9996 - post_attention_LSTM_dense_softmax_acc_3: 0.9956 - post_attention_LSTM_dense_softmax_acc_4: 1.0000 - post_attention_LSTM_dense_softmax_acc_5: 1.0000 - post_attention_LSTM_dense_softmax_acc_6: 1.0000 - post_attention_LSTM_dense_softmax_acc_7: 1.0000 - post_attention_LSTM_dense_softmax_acc_8: 1.0000 - post_attention_LSTM_dense_softmax_acc_9: 1.0000\n",
      "Epoch 101/200\n",
      " - 28s - loss: 0.0278 - post_attention_LSTM_dense_softmax_loss: 4.5809e-04 - post_attention_LSTM_dense_softmax_acc: 0.9999 - post_attention_LSTM_dense_softmax_acc_1: 0.9999 - post_attention_LSTM_dense_softmax_acc_2: 0.9996 - post_attention_LSTM_dense_softmax_acc_3: 0.9956 - post_attention_LSTM_dense_softmax_acc_4: 1.0000 - post_attention_LSTM_dense_softmax_acc_5: 1.0000 - post_attention_LSTM_dense_softmax_acc_6: 1.0000 - post_attention_LSTM_dense_softmax_acc_7: 1.0000 - post_attention_LSTM_dense_softmax_acc_8: 1.0000 - post_attention_LSTM_dense_softmax_acc_9: 1.0000\n",
      "Epoch 102/200\n",
      " - 28s - loss: 0.0276 - post_attention_LSTM_dense_softmax_loss: 4.5046e-04 - post_attention_LSTM_dense_softmax_acc: 0.9999 - post_attention_LSTM_dense_softmax_acc_1: 0.9999 - post_attention_LSTM_dense_softmax_acc_2: 0.9997 - post_attention_LSTM_dense_softmax_acc_3: 0.9956 - post_attention_LSTM_dense_softmax_acc_4: 1.0000 - post_attention_LSTM_dense_softmax_acc_5: 1.0000 - post_attention_LSTM_dense_softmax_acc_6: 1.0000 - post_attention_LSTM_dense_softmax_acc_7: 1.0000 - post_attention_LSTM_dense_softmax_acc_8: 1.0000 - post_attention_LSTM_dense_softmax_acc_9: 1.0000\n",
      "Epoch 103/200\n",
      " - 28s - loss: 0.0276 - post_attention_LSTM_dense_softmax_loss: 4.4639e-04 - post_attention_LSTM_dense_softmax_acc: 0.9999 - post_attention_LSTM_dense_softmax_acc_1: 0.9999 - post_attention_LSTM_dense_softmax_acc_2: 0.9996 - post_attention_LSTM_dense_softmax_acc_3: 0.9955 - post_attention_LSTM_dense_softmax_acc_4: 1.0000 - post_attention_LSTM_dense_softmax_acc_5: 1.0000 - post_attention_LSTM_dense_softmax_acc_6: 1.0000 - post_attention_LSTM_dense_softmax_acc_7: 1.0000 - post_attention_LSTM_dense_softmax_acc_8: 1.0000 - post_attention_LSTM_dense_softmax_acc_9: 1.0000\n",
      "Epoch 104/200\n",
      " - 28s - loss: 0.0273 - post_attention_LSTM_dense_softmax_loss: 4.4266e-04 - post_attention_LSTM_dense_softmax_acc: 0.9999 - post_attention_LSTM_dense_softmax_acc_1: 0.9999 - post_attention_LSTM_dense_softmax_acc_2: 0.9996 - post_attention_LSTM_dense_softmax_acc_3: 0.9955 - post_attention_LSTM_dense_softmax_acc_4: 1.0000 - post_attention_LSTM_dense_softmax_acc_5: 1.0000 - post_attention_LSTM_dense_softmax_acc_6: 1.0000 - post_attention_LSTM_dense_softmax_acc_7: 1.0000 - post_attention_LSTM_dense_softmax_acc_8: 1.0000 - post_attention_LSTM_dense_softmax_acc_9: 1.0000\n",
      "Epoch 105/200\n",
      " - 28s - loss: 0.0274 - post_attention_LSTM_dense_softmax_loss: 4.4362e-04 - post_attention_LSTM_dense_softmax_acc: 0.9999 - post_attention_LSTM_dense_softmax_acc_1: 0.9999 - post_attention_LSTM_dense_softmax_acc_2: 0.9996 - post_attention_LSTM_dense_softmax_acc_3: 0.9956 - post_attention_LSTM_dense_softmax_acc_4: 1.0000 - post_attention_LSTM_dense_softmax_acc_5: 1.0000 - post_attention_LSTM_dense_softmax_acc_6: 1.0000 - post_attention_LSTM_dense_softmax_acc_7: 1.0000 - post_attention_LSTM_dense_softmax_acc_8: 1.0000 - post_attention_LSTM_dense_softmax_acc_9: 1.0000\n",
      "Epoch 106/200\n",
      " - 28s - loss: 0.0271 - post_attention_LSTM_dense_softmax_loss: 4.3957e-04 - post_attention_LSTM_dense_softmax_acc: 0.9999 - post_attention_LSTM_dense_softmax_acc_1: 0.9999 - post_attention_LSTM_dense_softmax_acc_2: 0.9997 - post_attention_LSTM_dense_softmax_acc_3: 0.9955 - post_attention_LSTM_dense_softmax_acc_4: 1.0000 - post_attention_LSTM_dense_softmax_acc_5: 1.0000 - post_attention_LSTM_dense_softmax_acc_6: 1.0000 - post_attention_LSTM_dense_softmax_acc_7: 1.0000 - post_attention_LSTM_dense_softmax_acc_8: 1.0000 - post_attention_LSTM_dense_softmax_acc_9: 1.0000\n",
      "Epoch 107/200\n",
      " - 28s - loss: 0.0271 - post_attention_LSTM_dense_softmax_loss: 4.3300e-04 - post_attention_LSTM_dense_softmax_acc: 0.9999 - post_attention_LSTM_dense_softmax_acc_1: 0.9999 - post_attention_LSTM_dense_softmax_acc_2: 0.9996 - post_attention_LSTM_dense_softmax_acc_3: 0.9956 - post_attention_LSTM_dense_softmax_acc_4: 1.0000 - post_attention_LSTM_dense_softmax_acc_5: 1.0000 - post_attention_LSTM_dense_softmax_acc_6: 1.0000 - post_attention_LSTM_dense_softmax_acc_7: 1.0000 - post_attention_LSTM_dense_softmax_acc_8: 1.0000 - post_attention_LSTM_dense_softmax_acc_9: 1.0000\n",
      "Epoch 108/200\n",
      " - 28s - loss: 0.0272 - post_attention_LSTM_dense_softmax_loss: 4.3033e-04 - post_attention_LSTM_dense_softmax_acc: 0.9999 - post_attention_LSTM_dense_softmax_acc_1: 0.9999 - post_attention_LSTM_dense_softmax_acc_2: 0.9996 - post_attention_LSTM_dense_softmax_acc_3: 0.9955 - post_attention_LSTM_dense_softmax_acc_4: 1.0000 - post_attention_LSTM_dense_softmax_acc_5: 1.0000 - post_attention_LSTM_dense_softmax_acc_6: 1.0000 - post_attention_LSTM_dense_softmax_acc_7: 1.0000 - post_attention_LSTM_dense_softmax_acc_8: 1.0000 - post_attention_LSTM_dense_softmax_acc_9: 1.0000\n",
      "Epoch 109/200\n",
      " - 28s - loss: 0.0270 - post_attention_LSTM_dense_softmax_loss: 4.3205e-04 - post_attention_LSTM_dense_softmax_acc: 0.9999 - post_attention_LSTM_dense_softmax_acc_1: 0.9999 - post_attention_LSTM_dense_softmax_acc_2: 0.9996 - post_attention_LSTM_dense_softmax_acc_3: 0.9956 - post_attention_LSTM_dense_softmax_acc_4: 1.0000 - post_attention_LSTM_dense_softmax_acc_5: 1.0000 - post_attention_LSTM_dense_softmax_acc_6: 1.0000 - post_attention_LSTM_dense_softmax_acc_7: 1.0000 - post_attention_LSTM_dense_softmax_acc_8: 1.0000 - post_attention_LSTM_dense_softmax_acc_9: 1.0000\n",
      "Epoch 110/200\n",
      " - 28s - loss: 0.0267 - post_attention_LSTM_dense_softmax_loss: 4.2050e-04 - post_attention_LSTM_dense_softmax_acc: 0.9999 - post_attention_LSTM_dense_softmax_acc_1: 0.9999 - post_attention_LSTM_dense_softmax_acc_2: 0.9996 - post_attention_LSTM_dense_softmax_acc_3: 0.9957 - post_attention_LSTM_dense_softmax_acc_4: 1.0000 - post_attention_LSTM_dense_softmax_acc_5: 1.0000 - post_attention_LSTM_dense_softmax_acc_6: 1.0000 - post_attention_LSTM_dense_softmax_acc_7: 1.0000 - post_attention_LSTM_dense_softmax_acc_8: 1.0000 - post_attention_LSTM_dense_softmax_acc_9: 1.0000\n",
      "Epoch 111/200\n",
      " - 28s - loss: 0.0266 - post_attention_LSTM_dense_softmax_loss: 4.2069e-04 - post_attention_LSTM_dense_softmax_acc: 0.9999 - post_attention_LSTM_dense_softmax_acc_1: 0.9999 - post_attention_LSTM_dense_softmax_acc_2: 0.9996 - post_attention_LSTM_dense_softmax_acc_3: 0.9956 - post_attention_LSTM_dense_softmax_acc_4: 1.0000 - post_attention_LSTM_dense_softmax_acc_5: 1.0000 - post_attention_LSTM_dense_softmax_acc_6: 1.0000 - post_attention_LSTM_dense_softmax_acc_7: 1.0000 - post_attention_LSTM_dense_softmax_acc_8: 1.0000 - post_attention_LSTM_dense_softmax_acc_9: 1.0000\n",
      "Epoch 112/200\n",
      " - 28s - loss: 0.0265 - post_attention_LSTM_dense_softmax_loss: 4.1243e-04 - post_attention_LSTM_dense_softmax_acc: 0.9999 - post_attention_LSTM_dense_softmax_acc_1: 0.9999 - post_attention_LSTM_dense_softmax_acc_2: 0.9996 - post_attention_LSTM_dense_softmax_acc_3: 0.9956 - post_attention_LSTM_dense_softmax_acc_4: 1.0000 - post_attention_LSTM_dense_softmax_acc_5: 1.0000 - post_attention_LSTM_dense_softmax_acc_6: 1.0000 - post_attention_LSTM_dense_softmax_acc_7: 1.0000 - post_attention_LSTM_dense_softmax_acc_8: 1.0000 - post_attention_LSTM_dense_softmax_acc_9: 1.0000\n",
      "Epoch 113/200\n",
      " - 28s - loss: 0.0263 - post_attention_LSTM_dense_softmax_loss: 4.1377e-04 - post_attention_LSTM_dense_softmax_acc: 0.9999 - post_attention_LSTM_dense_softmax_acc_1: 0.9999 - post_attention_LSTM_dense_softmax_acc_2: 0.9996 - post_attention_LSTM_dense_softmax_acc_3: 0.9956 - post_attention_LSTM_dense_softmax_acc_4: 1.0000 - post_attention_LSTM_dense_softmax_acc_5: 1.0000 - post_attention_LSTM_dense_softmax_acc_6: 1.0000 - post_attention_LSTM_dense_softmax_acc_7: 1.0000 - post_attention_LSTM_dense_softmax_acc_8: 1.0000 - post_attention_LSTM_dense_softmax_acc_9: 1.0000\n",
      "Epoch 114/200\n",
      " - 28s - loss: 0.0264 - post_attention_LSTM_dense_softmax_loss: 4.1169e-04 - post_attention_LSTM_dense_softmax_acc: 0.9999 - post_attention_LSTM_dense_softmax_acc_1: 0.9999 - post_attention_LSTM_dense_softmax_acc_2: 0.9997 - post_attention_LSTM_dense_softmax_acc_3: 0.9956 - post_attention_LSTM_dense_softmax_acc_4: 1.0000 - post_attention_LSTM_dense_softmax_acc_5: 1.0000 - post_attention_LSTM_dense_softmax_acc_6: 1.0000 - post_attention_LSTM_dense_softmax_acc_7: 1.0000 - post_attention_LSTM_dense_softmax_acc_8: 1.0000 - post_attention_LSTM_dense_softmax_acc_9: 1.0000\n",
      "Epoch 115/200\n",
      " - 28s - loss: 0.0262 - post_attention_LSTM_dense_softmax_loss: 4.0907e-04 - post_attention_LSTM_dense_softmax_acc: 0.9999 - post_attention_LSTM_dense_softmax_acc_1: 0.9999 - post_attention_LSTM_dense_softmax_acc_2: 0.9996 - post_attention_LSTM_dense_softmax_acc_3: 0.9956 - post_attention_LSTM_dense_softmax_acc_4: 1.0000 - post_attention_LSTM_dense_softmax_acc_5: 1.0000 - post_attention_LSTM_dense_softmax_acc_6: 1.0000 - post_attention_LSTM_dense_softmax_acc_7: 1.0000 - post_attention_LSTM_dense_softmax_acc_8: 1.0000 - post_attention_LSTM_dense_softmax_acc_9: 1.0000\n",
      "Epoch 116/200\n",
      " - 28s - loss: 0.0263 - post_attention_LSTM_dense_softmax_loss: 4.0366e-04 - post_attention_LSTM_dense_softmax_acc: 0.9999 - post_attention_LSTM_dense_softmax_acc_1: 0.9999 - post_attention_LSTM_dense_softmax_acc_2: 0.9996 - post_attention_LSTM_dense_softmax_acc_3: 0.9956 - post_attention_LSTM_dense_softmax_acc_4: 1.0000 - post_attention_LSTM_dense_softmax_acc_5: 1.0000 - post_attention_LSTM_dense_softmax_acc_6: 1.0000 - post_attention_LSTM_dense_softmax_acc_7: 1.0000 - post_attention_LSTM_dense_softmax_acc_8: 1.0000 - post_attention_LSTM_dense_softmax_acc_9: 1.0000\n",
      "Epoch 117/200\n",
      " - 28s - loss: 0.0261 - post_attention_LSTM_dense_softmax_loss: 4.0009e-04 - post_attention_LSTM_dense_softmax_acc: 0.9999 - post_attention_LSTM_dense_softmax_acc_1: 0.9999 - post_attention_LSTM_dense_softmax_acc_2: 0.9996 - post_attention_LSTM_dense_softmax_acc_3: 0.9956 - post_attention_LSTM_dense_softmax_acc_4: 1.0000 - post_attention_LSTM_dense_softmax_acc_5: 1.0000 - post_attention_LSTM_dense_softmax_acc_6: 1.0000 - post_attention_LSTM_dense_softmax_acc_7: 1.0000 - post_attention_LSTM_dense_softmax_acc_8: 1.0000 - post_attention_LSTM_dense_softmax_acc_9: 1.0000\n",
      "Epoch 118/200\n",
      " - 28s - loss: 0.0259 - post_attention_LSTM_dense_softmax_loss: 4.0476e-04 - post_attention_LSTM_dense_softmax_acc: 0.9999 - post_attention_LSTM_dense_softmax_acc_1: 0.9999 - post_attention_LSTM_dense_softmax_acc_2: 0.9997 - post_attention_LSTM_dense_softmax_acc_3: 0.9956 - post_attention_LSTM_dense_softmax_acc_4: 1.0000 - post_attention_LSTM_dense_softmax_acc_5: 1.0000 - post_attention_LSTM_dense_softmax_acc_6: 1.0000 - post_attention_LSTM_dense_softmax_acc_7: 1.0000 - post_attention_LSTM_dense_softmax_acc_8: 1.0000 - post_attention_LSTM_dense_softmax_acc_9: 1.0000\n",
      "Epoch 119/200\n",
      " - 28s - loss: 0.0260 - post_attention_LSTM_dense_softmax_loss: 4.0074e-04 - post_attention_LSTM_dense_softmax_acc: 0.9999 - post_attention_LSTM_dense_softmax_acc_1: 0.9999 - post_attention_LSTM_dense_softmax_acc_2: 0.9996 - post_attention_LSTM_dense_softmax_acc_3: 0.9956 - post_attention_LSTM_dense_softmax_acc_4: 1.0000 - post_attention_LSTM_dense_softmax_acc_5: 1.0000 - post_attention_LSTM_dense_softmax_acc_6: 1.0000 - post_attention_LSTM_dense_softmax_acc_7: 1.0000 - post_attention_LSTM_dense_softmax_acc_8: 1.0000 - post_attention_LSTM_dense_softmax_acc_9: 1.0000\n",
      "Epoch 120/200\n",
      " - 28s - loss: 0.0260 - post_attention_LSTM_dense_softmax_loss: 3.9085e-04 - post_attention_LSTM_dense_softmax_acc: 0.9999 - post_attention_LSTM_dense_softmax_acc_1: 0.9999 - post_attention_LSTM_dense_softmax_acc_2: 0.9996 - post_attention_LSTM_dense_softmax_acc_3: 0.9956 - post_attention_LSTM_dense_softmax_acc_4: 1.0000 - post_attention_LSTM_dense_softmax_acc_5: 1.0000 - post_attention_LSTM_dense_softmax_acc_6: 1.0000 - post_attention_LSTM_dense_softmax_acc_7: 1.0000 - post_attention_LSTM_dense_softmax_acc_8: 1.0000 - post_attention_LSTM_dense_softmax_acc_9: 1.0000\n",
      "Epoch 121/200\n",
      " - 28s - loss: 0.0258 - post_attention_LSTM_dense_softmax_loss: 3.9408e-04 - post_attention_LSTM_dense_softmax_acc: 0.9999 - post_attention_LSTM_dense_softmax_acc_1: 0.9999 - post_attention_LSTM_dense_softmax_acc_2: 0.9997 - post_attention_LSTM_dense_softmax_acc_3: 0.9956 - post_attention_LSTM_dense_softmax_acc_4: 1.0000 - post_attention_LSTM_dense_softmax_acc_5: 1.0000 - post_attention_LSTM_dense_softmax_acc_6: 1.0000 - post_attention_LSTM_dense_softmax_acc_7: 1.0000 - post_attention_LSTM_dense_softmax_acc_8: 1.0000 - post_attention_LSTM_dense_softmax_acc_9: 1.0000\n",
      "Epoch 122/200\n",
      " - 28s - loss: 0.0256 - post_attention_LSTM_dense_softmax_loss: 3.8966e-04 - post_attention_LSTM_dense_softmax_acc: 0.9999 - post_attention_LSTM_dense_softmax_acc_1: 0.9999 - post_attention_LSTM_dense_softmax_acc_2: 0.9996 - post_attention_LSTM_dense_softmax_acc_3: 0.9957 - post_attention_LSTM_dense_softmax_acc_4: 1.0000 - post_attention_LSTM_dense_softmax_acc_5: 1.0000 - post_attention_LSTM_dense_softmax_acc_6: 1.0000 - post_attention_LSTM_dense_softmax_acc_7: 1.0000 - post_attention_LSTM_dense_softmax_acc_8: 1.0000 - post_attention_LSTM_dense_softmax_acc_9: 1.0000\n",
      "Epoch 123/200\n",
      " - 28s - loss: 0.0255 - post_attention_LSTM_dense_softmax_loss: 3.8478e-04 - post_attention_LSTM_dense_softmax_acc: 0.9999 - post_attention_LSTM_dense_softmax_acc_1: 0.9999 - post_attention_LSTM_dense_softmax_acc_2: 0.9996 - post_attention_LSTM_dense_softmax_acc_3: 0.9956 - post_attention_LSTM_dense_softmax_acc_4: 1.0000 - post_attention_LSTM_dense_softmax_acc_5: 1.0000 - post_attention_LSTM_dense_softmax_acc_6: 1.0000 - post_attention_LSTM_dense_softmax_acc_7: 1.0000 - post_attention_LSTM_dense_softmax_acc_8: 1.0000 - post_attention_LSTM_dense_softmax_acc_9: 1.0000\n",
      "Epoch 124/200\n",
      " - 28s - loss: 0.0254 - post_attention_LSTM_dense_softmax_loss: 3.8169e-04 - post_attention_LSTM_dense_softmax_acc: 0.9999 - post_attention_LSTM_dense_softmax_acc_1: 0.9999 - post_attention_LSTM_dense_softmax_acc_2: 0.9996 - post_attention_LSTM_dense_softmax_acc_3: 0.9957 - post_attention_LSTM_dense_softmax_acc_4: 1.0000 - post_attention_LSTM_dense_softmax_acc_5: 1.0000 - post_attention_LSTM_dense_softmax_acc_6: 1.0000 - post_attention_LSTM_dense_softmax_acc_7: 1.0000 - post_attention_LSTM_dense_softmax_acc_8: 1.0000 - post_attention_LSTM_dense_softmax_acc_9: 1.0000\n",
      "Epoch 125/200\n",
      " - 28s - loss: 0.0254 - post_attention_LSTM_dense_softmax_loss: 3.8404e-04 - post_attention_LSTM_dense_softmax_acc: 0.9999 - post_attention_LSTM_dense_softmax_acc_1: 0.9999 - post_attention_LSTM_dense_softmax_acc_2: 0.9997 - post_attention_LSTM_dense_softmax_acc_3: 0.9956 - post_attention_LSTM_dense_softmax_acc_4: 1.0000 - post_attention_LSTM_dense_softmax_acc_5: 1.0000 - post_attention_LSTM_dense_softmax_acc_6: 1.0000 - post_attention_LSTM_dense_softmax_acc_7: 1.0000 - post_attention_LSTM_dense_softmax_acc_8: 1.0000 - post_attention_LSTM_dense_softmax_acc_9: 1.0000\n",
      "Epoch 126/200\n",
      " - 28s - loss: 0.0253 - post_attention_LSTM_dense_softmax_loss: 3.7832e-04 - post_attention_LSTM_dense_softmax_acc: 0.9999 - post_attention_LSTM_dense_softmax_acc_1: 0.9999 - post_attention_LSTM_dense_softmax_acc_2: 0.9996 - post_attention_LSTM_dense_softmax_acc_3: 0.9956 - post_attention_LSTM_dense_softmax_acc_4: 1.0000 - post_attention_LSTM_dense_softmax_acc_5: 1.0000 - post_attention_LSTM_dense_softmax_acc_6: 1.0000 - post_attention_LSTM_dense_softmax_acc_7: 1.0000 - post_attention_LSTM_dense_softmax_acc_8: 1.0000 - post_attention_LSTM_dense_softmax_acc_9: 1.0000\n",
      "Epoch 127/200\n",
      " - 28s - loss: 0.0253 - post_attention_LSTM_dense_softmax_loss: 3.7888e-04 - post_attention_LSTM_dense_softmax_acc: 0.9999 - post_attention_LSTM_dense_softmax_acc_1: 0.9999 - post_attention_LSTM_dense_softmax_acc_2: 0.9996 - post_attention_LSTM_dense_softmax_acc_3: 0.9957 - post_attention_LSTM_dense_softmax_acc_4: 1.0000 - post_attention_LSTM_dense_softmax_acc_5: 1.0000 - post_attention_LSTM_dense_softmax_acc_6: 1.0000 - post_attention_LSTM_dense_softmax_acc_7: 1.0000 - post_attention_LSTM_dense_softmax_acc_8: 1.0000 - post_attention_LSTM_dense_softmax_acc_9: 1.0000\n",
      "Epoch 128/200\n",
      " - 28s - loss: 0.0251 - post_attention_LSTM_dense_softmax_loss: 3.7500e-04 - post_attention_LSTM_dense_softmax_acc: 0.9999 - post_attention_LSTM_dense_softmax_acc_1: 0.9999 - post_attention_LSTM_dense_softmax_acc_2: 0.9996 - post_attention_LSTM_dense_softmax_acc_3: 0.9956 - post_attention_LSTM_dense_softmax_acc_4: 1.0000 - post_attention_LSTM_dense_softmax_acc_5: 1.0000 - post_attention_LSTM_dense_softmax_acc_6: 1.0000 - post_attention_LSTM_dense_softmax_acc_7: 1.0000 - post_attention_LSTM_dense_softmax_acc_8: 1.0000 - post_attention_LSTM_dense_softmax_acc_9: 1.0000\n",
      "Epoch 129/200\n",
      " - 28s - loss: 0.0251 - post_attention_LSTM_dense_softmax_loss: 3.7253e-04 - post_attention_LSTM_dense_softmax_acc: 0.9999 - post_attention_LSTM_dense_softmax_acc_1: 0.9999 - post_attention_LSTM_dense_softmax_acc_2: 0.9996 - post_attention_LSTM_dense_softmax_acc_3: 0.9956 - post_attention_LSTM_dense_softmax_acc_4: 1.0000 - post_attention_LSTM_dense_softmax_acc_5: 1.0000 - post_attention_LSTM_dense_softmax_acc_6: 1.0000 - post_attention_LSTM_dense_softmax_acc_7: 1.0000 - post_attention_LSTM_dense_softmax_acc_8: 1.0000 - post_attention_LSTM_dense_softmax_acc_9: 1.0000\n",
      "Epoch 130/200\n",
      " - 28s - loss: 0.0249 - post_attention_LSTM_dense_softmax_loss: 3.7039e-04 - post_attention_LSTM_dense_softmax_acc: 0.9999 - post_attention_LSTM_dense_softmax_acc_1: 0.9999 - post_attention_LSTM_dense_softmax_acc_2: 0.9996 - post_attention_LSTM_dense_softmax_acc_3: 0.9956 - post_attention_LSTM_dense_softmax_acc_4: 1.0000 - post_attention_LSTM_dense_softmax_acc_5: 1.0000 - post_attention_LSTM_dense_softmax_acc_6: 1.0000 - post_attention_LSTM_dense_softmax_acc_7: 1.0000 - post_attention_LSTM_dense_softmax_acc_8: 1.0000 - post_attention_LSTM_dense_softmax_acc_9: 1.0000\n",
      "Epoch 131/200\n",
      " - 28s - loss: 0.0249 - post_attention_LSTM_dense_softmax_loss: 3.7988e-04 - post_attention_LSTM_dense_softmax_acc: 0.9999 - post_attention_LSTM_dense_softmax_acc_1: 0.9999 - post_attention_LSTM_dense_softmax_acc_2: 0.9996 - post_attention_LSTM_dense_softmax_acc_3: 0.9957 - post_attention_LSTM_dense_softmax_acc_4: 1.0000 - post_attention_LSTM_dense_softmax_acc_5: 1.0000 - post_attention_LSTM_dense_softmax_acc_6: 1.0000 - post_attention_LSTM_dense_softmax_acc_7: 1.0000 - post_attention_LSTM_dense_softmax_acc_8: 1.0000 - post_attention_LSTM_dense_softmax_acc_9: 1.0000\n",
      "Epoch 132/200\n",
      " - 27s - loss: 0.0249 - post_attention_LSTM_dense_softmax_loss: 3.6678e-04 - post_attention_LSTM_dense_softmax_acc: 0.9999 - post_attention_LSTM_dense_softmax_acc_1: 0.9999 - post_attention_LSTM_dense_softmax_acc_2: 0.9996 - post_attention_LSTM_dense_softmax_acc_3: 0.9956 - post_attention_LSTM_dense_softmax_acc_4: 1.0000 - post_attention_LSTM_dense_softmax_acc_5: 1.0000 - post_attention_LSTM_dense_softmax_acc_6: 1.0000 - post_attention_LSTM_dense_softmax_acc_7: 1.0000 - post_attention_LSTM_dense_softmax_acc_8: 1.0000 - post_attention_LSTM_dense_softmax_acc_9: 1.0000\n",
      "Epoch 133/200\n",
      " - 27s - loss: 0.0247 - post_attention_LSTM_dense_softmax_loss: 3.6704e-04 - post_attention_LSTM_dense_softmax_acc: 0.9999 - post_attention_LSTM_dense_softmax_acc_1: 0.9999 - post_attention_LSTM_dense_softmax_acc_2: 0.9996 - post_attention_LSTM_dense_softmax_acc_3: 0.9956 - post_attention_LSTM_dense_softmax_acc_4: 1.0000 - post_attention_LSTM_dense_softmax_acc_5: 1.0000 - post_attention_LSTM_dense_softmax_acc_6: 1.0000 - post_attention_LSTM_dense_softmax_acc_7: 1.0000 - post_attention_LSTM_dense_softmax_acc_8: 1.0000 - post_attention_LSTM_dense_softmax_acc_9: 1.0000\n",
      "Epoch 134/200\n",
      " - 27s - loss: 0.0246 - post_attention_LSTM_dense_softmax_loss: 3.6419e-04 - post_attention_LSTM_dense_softmax_acc: 0.9999 - post_attention_LSTM_dense_softmax_acc_1: 0.9999 - post_attention_LSTM_dense_softmax_acc_2: 0.9997 - post_attention_LSTM_dense_softmax_acc_3: 0.9956 - post_attention_LSTM_dense_softmax_acc_4: 1.0000 - post_attention_LSTM_dense_softmax_acc_5: 1.0000 - post_attention_LSTM_dense_softmax_acc_6: 1.0000 - post_attention_LSTM_dense_softmax_acc_7: 1.0000 - post_attention_LSTM_dense_softmax_acc_8: 1.0000 - post_attention_LSTM_dense_softmax_acc_9: 1.0000\n",
      "Epoch 135/200\n",
      " - 27s - loss: 0.0246 - post_attention_LSTM_dense_softmax_loss: 3.6098e-04 - post_attention_LSTM_dense_softmax_acc: 0.9999 - post_attention_LSTM_dense_softmax_acc_1: 0.9999 - post_attention_LSTM_dense_softmax_acc_2: 0.9996 - post_attention_LSTM_dense_softmax_acc_3: 0.9957 - post_attention_LSTM_dense_softmax_acc_4: 1.0000 - post_attention_LSTM_dense_softmax_acc_5: 1.0000 - post_attention_LSTM_dense_softmax_acc_6: 1.0000 - post_attention_LSTM_dense_softmax_acc_7: 1.0000 - post_attention_LSTM_dense_softmax_acc_8: 1.0000 - post_attention_LSTM_dense_softmax_acc_9: 1.0000\n",
      "Epoch 136/200\n",
      " - 27s - loss: 0.0245 - post_attention_LSTM_dense_softmax_loss: 3.6016e-04 - post_attention_LSTM_dense_softmax_acc: 0.9999 - post_attention_LSTM_dense_softmax_acc_1: 0.9999 - post_attention_LSTM_dense_softmax_acc_2: 0.9997 - post_attention_LSTM_dense_softmax_acc_3: 0.9957 - post_attention_LSTM_dense_softmax_acc_4: 1.0000 - post_attention_LSTM_dense_softmax_acc_5: 1.0000 - post_attention_LSTM_dense_softmax_acc_6: 1.0000 - post_attention_LSTM_dense_softmax_acc_7: 1.0000 - post_attention_LSTM_dense_softmax_acc_8: 1.0000 - post_attention_LSTM_dense_softmax_acc_9: 1.0000\n",
      "Epoch 137/200\n",
      " - 27s - loss: 0.0245 - post_attention_LSTM_dense_softmax_loss: 3.5675e-04 - post_attention_LSTM_dense_softmax_acc: 0.9999 - post_attention_LSTM_dense_softmax_acc_1: 0.9999 - post_attention_LSTM_dense_softmax_acc_2: 0.9997 - post_attention_LSTM_dense_softmax_acc_3: 0.9957 - post_attention_LSTM_dense_softmax_acc_4: 1.0000 - post_attention_LSTM_dense_softmax_acc_5: 1.0000 - post_attention_LSTM_dense_softmax_acc_6: 1.0000 - post_attention_LSTM_dense_softmax_acc_7: 1.0000 - post_attention_LSTM_dense_softmax_acc_8: 1.0000 - post_attention_LSTM_dense_softmax_acc_9: 1.0000\n",
      "Epoch 138/200\n",
      " - 27s - loss: 0.0244 - post_attention_LSTM_dense_softmax_loss: 3.5706e-04 - post_attention_LSTM_dense_softmax_acc: 0.9999 - post_attention_LSTM_dense_softmax_acc_1: 0.9999 - post_attention_LSTM_dense_softmax_acc_2: 0.9996 - post_attention_LSTM_dense_softmax_acc_3: 0.9957 - post_attention_LSTM_dense_softmax_acc_4: 1.0000 - post_attention_LSTM_dense_softmax_acc_5: 1.0000 - post_attention_LSTM_dense_softmax_acc_6: 1.0000 - post_attention_LSTM_dense_softmax_acc_7: 1.0000 - post_attention_LSTM_dense_softmax_acc_8: 1.0000 - post_attention_LSTM_dense_softmax_acc_9: 1.0000\n",
      "Epoch 139/200\n",
      " - 27s - loss: 0.0242 - post_attention_LSTM_dense_softmax_loss: 3.5273e-04 - post_attention_LSTM_dense_softmax_acc: 0.9999 - post_attention_LSTM_dense_softmax_acc_1: 0.9999 - post_attention_LSTM_dense_softmax_acc_2: 0.9997 - post_attention_LSTM_dense_softmax_acc_3: 0.9957 - post_attention_LSTM_dense_softmax_acc_4: 1.0000 - post_attention_LSTM_dense_softmax_acc_5: 1.0000 - post_attention_LSTM_dense_softmax_acc_6: 1.0000 - post_attention_LSTM_dense_softmax_acc_7: 1.0000 - post_attention_LSTM_dense_softmax_acc_8: 1.0000 - post_attention_LSTM_dense_softmax_acc_9: 1.0000\n",
      "Epoch 140/200\n",
      " - 27s - loss: 0.0242 - post_attention_LSTM_dense_softmax_loss: 3.5463e-04 - post_attention_LSTM_dense_softmax_acc: 0.9999 - post_attention_LSTM_dense_softmax_acc_1: 0.9999 - post_attention_LSTM_dense_softmax_acc_2: 0.9996 - post_attention_LSTM_dense_softmax_acc_3: 0.9956 - post_attention_LSTM_dense_softmax_acc_4: 1.0000 - post_attention_LSTM_dense_softmax_acc_5: 1.0000 - post_attention_LSTM_dense_softmax_acc_6: 1.0000 - post_attention_LSTM_dense_softmax_acc_7: 1.0000 - post_attention_LSTM_dense_softmax_acc_8: 1.0000 - post_attention_LSTM_dense_softmax_acc_9: 1.0000\n",
      "Epoch 141/200\n",
      " - 27s - loss: 0.0242 - post_attention_LSTM_dense_softmax_loss: 3.5204e-04 - post_attention_LSTM_dense_softmax_acc: 0.9999 - post_attention_LSTM_dense_softmax_acc_1: 0.9999 - post_attention_LSTM_dense_softmax_acc_2: 0.9996 - post_attention_LSTM_dense_softmax_acc_3: 0.9957 - post_attention_LSTM_dense_softmax_acc_4: 1.0000 - post_attention_LSTM_dense_softmax_acc_5: 1.0000 - post_attention_LSTM_dense_softmax_acc_6: 1.0000 - post_attention_LSTM_dense_softmax_acc_7: 1.0000 - post_attention_LSTM_dense_softmax_acc_8: 1.0000 - post_attention_LSTM_dense_softmax_acc_9: 1.0000\n",
      "Epoch 142/200\n",
      " - 27s - loss: 0.0239 - post_attention_LSTM_dense_softmax_loss: 3.5002e-04 - post_attention_LSTM_dense_softmax_acc: 0.9999 - post_attention_LSTM_dense_softmax_acc_1: 0.9999 - post_attention_LSTM_dense_softmax_acc_2: 0.9996 - post_attention_LSTM_dense_softmax_acc_3: 0.9956 - post_attention_LSTM_dense_softmax_acc_4: 1.0000 - post_attention_LSTM_dense_softmax_acc_5: 1.0000 - post_attention_LSTM_dense_softmax_acc_6: 1.0000 - post_attention_LSTM_dense_softmax_acc_7: 1.0000 - post_attention_LSTM_dense_softmax_acc_8: 1.0000 - post_attention_LSTM_dense_softmax_acc_9: 1.0000\n",
      "Epoch 143/200\n",
      " - 27s - loss: 0.0241 - post_attention_LSTM_dense_softmax_loss: 3.4812e-04 - post_attention_LSTM_dense_softmax_acc: 0.9999 - post_attention_LSTM_dense_softmax_acc_1: 0.9999 - post_attention_LSTM_dense_softmax_acc_2: 0.9996 - post_attention_LSTM_dense_softmax_acc_3: 0.9956 - post_attention_LSTM_dense_softmax_acc_4: 1.0000 - post_attention_LSTM_dense_softmax_acc_5: 1.0000 - post_attention_LSTM_dense_softmax_acc_6: 1.0000 - post_attention_LSTM_dense_softmax_acc_7: 1.0000 - post_attention_LSTM_dense_softmax_acc_8: 1.0000 - post_attention_LSTM_dense_softmax_acc_9: 1.0000\n",
      "Epoch 144/200\n",
      " - 27s - loss: 0.0240 - post_attention_LSTM_dense_softmax_loss: 3.4635e-04 - post_attention_LSTM_dense_softmax_acc: 1.0000 - post_attention_LSTM_dense_softmax_acc_1: 0.9999 - post_attention_LSTM_dense_softmax_acc_2: 0.9997 - post_attention_LSTM_dense_softmax_acc_3: 0.9957 - post_attention_LSTM_dense_softmax_acc_4: 1.0000 - post_attention_LSTM_dense_softmax_acc_5: 1.0000 - post_attention_LSTM_dense_softmax_acc_6: 1.0000 - post_attention_LSTM_dense_softmax_acc_7: 1.0000 - post_attention_LSTM_dense_softmax_acc_8: 1.0000 - post_attention_LSTM_dense_softmax_acc_9: 1.0000\n",
      "Epoch 145/200\n",
      " - 27s - loss: 0.0239 - post_attention_LSTM_dense_softmax_loss: 3.4447e-04 - post_attention_LSTM_dense_softmax_acc: 0.9999 - post_attention_LSTM_dense_softmax_acc_1: 0.9999 - post_attention_LSTM_dense_softmax_acc_2: 0.9996 - post_attention_LSTM_dense_softmax_acc_3: 0.9957 - post_attention_LSTM_dense_softmax_acc_4: 1.0000 - post_attention_LSTM_dense_softmax_acc_5: 1.0000 - post_attention_LSTM_dense_softmax_acc_6: 1.0000 - post_attention_LSTM_dense_softmax_acc_7: 1.0000 - post_attention_LSTM_dense_softmax_acc_8: 1.0000 - post_attention_LSTM_dense_softmax_acc_9: 1.0000\n",
      "Epoch 146/200\n",
      " - 27s - loss: 0.0239 - post_attention_LSTM_dense_softmax_loss: 3.4516e-04 - post_attention_LSTM_dense_softmax_acc: 0.9999 - post_attention_LSTM_dense_softmax_acc_1: 0.9999 - post_attention_LSTM_dense_softmax_acc_2: 0.9996 - post_attention_LSTM_dense_softmax_acc_3: 0.9957 - post_attention_LSTM_dense_softmax_acc_4: 1.0000 - post_attention_LSTM_dense_softmax_acc_5: 1.0000 - post_attention_LSTM_dense_softmax_acc_6: 1.0000 - post_attention_LSTM_dense_softmax_acc_7: 1.0000 - post_attention_LSTM_dense_softmax_acc_8: 1.0000 - post_attention_LSTM_dense_softmax_acc_9: 1.0000\n",
      "Epoch 147/200\n",
      " - 27s - loss: 0.0237 - post_attention_LSTM_dense_softmax_loss: 3.4242e-04 - post_attention_LSTM_dense_softmax_acc: 0.9999 - post_attention_LSTM_dense_softmax_acc_1: 0.9999 - post_attention_LSTM_dense_softmax_acc_2: 0.9997 - post_attention_LSTM_dense_softmax_acc_3: 0.9957 - post_attention_LSTM_dense_softmax_acc_4: 1.0000 - post_attention_LSTM_dense_softmax_acc_5: 1.0000 - post_attention_LSTM_dense_softmax_acc_6: 1.0000 - post_attention_LSTM_dense_softmax_acc_7: 1.0000 - post_attention_LSTM_dense_softmax_acc_8: 1.0000 - post_attention_LSTM_dense_softmax_acc_9: 1.0000\n",
      "Epoch 148/200\n",
      " - 27s - loss: 0.0236 - post_attention_LSTM_dense_softmax_loss: 3.4109e-04 - post_attention_LSTM_dense_softmax_acc: 0.9999 - post_attention_LSTM_dense_softmax_acc_1: 0.9999 - post_attention_LSTM_dense_softmax_acc_2: 0.9996 - post_attention_LSTM_dense_softmax_acc_3: 0.9957 - post_attention_LSTM_dense_softmax_acc_4: 1.0000 - post_attention_LSTM_dense_softmax_acc_5: 1.0000 - post_attention_LSTM_dense_softmax_acc_6: 1.0000 - post_attention_LSTM_dense_softmax_acc_7: 1.0000 - post_attention_LSTM_dense_softmax_acc_8: 1.0000 - post_attention_LSTM_dense_softmax_acc_9: 1.0000\n",
      "Epoch 149/200\n",
      " - 27s - loss: 0.0235 - post_attention_LSTM_dense_softmax_loss: 3.3645e-04 - post_attention_LSTM_dense_softmax_acc: 0.9999 - post_attention_LSTM_dense_softmax_acc_1: 0.9999 - post_attention_LSTM_dense_softmax_acc_2: 0.9996 - post_attention_LSTM_dense_softmax_acc_3: 0.9957 - post_attention_LSTM_dense_softmax_acc_4: 1.0000 - post_attention_LSTM_dense_softmax_acc_5: 1.0000 - post_attention_LSTM_dense_softmax_acc_6: 1.0000 - post_attention_LSTM_dense_softmax_acc_7: 1.0000 - post_attention_LSTM_dense_softmax_acc_8: 1.0000 - post_attention_LSTM_dense_softmax_acc_9: 1.0000\n",
      "Epoch 150/200\n",
      " - 27s - loss: 0.0235 - post_attention_LSTM_dense_softmax_loss: 3.4007e-04 - post_attention_LSTM_dense_softmax_acc: 0.9999 - post_attention_LSTM_dense_softmax_acc_1: 0.9999 - post_attention_LSTM_dense_softmax_acc_2: 0.9996 - post_attention_LSTM_dense_softmax_acc_3: 0.9957 - post_attention_LSTM_dense_softmax_acc_4: 1.0000 - post_attention_LSTM_dense_softmax_acc_5: 1.0000 - post_attention_LSTM_dense_softmax_acc_6: 1.0000 - post_attention_LSTM_dense_softmax_acc_7: 1.0000 - post_attention_LSTM_dense_softmax_acc_8: 1.0000 - post_attention_LSTM_dense_softmax_acc_9: 1.0000\n",
      "Epoch 151/200\n",
      " - 27s - loss: 0.0235 - post_attention_LSTM_dense_softmax_loss: 3.3402e-04 - post_attention_LSTM_dense_softmax_acc: 0.9999 - post_attention_LSTM_dense_softmax_acc_1: 0.9999 - post_attention_LSTM_dense_softmax_acc_2: 0.9997 - post_attention_LSTM_dense_softmax_acc_3: 0.9958 - post_attention_LSTM_dense_softmax_acc_4: 1.0000 - post_attention_LSTM_dense_softmax_acc_5: 1.0000 - post_attention_LSTM_dense_softmax_acc_6: 1.0000 - post_attention_LSTM_dense_softmax_acc_7: 1.0000 - post_attention_LSTM_dense_softmax_acc_8: 1.0000 - post_attention_LSTM_dense_softmax_acc_9: 1.0000\n",
      "Epoch 152/200\n",
      " - 27s - loss: 0.0235 - post_attention_LSTM_dense_softmax_loss: 3.3386e-04 - post_attention_LSTM_dense_softmax_acc: 0.9999 - post_attention_LSTM_dense_softmax_acc_1: 0.9999 - post_attention_LSTM_dense_softmax_acc_2: 0.9996 - post_attention_LSTM_dense_softmax_acc_3: 0.9958 - post_attention_LSTM_dense_softmax_acc_4: 1.0000 - post_attention_LSTM_dense_softmax_acc_5: 1.0000 - post_attention_LSTM_dense_softmax_acc_6: 1.0000 - post_attention_LSTM_dense_softmax_acc_7: 1.0000 - post_attention_LSTM_dense_softmax_acc_8: 1.0000 - post_attention_LSTM_dense_softmax_acc_9: 1.0000\n",
      "Epoch 153/200\n",
      " - 27s - loss: 0.0234 - post_attention_LSTM_dense_softmax_loss: 3.3367e-04 - post_attention_LSTM_dense_softmax_acc: 0.9999 - post_attention_LSTM_dense_softmax_acc_1: 0.9999 - post_attention_LSTM_dense_softmax_acc_2: 0.9996 - post_attention_LSTM_dense_softmax_acc_3: 0.9957 - post_attention_LSTM_dense_softmax_acc_4: 1.0000 - post_attention_LSTM_dense_softmax_acc_5: 1.0000 - post_attention_LSTM_dense_softmax_acc_6: 1.0000 - post_attention_LSTM_dense_softmax_acc_7: 1.0000 - post_attention_LSTM_dense_softmax_acc_8: 1.0000 - post_attention_LSTM_dense_softmax_acc_9: 1.0000\n",
      "Epoch 154/200\n",
      " - 27s - loss: 0.0233 - post_attention_LSTM_dense_softmax_loss: 3.3196e-04 - post_attention_LSTM_dense_softmax_acc: 0.9999 - post_attention_LSTM_dense_softmax_acc_1: 0.9999 - post_attention_LSTM_dense_softmax_acc_2: 0.9997 - post_attention_LSTM_dense_softmax_acc_3: 0.9958 - post_attention_LSTM_dense_softmax_acc_4: 1.0000 - post_attention_LSTM_dense_softmax_acc_5: 1.0000 - post_attention_LSTM_dense_softmax_acc_6: 1.0000 - post_attention_LSTM_dense_softmax_acc_7: 1.0000 - post_attention_LSTM_dense_softmax_acc_8: 1.0000 - post_attention_LSTM_dense_softmax_acc_9: 1.0000\n",
      "Epoch 155/200\n",
      " - 27s - loss: 0.0233 - post_attention_LSTM_dense_softmax_loss: 3.3269e-04 - post_attention_LSTM_dense_softmax_acc: 0.9999 - post_attention_LSTM_dense_softmax_acc_1: 0.9999 - post_attention_LSTM_dense_softmax_acc_2: 0.9996 - post_attention_LSTM_dense_softmax_acc_3: 0.9957 - post_attention_LSTM_dense_softmax_acc_4: 1.0000 - post_attention_LSTM_dense_softmax_acc_5: 1.0000 - post_attention_LSTM_dense_softmax_acc_6: 1.0000 - post_attention_LSTM_dense_softmax_acc_7: 1.0000 - post_attention_LSTM_dense_softmax_acc_8: 1.0000 - post_attention_LSTM_dense_softmax_acc_9: 1.0000\n",
      "Epoch 156/200\n",
      " - 27s - loss: 0.0232 - post_attention_LSTM_dense_softmax_loss: 3.2805e-04 - post_attention_LSTM_dense_softmax_acc: 0.9999 - post_attention_LSTM_dense_softmax_acc_1: 0.9999 - post_attention_LSTM_dense_softmax_acc_2: 0.9997 - post_attention_LSTM_dense_softmax_acc_3: 0.9958 - post_attention_LSTM_dense_softmax_acc_4: 1.0000 - post_attention_LSTM_dense_softmax_acc_5: 1.0000 - post_attention_LSTM_dense_softmax_acc_6: 1.0000 - post_attention_LSTM_dense_softmax_acc_7: 1.0000 - post_attention_LSTM_dense_softmax_acc_8: 1.0000 - post_attention_LSTM_dense_softmax_acc_9: 1.0000\n",
      "Epoch 157/200\n",
      " - 27s - loss: 0.0231 - post_attention_LSTM_dense_softmax_loss: 3.2777e-04 - post_attention_LSTM_dense_softmax_acc: 0.9999 - post_attention_LSTM_dense_softmax_acc_1: 0.9999 - post_attention_LSTM_dense_softmax_acc_2: 0.9996 - post_attention_LSTM_dense_softmax_acc_3: 0.9957 - post_attention_LSTM_dense_softmax_acc_4: 1.0000 - post_attention_LSTM_dense_softmax_acc_5: 1.0000 - post_attention_LSTM_dense_softmax_acc_6: 1.0000 - post_attention_LSTM_dense_softmax_acc_7: 1.0000 - post_attention_LSTM_dense_softmax_acc_8: 1.0000 - post_attention_LSTM_dense_softmax_acc_9: 1.0000\n",
      "Epoch 158/200\n",
      " - 27s - loss: 0.0230 - post_attention_LSTM_dense_softmax_loss: 3.2697e-04 - post_attention_LSTM_dense_softmax_acc: 0.9999 - post_attention_LSTM_dense_softmax_acc_1: 0.9999 - post_attention_LSTM_dense_softmax_acc_2: 0.9996 - post_attention_LSTM_dense_softmax_acc_3: 0.9957 - post_attention_LSTM_dense_softmax_acc_4: 1.0000 - post_attention_LSTM_dense_softmax_acc_5: 1.0000 - post_attention_LSTM_dense_softmax_acc_6: 1.0000 - post_attention_LSTM_dense_softmax_acc_7: 1.0000 - post_attention_LSTM_dense_softmax_acc_8: 1.0000 - post_attention_LSTM_dense_softmax_acc_9: 1.0000\n",
      "Epoch 159/200\n",
      " - 27s - loss: 0.0230 - post_attention_LSTM_dense_softmax_loss: 3.2545e-04 - post_attention_LSTM_dense_softmax_acc: 0.9999 - post_attention_LSTM_dense_softmax_acc_1: 0.9999 - post_attention_LSTM_dense_softmax_acc_2: 0.9996 - post_attention_LSTM_dense_softmax_acc_3: 0.9958 - post_attention_LSTM_dense_softmax_acc_4: 1.0000 - post_attention_LSTM_dense_softmax_acc_5: 1.0000 - post_attention_LSTM_dense_softmax_acc_6: 1.0000 - post_attention_LSTM_dense_softmax_acc_7: 1.0000 - post_attention_LSTM_dense_softmax_acc_8: 1.0000 - post_attention_LSTM_dense_softmax_acc_9: 1.0000\n",
      "Epoch 160/200\n",
      " - 27s - loss: 0.0229 - post_attention_LSTM_dense_softmax_loss: 3.2395e-04 - post_attention_LSTM_dense_softmax_acc: 0.9999 - post_attention_LSTM_dense_softmax_acc_1: 0.9999 - post_attention_LSTM_dense_softmax_acc_2: 0.9996 - post_attention_LSTM_dense_softmax_acc_3: 0.9957 - post_attention_LSTM_dense_softmax_acc_4: 1.0000 - post_attention_LSTM_dense_softmax_acc_5: 1.0000 - post_attention_LSTM_dense_softmax_acc_6: 1.0000 - post_attention_LSTM_dense_softmax_acc_7: 1.0000 - post_attention_LSTM_dense_softmax_acc_8: 1.0000 - post_attention_LSTM_dense_softmax_acc_9: 1.0000\n",
      "Epoch 161/200\n",
      " - 27s - loss: 0.0229 - post_attention_LSTM_dense_softmax_loss: 3.2164e-04 - post_attention_LSTM_dense_softmax_acc: 0.9999 - post_attention_LSTM_dense_softmax_acc_1: 0.9999 - post_attention_LSTM_dense_softmax_acc_2: 0.9997 - post_attention_LSTM_dense_softmax_acc_3: 0.9958 - post_attention_LSTM_dense_softmax_acc_4: 1.0000 - post_attention_LSTM_dense_softmax_acc_5: 1.0000 - post_attention_LSTM_dense_softmax_acc_6: 1.0000 - post_attention_LSTM_dense_softmax_acc_7: 1.0000 - post_attention_LSTM_dense_softmax_acc_8: 1.0000 - post_attention_LSTM_dense_softmax_acc_9: 1.0000\n",
      "Epoch 162/200\n",
      " - 27s - loss: 0.0228 - post_attention_LSTM_dense_softmax_loss: 3.2210e-04 - post_attention_LSTM_dense_softmax_acc: 0.9999 - post_attention_LSTM_dense_softmax_acc_1: 0.9999 - post_attention_LSTM_dense_softmax_acc_2: 0.9996 - post_attention_LSTM_dense_softmax_acc_3: 0.9959 - post_attention_LSTM_dense_softmax_acc_4: 1.0000 - post_attention_LSTM_dense_softmax_acc_5: 1.0000 - post_attention_LSTM_dense_softmax_acc_6: 1.0000 - post_attention_LSTM_dense_softmax_acc_7: 1.0000 - post_attention_LSTM_dense_softmax_acc_8: 1.0000 - post_attention_LSTM_dense_softmax_acc_9: 1.0000\n",
      "Epoch 163/200\n",
      " - 27s - loss: 0.0227 - post_attention_LSTM_dense_softmax_loss: 3.2188e-04 - post_attention_LSTM_dense_softmax_acc: 0.9999 - post_attention_LSTM_dense_softmax_acc_1: 0.9999 - post_attention_LSTM_dense_softmax_acc_2: 0.9996 - post_attention_LSTM_dense_softmax_acc_3: 0.9958 - post_attention_LSTM_dense_softmax_acc_4: 1.0000 - post_attention_LSTM_dense_softmax_acc_5: 1.0000 - post_attention_LSTM_dense_softmax_acc_6: 1.0000 - post_attention_LSTM_dense_softmax_acc_7: 1.0000 - post_attention_LSTM_dense_softmax_acc_8: 1.0000 - post_attention_LSTM_dense_softmax_acc_9: 1.0000\n",
      "Epoch 164/200\n",
      " - 27s - loss: 0.0227 - post_attention_LSTM_dense_softmax_loss: 3.1781e-04 - post_attention_LSTM_dense_softmax_acc: 0.9999 - post_attention_LSTM_dense_softmax_acc_1: 0.9999 - post_attention_LSTM_dense_softmax_acc_2: 0.9996 - post_attention_LSTM_dense_softmax_acc_3: 0.9957 - post_attention_LSTM_dense_softmax_acc_4: 1.0000 - post_attention_LSTM_dense_softmax_acc_5: 1.0000 - post_attention_LSTM_dense_softmax_acc_6: 1.0000 - post_attention_LSTM_dense_softmax_acc_7: 1.0000 - post_attention_LSTM_dense_softmax_acc_8: 1.0000 - post_attention_LSTM_dense_softmax_acc_9: 1.0000\n",
      "Epoch 165/200\n",
      " - 27s - loss: 0.0226 - post_attention_LSTM_dense_softmax_loss: 3.1643e-04 - post_attention_LSTM_dense_softmax_acc: 0.9999 - post_attention_LSTM_dense_softmax_acc_1: 0.9999 - post_attention_LSTM_dense_softmax_acc_2: 0.9996 - post_attention_LSTM_dense_softmax_acc_3: 0.9958 - post_attention_LSTM_dense_softmax_acc_4: 1.0000 - post_attention_LSTM_dense_softmax_acc_5: 1.0000 - post_attention_LSTM_dense_softmax_acc_6: 1.0000 - post_attention_LSTM_dense_softmax_acc_7: 1.0000 - post_attention_LSTM_dense_softmax_acc_8: 1.0000 - post_attention_LSTM_dense_softmax_acc_9: 1.0000\n",
      "Epoch 166/200\n",
      " - 27s - loss: 0.0226 - post_attention_LSTM_dense_softmax_loss: 3.1692e-04 - post_attention_LSTM_dense_softmax_acc: 0.9999 - post_attention_LSTM_dense_softmax_acc_1: 0.9999 - post_attention_LSTM_dense_softmax_acc_2: 0.9996 - post_attention_LSTM_dense_softmax_acc_3: 0.9958 - post_attention_LSTM_dense_softmax_acc_4: 1.0000 - post_attention_LSTM_dense_softmax_acc_5: 1.0000 - post_attention_LSTM_dense_softmax_acc_6: 1.0000 - post_attention_LSTM_dense_softmax_acc_7: 1.0000 - post_attention_LSTM_dense_softmax_acc_8: 1.0000 - post_attention_LSTM_dense_softmax_acc_9: 1.0000\n",
      "Epoch 167/200\n",
      " - 27s - loss: 0.0225 - post_attention_LSTM_dense_softmax_loss: 3.2027e-04 - post_attention_LSTM_dense_softmax_acc: 0.9999 - post_attention_LSTM_dense_softmax_acc_1: 0.9999 - post_attention_LSTM_dense_softmax_acc_2: 0.9997 - post_attention_LSTM_dense_softmax_acc_3: 0.9958 - post_attention_LSTM_dense_softmax_acc_4: 1.0000 - post_attention_LSTM_dense_softmax_acc_5: 1.0000 - post_attention_LSTM_dense_softmax_acc_6: 1.0000 - post_attention_LSTM_dense_softmax_acc_7: 1.0000 - post_attention_LSTM_dense_softmax_acc_8: 1.0000 - post_attention_LSTM_dense_softmax_acc_9: 1.0000\n",
      "Epoch 168/200\n",
      " - 27s - loss: 0.0224 - post_attention_LSTM_dense_softmax_loss: 3.1319e-04 - post_attention_LSTM_dense_softmax_acc: 0.9999 - post_attention_LSTM_dense_softmax_acc_1: 0.9999 - post_attention_LSTM_dense_softmax_acc_2: 0.9996 - post_attention_LSTM_dense_softmax_acc_3: 0.9958 - post_attention_LSTM_dense_softmax_acc_4: 1.0000 - post_attention_LSTM_dense_softmax_acc_5: 1.0000 - post_attention_LSTM_dense_softmax_acc_6: 1.0000 - post_attention_LSTM_dense_softmax_acc_7: 1.0000 - post_attention_LSTM_dense_softmax_acc_8: 1.0000 - post_attention_LSTM_dense_softmax_acc_9: 1.0000\n",
      "Epoch 169/200\n",
      " - 27s - loss: 0.0224 - post_attention_LSTM_dense_softmax_loss: 3.1388e-04 - post_attention_LSTM_dense_softmax_acc: 0.9999 - post_attention_LSTM_dense_softmax_acc_1: 0.9999 - post_attention_LSTM_dense_softmax_acc_2: 0.9997 - post_attention_LSTM_dense_softmax_acc_3: 0.9957 - post_attention_LSTM_dense_softmax_acc_4: 1.0000 - post_attention_LSTM_dense_softmax_acc_5: 1.0000 - post_attention_LSTM_dense_softmax_acc_6: 1.0000 - post_attention_LSTM_dense_softmax_acc_7: 1.0000 - post_attention_LSTM_dense_softmax_acc_8: 1.0000 - post_attention_LSTM_dense_softmax_acc_9: 1.0000\n",
      "Epoch 170/200\n",
      " - 27s - loss: 0.0223 - post_attention_LSTM_dense_softmax_loss: 3.1229e-04 - post_attention_LSTM_dense_softmax_acc: 0.9999 - post_attention_LSTM_dense_softmax_acc_1: 0.9999 - post_attention_LSTM_dense_softmax_acc_2: 0.9996 - post_attention_LSTM_dense_softmax_acc_3: 0.9958 - post_attention_LSTM_dense_softmax_acc_4: 1.0000 - post_attention_LSTM_dense_softmax_acc_5: 1.0000 - post_attention_LSTM_dense_softmax_acc_6: 1.0000 - post_attention_LSTM_dense_softmax_acc_7: 1.0000 - post_attention_LSTM_dense_softmax_acc_8: 1.0000 - post_attention_LSTM_dense_softmax_acc_9: 1.0000\n",
      "Epoch 171/200\n",
      " - 27s - loss: 0.0222 - post_attention_LSTM_dense_softmax_loss: 3.1143e-04 - post_attention_LSTM_dense_softmax_acc: 1.0000 - post_attention_LSTM_dense_softmax_acc_1: 0.9999 - post_attention_LSTM_dense_softmax_acc_2: 0.9997 - post_attention_LSTM_dense_softmax_acc_3: 0.9958 - post_attention_LSTM_dense_softmax_acc_4: 1.0000 - post_attention_LSTM_dense_softmax_acc_5: 1.0000 - post_attention_LSTM_dense_softmax_acc_6: 1.0000 - post_attention_LSTM_dense_softmax_acc_7: 1.0000 - post_attention_LSTM_dense_softmax_acc_8: 1.0000 - post_attention_LSTM_dense_softmax_acc_9: 1.0000\n",
      "Epoch 172/200\n",
      " - 27s - loss: 0.0221 - post_attention_LSTM_dense_softmax_loss: 3.0931e-04 - post_attention_LSTM_dense_softmax_acc: 0.9999 - post_attention_LSTM_dense_softmax_acc_1: 0.9999 - post_attention_LSTM_dense_softmax_acc_2: 0.9997 - post_attention_LSTM_dense_softmax_acc_3: 0.9958 - post_attention_LSTM_dense_softmax_acc_4: 1.0000 - post_attention_LSTM_dense_softmax_acc_5: 1.0000 - post_attention_LSTM_dense_softmax_acc_6: 1.0000 - post_attention_LSTM_dense_softmax_acc_7: 1.0000 - post_attention_LSTM_dense_softmax_acc_8: 1.0000 - post_attention_LSTM_dense_softmax_acc_9: 1.0000\n",
      "Epoch 173/200\n",
      " - 27s - loss: 0.0222 - post_attention_LSTM_dense_softmax_loss: 3.0815e-04 - post_attention_LSTM_dense_softmax_acc: 0.9999 - post_attention_LSTM_dense_softmax_acc_1: 0.9999 - post_attention_LSTM_dense_softmax_acc_2: 0.9997 - post_attention_LSTM_dense_softmax_acc_3: 0.9958 - post_attention_LSTM_dense_softmax_acc_4: 1.0000 - post_attention_LSTM_dense_softmax_acc_5: 1.0000 - post_attention_LSTM_dense_softmax_acc_6: 1.0000 - post_attention_LSTM_dense_softmax_acc_7: 1.0000 - post_attention_LSTM_dense_softmax_acc_8: 1.0000 - post_attention_LSTM_dense_softmax_acc_9: 1.0000\n",
      "Epoch 174/200\n",
      " - 27s - loss: 0.0222 - post_attention_LSTM_dense_softmax_loss: 3.0844e-04 - post_attention_LSTM_dense_softmax_acc: 0.9999 - post_attention_LSTM_dense_softmax_acc_1: 0.9999 - post_attention_LSTM_dense_softmax_acc_2: 0.9996 - post_attention_LSTM_dense_softmax_acc_3: 0.9958 - post_attention_LSTM_dense_softmax_acc_4: 1.0000 - post_attention_LSTM_dense_softmax_acc_5: 1.0000 - post_attention_LSTM_dense_softmax_acc_6: 1.0000 - post_attention_LSTM_dense_softmax_acc_7: 1.0000 - post_attention_LSTM_dense_softmax_acc_8: 1.0000 - post_attention_LSTM_dense_softmax_acc_9: 1.0000\n",
      "Epoch 175/200\n",
      " - 27s - loss: 0.0219 - post_attention_LSTM_dense_softmax_loss: 3.0763e-04 - post_attention_LSTM_dense_softmax_acc: 0.9999 - post_attention_LSTM_dense_softmax_acc_1: 0.9999 - post_attention_LSTM_dense_softmax_acc_2: 0.9996 - post_attention_LSTM_dense_softmax_acc_3: 0.9958 - post_attention_LSTM_dense_softmax_acc_4: 1.0000 - post_attention_LSTM_dense_softmax_acc_5: 1.0000 - post_attention_LSTM_dense_softmax_acc_6: 1.0000 - post_attention_LSTM_dense_softmax_acc_7: 1.0000 - post_attention_LSTM_dense_softmax_acc_8: 1.0000 - post_attention_LSTM_dense_softmax_acc_9: 1.0000\n",
      "Epoch 176/200\n",
      " - 27s - loss: 0.0220 - post_attention_LSTM_dense_softmax_loss: 3.0571e-04 - post_attention_LSTM_dense_softmax_acc: 0.9999 - post_attention_LSTM_dense_softmax_acc_1: 0.9999 - post_attention_LSTM_dense_softmax_acc_2: 0.9996 - post_attention_LSTM_dense_softmax_acc_3: 0.9958 - post_attention_LSTM_dense_softmax_acc_4: 1.0000 - post_attention_LSTM_dense_softmax_acc_5: 1.0000 - post_attention_LSTM_dense_softmax_acc_6: 1.0000 - post_attention_LSTM_dense_softmax_acc_7: 1.0000 - post_attention_LSTM_dense_softmax_acc_8: 1.0000 - post_attention_LSTM_dense_softmax_acc_9: 1.0000\n",
      "Epoch 177/200\n",
      " - 27s - loss: 0.0222 - post_attention_LSTM_dense_softmax_loss: 3.0541e-04 - post_attention_LSTM_dense_softmax_acc: 0.9999 - post_attention_LSTM_dense_softmax_acc_1: 0.9999 - post_attention_LSTM_dense_softmax_acc_2: 0.9996 - post_attention_LSTM_dense_softmax_acc_3: 0.9958 - post_attention_LSTM_dense_softmax_acc_4: 1.0000 - post_attention_LSTM_dense_softmax_acc_5: 1.0000 - post_attention_LSTM_dense_softmax_acc_6: 1.0000 - post_attention_LSTM_dense_softmax_acc_7: 1.0000 - post_attention_LSTM_dense_softmax_acc_8: 1.0000 - post_attention_LSTM_dense_softmax_acc_9: 1.0000\n",
      "Epoch 178/200\n",
      " - 27s - loss: 0.0220 - post_attention_LSTM_dense_softmax_loss: 3.0371e-04 - post_attention_LSTM_dense_softmax_acc: 0.9999 - post_attention_LSTM_dense_softmax_acc_1: 0.9999 - post_attention_LSTM_dense_softmax_acc_2: 0.9996 - post_attention_LSTM_dense_softmax_acc_3: 0.9958 - post_attention_LSTM_dense_softmax_acc_4: 1.0000 - post_attention_LSTM_dense_softmax_acc_5: 1.0000 - post_attention_LSTM_dense_softmax_acc_6: 1.0000 - post_attention_LSTM_dense_softmax_acc_7: 1.0000 - post_attention_LSTM_dense_softmax_acc_8: 1.0000 - post_attention_LSTM_dense_softmax_acc_9: 1.0000\n",
      "Epoch 179/200\n",
      " - 27s - loss: 0.0218 - post_attention_LSTM_dense_softmax_loss: 3.0236e-04 - post_attention_LSTM_dense_softmax_acc: 0.9999 - post_attention_LSTM_dense_softmax_acc_1: 0.9999 - post_attention_LSTM_dense_softmax_acc_2: 0.9997 - post_attention_LSTM_dense_softmax_acc_3: 0.9958 - post_attention_LSTM_dense_softmax_acc_4: 1.0000 - post_attention_LSTM_dense_softmax_acc_5: 1.0000 - post_attention_LSTM_dense_softmax_acc_6: 1.0000 - post_attention_LSTM_dense_softmax_acc_7: 1.0000 - post_attention_LSTM_dense_softmax_acc_8: 1.0000 - post_attention_LSTM_dense_softmax_acc_9: 1.0000\n",
      "Epoch 180/200\n",
      " - 27s - loss: 0.0217 - post_attention_LSTM_dense_softmax_loss: 3.0342e-04 - post_attention_LSTM_dense_softmax_acc: 0.9999 - post_attention_LSTM_dense_softmax_acc_1: 0.9999 - post_attention_LSTM_dense_softmax_acc_2: 0.9996 - post_attention_LSTM_dense_softmax_acc_3: 0.9958 - post_attention_LSTM_dense_softmax_acc_4: 1.0000 - post_attention_LSTM_dense_softmax_acc_5: 1.0000 - post_attention_LSTM_dense_softmax_acc_6: 1.0000 - post_attention_LSTM_dense_softmax_acc_7: 1.0000 - post_attention_LSTM_dense_softmax_acc_8: 1.0000 - post_attention_LSTM_dense_softmax_acc_9: 1.0000\n",
      "Epoch 181/200\n",
      " - 26s - loss: 0.0217 - post_attention_LSTM_dense_softmax_loss: 2.9997e-04 - post_attention_LSTM_dense_softmax_acc: 0.9999 - post_attention_LSTM_dense_softmax_acc_1: 0.9999 - post_attention_LSTM_dense_softmax_acc_2: 0.9996 - post_attention_LSTM_dense_softmax_acc_3: 0.9958 - post_attention_LSTM_dense_softmax_acc_4: 1.0000 - post_attention_LSTM_dense_softmax_acc_5: 1.0000 - post_attention_LSTM_dense_softmax_acc_6: 1.0000 - post_attention_LSTM_dense_softmax_acc_7: 1.0000 - post_attention_LSTM_dense_softmax_acc_8: 1.0000 - post_attention_LSTM_dense_softmax_acc_9: 1.0000\n",
      "Epoch 182/200\n",
      " - 26s - loss: 0.0218 - post_attention_LSTM_dense_softmax_loss: 3.0049e-04 - post_attention_LSTM_dense_softmax_acc: 0.9999 - post_attention_LSTM_dense_softmax_acc_1: 0.9999 - post_attention_LSTM_dense_softmax_acc_2: 0.9996 - post_attention_LSTM_dense_softmax_acc_3: 0.9958 - post_attention_LSTM_dense_softmax_acc_4: 1.0000 - post_attention_LSTM_dense_softmax_acc_5: 1.0000 - post_attention_LSTM_dense_softmax_acc_6: 1.0000 - post_attention_LSTM_dense_softmax_acc_7: 1.0000 - post_attention_LSTM_dense_softmax_acc_8: 1.0000 - post_attention_LSTM_dense_softmax_acc_9: 1.0000\n",
      "Epoch 183/200\n",
      " - 27s - loss: 0.0217 - post_attention_LSTM_dense_softmax_loss: 3.0064e-04 - post_attention_LSTM_dense_softmax_acc: 0.9999 - post_attention_LSTM_dense_softmax_acc_1: 0.9999 - post_attention_LSTM_dense_softmax_acc_2: 0.9997 - post_attention_LSTM_dense_softmax_acc_3: 0.9958 - post_attention_LSTM_dense_softmax_acc_4: 1.0000 - post_attention_LSTM_dense_softmax_acc_5: 1.0000 - post_attention_LSTM_dense_softmax_acc_6: 1.0000 - post_attention_LSTM_dense_softmax_acc_7: 1.0000 - post_attention_LSTM_dense_softmax_acc_8: 1.0000 - post_attention_LSTM_dense_softmax_acc_9: 1.0000\n",
      "Epoch 184/200\n",
      " - 27s - loss: 0.0216 - post_attention_LSTM_dense_softmax_loss: 2.9831e-04 - post_attention_LSTM_dense_softmax_acc: 0.9999 - post_attention_LSTM_dense_softmax_acc_1: 0.9999 - post_attention_LSTM_dense_softmax_acc_2: 0.9996 - post_attention_LSTM_dense_softmax_acc_3: 0.9959 - post_attention_LSTM_dense_softmax_acc_4: 1.0000 - post_attention_LSTM_dense_softmax_acc_5: 1.0000 - post_attention_LSTM_dense_softmax_acc_6: 1.0000 - post_attention_LSTM_dense_softmax_acc_7: 1.0000 - post_attention_LSTM_dense_softmax_acc_8: 1.0000 - post_attention_LSTM_dense_softmax_acc_9: 1.0000\n",
      "Epoch 185/200\n",
      " - 27s - loss: 0.0216 - post_attention_LSTM_dense_softmax_loss: 2.9605e-04 - post_attention_LSTM_dense_softmax_acc: 0.9999 - post_attention_LSTM_dense_softmax_acc_1: 0.9999 - post_attention_LSTM_dense_softmax_acc_2: 0.9996 - post_attention_LSTM_dense_softmax_acc_3: 0.9958 - post_attention_LSTM_dense_softmax_acc_4: 1.0000 - post_attention_LSTM_dense_softmax_acc_5: 1.0000 - post_attention_LSTM_dense_softmax_acc_6: 1.0000 - post_attention_LSTM_dense_softmax_acc_7: 1.0000 - post_attention_LSTM_dense_softmax_acc_8: 1.0000 - post_attention_LSTM_dense_softmax_acc_9: 1.0000\n",
      "Epoch 186/200\n",
      " - 27s - loss: 0.0215 - post_attention_LSTM_dense_softmax_loss: 2.9604e-04 - post_attention_LSTM_dense_softmax_acc: 0.9999 - post_attention_LSTM_dense_softmax_acc_1: 0.9999 - post_attention_LSTM_dense_softmax_acc_2: 0.9996 - post_attention_LSTM_dense_softmax_acc_3: 0.9957 - post_attention_LSTM_dense_softmax_acc_4: 1.0000 - post_attention_LSTM_dense_softmax_acc_5: 1.0000 - post_attention_LSTM_dense_softmax_acc_6: 1.0000 - post_attention_LSTM_dense_softmax_acc_7: 1.0000 - post_attention_LSTM_dense_softmax_acc_8: 1.0000 - post_attention_LSTM_dense_softmax_acc_9: 1.0000\n",
      "Epoch 187/200\n",
      " - 27s - loss: 0.0215 - post_attention_LSTM_dense_softmax_loss: 2.9365e-04 - post_attention_LSTM_dense_softmax_acc: 0.9999 - post_attention_LSTM_dense_softmax_acc_1: 0.9999 - post_attention_LSTM_dense_softmax_acc_2: 0.9996 - post_attention_LSTM_dense_softmax_acc_3: 0.9958 - post_attention_LSTM_dense_softmax_acc_4: 1.0000 - post_attention_LSTM_dense_softmax_acc_5: 1.0000 - post_attention_LSTM_dense_softmax_acc_6: 1.0000 - post_attention_LSTM_dense_softmax_acc_7: 1.0000 - post_attention_LSTM_dense_softmax_acc_8: 1.0000 - post_attention_LSTM_dense_softmax_acc_9: 1.0000\n",
      "Epoch 188/200\n",
      " - 27s - loss: 0.0214 - post_attention_LSTM_dense_softmax_loss: 2.9406e-04 - post_attention_LSTM_dense_softmax_acc: 0.9999 - post_attention_LSTM_dense_softmax_acc_1: 0.9999 - post_attention_LSTM_dense_softmax_acc_2: 0.9996 - post_attention_LSTM_dense_softmax_acc_3: 0.9958 - post_attention_LSTM_dense_softmax_acc_4: 1.0000 - post_attention_LSTM_dense_softmax_acc_5: 1.0000 - post_attention_LSTM_dense_softmax_acc_6: 1.0000 - post_attention_LSTM_dense_softmax_acc_7: 1.0000 - post_attention_LSTM_dense_softmax_acc_8: 1.0000 - post_attention_LSTM_dense_softmax_acc_9: 1.0000\n",
      "Epoch 189/200\n",
      " - 27s - loss: 0.0215 - post_attention_LSTM_dense_softmax_loss: 2.9497e-04 - post_attention_LSTM_dense_softmax_acc: 0.9999 - post_attention_LSTM_dense_softmax_acc_1: 0.9999 - post_attention_LSTM_dense_softmax_acc_2: 0.9996 - post_attention_LSTM_dense_softmax_acc_3: 0.9958 - post_attention_LSTM_dense_softmax_acc_4: 1.0000 - post_attention_LSTM_dense_softmax_acc_5: 1.0000 - post_attention_LSTM_dense_softmax_acc_6: 1.0000 - post_attention_LSTM_dense_softmax_acc_7: 1.0000 - post_attention_LSTM_dense_softmax_acc_8: 1.0000 - post_attention_LSTM_dense_softmax_acc_9: 1.0000\n",
      "Epoch 190/200\n",
      " - 26s - loss: 0.0211 - post_attention_LSTM_dense_softmax_loss: 2.9261e-04 - post_attention_LSTM_dense_softmax_acc: 0.9999 - post_attention_LSTM_dense_softmax_acc_1: 0.9999 - post_attention_LSTM_dense_softmax_acc_2: 0.9996 - post_attention_LSTM_dense_softmax_acc_3: 0.9958 - post_attention_LSTM_dense_softmax_acc_4: 1.0000 - post_attention_LSTM_dense_softmax_acc_5: 1.0000 - post_attention_LSTM_dense_softmax_acc_6: 1.0000 - post_attention_LSTM_dense_softmax_acc_7: 1.0000 - post_attention_LSTM_dense_softmax_acc_8: 1.0000 - post_attention_LSTM_dense_softmax_acc_9: 1.0000\n",
      "Epoch 191/200\n",
      " - 26s - loss: 0.0213 - post_attention_LSTM_dense_softmax_loss: 2.8964e-04 - post_attention_LSTM_dense_softmax_acc: 0.9999 - post_attention_LSTM_dense_softmax_acc_1: 0.9999 - post_attention_LSTM_dense_softmax_acc_2: 0.9997 - post_attention_LSTM_dense_softmax_acc_3: 0.9959 - post_attention_LSTM_dense_softmax_acc_4: 1.0000 - post_attention_LSTM_dense_softmax_acc_5: 1.0000 - post_attention_LSTM_dense_softmax_acc_6: 1.0000 - post_attention_LSTM_dense_softmax_acc_7: 1.0000 - post_attention_LSTM_dense_softmax_acc_8: 1.0000 - post_attention_LSTM_dense_softmax_acc_9: 1.0000\n",
      "Epoch 192/200\n",
      " - 27s - loss: 0.0213 - post_attention_LSTM_dense_softmax_loss: 2.9047e-04 - post_attention_LSTM_dense_softmax_acc: 0.9999 - post_attention_LSTM_dense_softmax_acc_1: 0.9999 - post_attention_LSTM_dense_softmax_acc_2: 0.9996 - post_attention_LSTM_dense_softmax_acc_3: 0.9959 - post_attention_LSTM_dense_softmax_acc_4: 1.0000 - post_attention_LSTM_dense_softmax_acc_5: 1.0000 - post_attention_LSTM_dense_softmax_acc_6: 1.0000 - post_attention_LSTM_dense_softmax_acc_7: 1.0000 - post_attention_LSTM_dense_softmax_acc_8: 1.0000 - post_attention_LSTM_dense_softmax_acc_9: 1.0000\n",
      "Epoch 193/200\n",
      " - 27s - loss: 0.0212 - post_attention_LSTM_dense_softmax_loss: 2.8946e-04 - post_attention_LSTM_dense_softmax_acc: 0.9999 - post_attention_LSTM_dense_softmax_acc_1: 0.9999 - post_attention_LSTM_dense_softmax_acc_2: 0.9996 - post_attention_LSTM_dense_softmax_acc_3: 0.9959 - post_attention_LSTM_dense_softmax_acc_4: 1.0000 - post_attention_LSTM_dense_softmax_acc_5: 1.0000 - post_attention_LSTM_dense_softmax_acc_6: 1.0000 - post_attention_LSTM_dense_softmax_acc_7: 1.0000 - post_attention_LSTM_dense_softmax_acc_8: 1.0000 - post_attention_LSTM_dense_softmax_acc_9: 1.0000\n",
      "Epoch 194/200\n",
      " - 27s - loss: 0.0211 - post_attention_LSTM_dense_softmax_loss: 2.8958e-04 - post_attention_LSTM_dense_softmax_acc: 0.9999 - post_attention_LSTM_dense_softmax_acc_1: 0.9999 - post_attention_LSTM_dense_softmax_acc_2: 0.9996 - post_attention_LSTM_dense_softmax_acc_3: 0.9958 - post_attention_LSTM_dense_softmax_acc_4: 1.0000 - post_attention_LSTM_dense_softmax_acc_5: 1.0000 - post_attention_LSTM_dense_softmax_acc_6: 1.0000 - post_attention_LSTM_dense_softmax_acc_7: 1.0000 - post_attention_LSTM_dense_softmax_acc_8: 1.0000 - post_attention_LSTM_dense_softmax_acc_9: 1.0000\n",
      "Epoch 195/200\n",
      " - 27s - loss: 0.0211 - post_attention_LSTM_dense_softmax_loss: 2.8714e-04 - post_attention_LSTM_dense_softmax_acc: 0.9999 - post_attention_LSTM_dense_softmax_acc_1: 0.9999 - post_attention_LSTM_dense_softmax_acc_2: 0.9996 - post_attention_LSTM_dense_softmax_acc_3: 0.9958 - post_attention_LSTM_dense_softmax_acc_4: 1.0000 - post_attention_LSTM_dense_softmax_acc_5: 1.0000 - post_attention_LSTM_dense_softmax_acc_6: 1.0000 - post_attention_LSTM_dense_softmax_acc_7: 1.0000 - post_attention_LSTM_dense_softmax_acc_8: 1.0000 - post_attention_LSTM_dense_softmax_acc_9: 1.0000\n",
      "Epoch 196/200\n",
      " - 27s - loss: 0.0211 - post_attention_LSTM_dense_softmax_loss: 2.8610e-04 - post_attention_LSTM_dense_softmax_acc: 0.9999 - post_attention_LSTM_dense_softmax_acc_1: 0.9999 - post_attention_LSTM_dense_softmax_acc_2: 0.9996 - post_attention_LSTM_dense_softmax_acc_3: 0.9959 - post_attention_LSTM_dense_softmax_acc_4: 1.0000 - post_attention_LSTM_dense_softmax_acc_5: 1.0000 - post_attention_LSTM_dense_softmax_acc_6: 1.0000 - post_attention_LSTM_dense_softmax_acc_7: 1.0000 - post_attention_LSTM_dense_softmax_acc_8: 1.0000 - post_attention_LSTM_dense_softmax_acc_9: 1.0000\n",
      "Epoch 197/200\n",
      " - 27s - loss: 0.0209 - post_attention_LSTM_dense_softmax_loss: 2.8515e-04 - post_attention_LSTM_dense_softmax_acc: 0.9999 - post_attention_LSTM_dense_softmax_acc_1: 0.9999 - post_attention_LSTM_dense_softmax_acc_2: 0.9996 - post_attention_LSTM_dense_softmax_acc_3: 0.9959 - post_attention_LSTM_dense_softmax_acc_4: 1.0000 - post_attention_LSTM_dense_softmax_acc_5: 1.0000 - post_attention_LSTM_dense_softmax_acc_6: 1.0000 - post_attention_LSTM_dense_softmax_acc_7: 1.0000 - post_attention_LSTM_dense_softmax_acc_8: 1.0000 - post_attention_LSTM_dense_softmax_acc_9: 1.0000\n",
      "Epoch 198/200\n",
      " - 27s - loss: 0.0209 - post_attention_LSTM_dense_softmax_loss: 2.8836e-04 - post_attention_LSTM_dense_softmax_acc: 0.9999 - post_attention_LSTM_dense_softmax_acc_1: 0.9999 - post_attention_LSTM_dense_softmax_acc_2: 0.9996 - post_attention_LSTM_dense_softmax_acc_3: 0.9959 - post_attention_LSTM_dense_softmax_acc_4: 1.0000 - post_attention_LSTM_dense_softmax_acc_5: 1.0000 - post_attention_LSTM_dense_softmax_acc_6: 1.0000 - post_attention_LSTM_dense_softmax_acc_7: 1.0000 - post_attention_LSTM_dense_softmax_acc_8: 1.0000 - post_attention_LSTM_dense_softmax_acc_9: 1.0000\n",
      "Epoch 199/200\n",
      " - 27s - loss: 0.0208 - post_attention_LSTM_dense_softmax_loss: 2.8458e-04 - post_attention_LSTM_dense_softmax_acc: 1.0000 - post_attention_LSTM_dense_softmax_acc_1: 0.9999 - post_attention_LSTM_dense_softmax_acc_2: 0.9996 - post_attention_LSTM_dense_softmax_acc_3: 0.9958 - post_attention_LSTM_dense_softmax_acc_4: 1.0000 - post_attention_LSTM_dense_softmax_acc_5: 1.0000 - post_attention_LSTM_dense_softmax_acc_6: 1.0000 - post_attention_LSTM_dense_softmax_acc_7: 1.0000 - post_attention_LSTM_dense_softmax_acc_8: 1.0000 - post_attention_LSTM_dense_softmax_acc_9: 1.0000\n",
      "Epoch 200/200\n",
      " - 27s - loss: 0.0210 - post_attention_LSTM_dense_softmax_loss: 2.8186e-04 - post_attention_LSTM_dense_softmax_acc: 0.9999 - post_attention_LSTM_dense_softmax_acc_1: 0.9999 - post_attention_LSTM_dense_softmax_acc_2: 0.9996 - post_attention_LSTM_dense_softmax_acc_3: 0.9958 - post_attention_LSTM_dense_softmax_acc_4: 1.0000 - post_attention_LSTM_dense_softmax_acc_5: 1.0000 - post_attention_LSTM_dense_softmax_acc_6: 1.0000 - post_attention_LSTM_dense_softmax_acc_7: 1.0000 - post_attention_LSTM_dense_softmax_acc_8: 1.0000 - post_attention_LSTM_dense_softmax_acc_9: 1.0000\n"
     ]
    }
   ],
   "source": [
    "history = model.fit(x = [train_x, s0, c0], y = train_y, batch_size = 200, epochs = 200, verbose = 2)"
   ]
  },
  {
   "cell_type": "code",
   "execution_count": 26,
   "metadata": {
    "colab": {
     "base_uri": "https://localhost:8080/",
     "height": 34
    },
    "colab_type": "code",
    "id": "CY_QunyBLVhR",
    "outputId": "02b25cab-22c4-46c8-f81e-ed194b62d291"
   },
   "outputs": [
    {
     "name": "stdout",
     "output_type": "stream",
     "text": [
      "40000/40000 [==============================] - 69s 2ms/step\n"
     ]
    }
   ],
   "source": [
    "# since y is a list of Ty Numpy arrays, which means the model has multiple \n",
    "# outputs, the returned value is also a list of Ty scalars.\n",
    "s_init = np.zeros((m, n_s))\n",
    "c_init = np.zeros((m, n_s))\n",
    "preds = model.evaluate(x = [train_x, s_init, c_init], y = train_y) "
   ]
  },
  {
   "cell_type": "code",
   "execution_count": 27,
   "metadata": {
    "colab": {
     "base_uri": "https://localhost:8080/",
     "height": 51
    },
    "colab_type": "code",
    "id": "I05jtQ-eLVhU",
    "outputId": "9a9683f8-b005-4890-ef46-9f3e1826a106"
   },
   "outputs": [
    {
     "name": "stdout",
     "output_type": "stream",
     "text": [
      "Training Accuracy:\n",
      "[0.999925, 0.999875, 0.9996, 0.99595, 1.0, 1.0, 1.0, 1.0, 1.0, 1.0]\n"
     ]
    }
   ],
   "source": [
    "# print the accuracy for each of the Ty time steps\n",
    "print(\"Training Accuracy:\")\n",
    "print(preds[11:]) # check model.metrics_names for the meaning of each value in preds "
   ]
  },
  {
   "cell_type": "markdown",
   "metadata": {
    "colab_type": "text",
    "id": "04rUGUIILVhY"
   },
   "source": [
    "## 5. Model Testing\n",
    "\n",
    "We generate some random data and test the model accuracy."
   ]
  },
  {
   "cell_type": "code",
   "execution_count": 0,
   "metadata": {
    "colab": {},
    "colab_type": "code",
    "id": "mUZHGVx0LVha"
   },
   "outputs": [],
   "source": [
    "# function to test examples\n",
    "\n",
    "def test(examples):\n",
    "    \"\"\"\n",
    "    Test some examples.\n",
    "    \n",
    "    Argument:\n",
    "    examples: a list of tuples of (human readable date, machine readable date).\n",
    "    \"\"\"\n",
    "    \n",
    "    human_readable, machine_readable = zip(*examples)\n",
    "    m = len(human_readable)\n",
    "    s_initial = np.zeros((m, n_s))\n",
    "    c_initial = np.zeros((m, n_s))\n",
    "    predictions = [] # the predicted machine readable dates\n",
    "    \n",
    "    for example in human_readable:\n",
    "        example_index = string_to_ints(example.lower(), Tx, human_vocab)\n",
    "        example_oh = np.array(list(map(lambda x : to_categorical(x, num_classes = len(human_vocab)), example_index)))\n",
    "        example_oh = np.expand_dims(example_oh, 0) # insert axis = 0, so the dimension is (1, Tx, len(human_vocab))\n",
    "        prediction = model.predict(x = [example_oh, s_initial, c_initial])\n",
    "        prediction = np.argmax(prediction, axis = -1)\n",
    "        prediction = [inv_machine_vocab[i] for i in prediction.flatten().tolist()]\n",
    "        prediction = ''.join(prediction)\n",
    "        predictions.append(prediction)\n",
    "    \n",
    "    y = np.array(machine_readable)\n",
    "    y_pred = np.array(predictions)\n",
    "    acc = np.sum(y == y_pred) / len(y)\n",
    "    print('Test accuracy: ' + str(acc))\n",
    "    \n",
    "    # show 10 prediction examples\n",
    "    print('\\nSome translation results:')\n",
    "    for i in range(10):\n",
    "        print(human_readable[i] + ' ---> ' + predictions[i])"
   ]
  },
  {
   "cell_type": "code",
   "execution_count": 41,
   "metadata": {
    "colab": {
     "base_uri": "https://localhost:8080/",
     "height": 255
    },
    "colab_type": "code",
    "id": "sNUnvh1GLVhd",
    "outputId": "36374ed1-6578-48d0-e490-c01fa9199808"
   },
   "outputs": [
    {
     "name": "stderr",
     "output_type": "stream",
     "text": [
      "100%|██████████| 1000/1000 [00:00<00:00, 20870.30it/s]\n"
     ]
    },
    {
     "name": "stdout",
     "output_type": "stream",
     "text": [
      "Test accuracy: 0.996\n",
      "\n",
      "Some translation results:\n",
      " may 26 10 ---> 2010-05-26\n",
      " 22 nov 1983 ---> 1983-11-22\n",
      "1/28/78 ---> 1978-01-28\n",
      "wednesday sep 04 13 ---> 2013-09-04\n",
      "sun 31 may 09 ---> 2009-05-31\n",
      "wed 18 feb 81 ---> 1981-02-18\n",
      "tuesday 02 september 80 ---> 1980-09-02\n",
      "monday september 11 78 ---> 1978-09-11\n",
      "thu 12 jul 01 ---> 2001-07-12\n",
      "tuesday july 10 79 ---> 1979-07-10\n"
     ]
    }
   ],
   "source": [
    "examples, _, _, _ = generate_dataset(1000)\n",
    "test(examples)"
   ]
  },
  {
   "cell_type": "markdown",
   "metadata": {
    "colab_type": "text",
    "id": "WPglyo3BLVhf"
   },
   "source": [
    "## 6. Visualizing Attention\n",
    "\n",
    "One advantage of the attention model is that each part of the output (say the month) knows it needs to depend only on a small part of the input (the characters in the input giving the month). We can  visualize what part of the output is looking at what part of the input.\n",
    "\n",
    "We'll propagate an example through the network, then visualize the values of $\\alpha^{\\langle t, t' \\rangle}$. "
   ]
  },
  {
   "cell_type": "code",
   "execution_count": 0,
   "metadata": {
    "colab": {},
    "colab_type": "code",
    "id": "8X48IvftLVhg"
   },
   "outputs": [],
   "source": [
    "def plot_attention_map(model, Tx, Ty, model_layer, human_vocab, inv_machine_vocab, example):\n",
    "    \"\"\"\n",
    "    Visualize the attention values. model_layer is the layer# of the model for outputting attention weights.\n",
    "    \"\"\"\n",
    "    \n",
    "    attention_map = np.zeros((Ty, Tx)) # attantion map matrix to be plotted\n",
    "    s_initial = np.zeros((1, n_s))\n",
    "    c_initial = np.zeros((1, n_s))\n",
    "    \n",
    "    example_index = string_to_ints(example.lower(), Tx, human_vocab)\n",
    "    example_oh = np.array(list(map(lambda x : to_categorical(x, num_classes = len(human_vocab)), example_index)))\n",
    "    example_oh = np.expand_dims(example_oh, 0) # insert axis = 0, so the dimension is (1, Tx, len(human_vocab))\n",
    "   \n",
    "    layer = model.layers[model_layer]\n",
    "    func = K.function(model.inputs, [layer.get_output_at(t) for t in range(Ty)])\n",
    "    attention_weights = func([example_oh, s_initial, c_initial]) # get attention weights, shape (Ty, 1, Tx, 1)\n",
    "    \n",
    "    # fill in attention_map\n",
    "    for t in range(Ty):\n",
    "        for t_prime in range(Tx):\n",
    "            attention_map[t][t_prime] = attention_weights[t][0][t_prime][0]\n",
    "    \n",
    "    # get the predicted string, as a list of characters\n",
    "    prediction = model.predict(x = [example_oh, s_initial, c_initial])\n",
    "    prediction = np.argmax(prediction, axis = -1)\n",
    "    prediction = [inv_machine_vocab[i] for i in prediction.flatten().tolist()]\n",
    "    \n",
    "    # lengths of the input and output strings to be plotted\n",
    "    out_length = len(prediction)\n",
    "    in_length = len(example)\n",
    "    \n",
    "    # prepare the figure\n",
    "    figure = plt.figure(figsize = (8, 8.5))\n",
    "    ax = figure.add_subplot(1, 1, 1)\n",
    "    img = ax.imshow(attention_map, interpolation = 'nearest', cmap = 'Blues')\n",
    "    ax.set_yticks(range(out_length))\n",
    "    ax.set_yticklabels(prediction)\n",
    "    ax.set_ylabel('Output Sequence')\n",
    "    ax.set_xticks(range(in_length))\n",
    "    ax.set_xticklabels(example, rotation = 45)\n",
    "    ax.set_xlabel('Input Sequence')\n",
    "    ax.grid()\n",
    "    # add colorbar\n",
    "    cbaraxes = figure.add_axes([0.13, 0.28, 0.75, 0.03]) # [left, bottom, width, height] \n",
    "    figure.colorbar(mappable = img, cax = cbaraxes, orientation = 'horizontal')\n",
    "    cbaraxes.set_xlabel('color bar')\n",
    "    \n",
    "    print('Input: ' + example)\n",
    "    print('Output: ' + ''.join(prediction))\n",
    "    \n",
    "    return attention_map"
   ]
  },
  {
   "cell_type": "code",
   "execution_count": 51,
   "metadata": {
    "colab": {
     "base_uri": "https://localhost:8080/",
     "height": 310
    },
    "colab_type": "code",
    "id": "qgGl38NgLVhj",
    "outputId": "da268b97-f34f-41f8-8c68-6a44cf742b93"
   },
   "outputs": [
    {
     "name": "stdout",
     "output_type": "stream",
     "text": [
      "Input: Wednesday Jul 9 2009\n",
      "Output: 2009-07-09\n"
     ]
    },
    {
     "data": {
      "image/png": "[encoded data removed]",
      "text/plain": [
       "<Figure size 576x612 with 2 Axes>"
      ]
     },
     "metadata": {
      "tags": []
     },
     "output_type": "display_data"
    }
   ],
   "source": [
    "attention_map = plot_attention_map(model, Tx, Ty, 7, human_vocab, inv_machine_vocab, 'Wednesday Jul 9 2009')"
   ]
  },
  {
   "cell_type": "code",
   "execution_count": 52,
   "metadata": {
    "colab": {
     "base_uri": "https://localhost:8080/",
     "height": 310
    },
    "colab_type": "code",
    "id": "K_rK_RCnLVhl",
    "outputId": "f6e7f5ea-7d4f-47ca-da4b-73aa47d20b04"
   },
   "outputs": [
    {
     "name": "stdout",
     "output_type": "stream",
     "text": [
      "Input: 10/15/1988\n",
      "Output: 1988-10-15\n"
     ]
    },
    {
     "data": {
      "image/png": "[encoded data removed]",
      "text/plain": [
       "<Figure size 576x612 with 2 Axes>"
      ]
     },
     "metadata": {
      "tags": []
     },
     "output_type": "display_data"
    }
   ],
   "source": [
    "attention_map = plot_attention_map(model, Tx, Ty, 7, human_vocab, inv_machine_vocab, '10/15/1988')"
   ]
  },
  {
   "cell_type": "code",
   "execution_count": 53,
   "metadata": {
    "colab": {
     "base_uri": "https://localhost:8080/",
     "height": 310
    },
    "colab_type": "code",
    "id": "fEXSBjzZLVhn",
    "outputId": "13315681-4d3f-493b-c0f1-75343764fd9f"
   },
   "outputs": [
    {
     "name": "stdout",
     "output_type": "stream",
     "text": [
      "Input: may 26 10\n",
      "Output: 2010-05-26\n"
     ]
    },
    {
     "data": {
      "image/png": "[encoded data removed]",
      "text/plain": [
       "<Figure size 576x612 with 2 Axes>"
      ]
     },
     "metadata": {
      "tags": []
     },
     "output_type": "display_data"
    }
   ],
   "source": [
    "attention_map = plot_attention_map(model, Tx, Ty, 7, human_vocab, inv_machine_vocab, 'may 26 10')"
   ]
  },
  {
   "cell_type": "code",
   "execution_count": 54,
   "metadata": {
    "colab": {
     "base_uri": "https://localhost:8080/",
     "height": 310
    },
    "colab_type": "code",
    "id": "YlnxdmxKLVhs",
    "outputId": "5db1bc7c-eda6-4296-ac77-5aef5aceb29f"
   },
   "outputs": [
    {
     "name": "stdout",
     "output_type": "stream",
     "text": [
      "Input: 10.15.88\n",
      "Output: 1988-10-15\n"
     ]
    },
    {
     "data": {
      "image/png": "[encoded data removed]",
      "text/plain": [
       "<Figure size 576x612 with 2 Axes>"
      ]
     },
     "metadata": {
      "tags": []
     },
     "output_type": "display_data"
    }
   ],
   "source": [
    "attention_map = plot_attention_map(model, Tx, Ty, 7, human_vocab, inv_machine_vocab, '10.15.88')"
   ]
  },
  {
   "cell_type": "markdown",
   "metadata": {
    "colab_type": "text",
    "id": "v2kA2B94t1Ov"
   },
   "source": [
    "## 7. Save Model"
   ]
  },
  {
   "cell_type": "code",
   "execution_count": null,
   "metadata": {
    "colab": {
     "base_uri": "https://localhost:8080/",
     "height": 377
    },
    "colab_type": "code",
    "id": "K2EGrf9ct4wF",
    "outputId": "7f4ecf64-6064-4042-97af-83333cdac8fd"
   },
   "outputs": [],
   "source": [
    "model.save('nmt_model.h5')"
   ]
  }
 ],
 "metadata": {
  "accelerator": "GPU",
  "colab": {
   "collapsed_sections": [],
   "name": "Neural Machine Translation.ipynb",
   "provenance": [],
   "version": "0.3.2"
  },
  "kernelspec": {
   "display_name": "Python 3",
   "language": "python",
   "name": "python3"
  },
  "language_info": {
   "codemirror_mode": {
    "name": "ipython",
    "version": 3
   },
   "file_extension": ".py",
   "mimetype": "text/x-python",
   "name": "python",
   "nbconvert_exporter": "python",
   "pygments_lexer": "ipython3",
   "version": "3.7.4"
  }
 },
 "nbformat": 4,
 "nbformat_minor": 1
}
